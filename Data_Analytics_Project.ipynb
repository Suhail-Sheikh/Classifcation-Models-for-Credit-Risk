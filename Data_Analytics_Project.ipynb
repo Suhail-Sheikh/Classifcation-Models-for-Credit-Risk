{
  "nbformat": 4,
  "nbformat_minor": 0,
  "metadata": {
    "colab": {
      "name": "Data Analytics Project",
      "provenance": [],
      "collapsed_sections": []
    },
    "kernelspec": {
      "display_name": "Python 3",
      "name": "python3"
    },
    "language_info": {
      "name": "python"
    }
  },
  "cells": [
    {
      "cell_type": "markdown",
      "metadata": {
        "id": "Nxq5emhosThA"
      },
      "source": [
        "Data Analytics Project \n",
        "\n",
        "Team :\n",
        "\n",
        "Suhail  - PES1UG19CS513\n",
        "\n",
        "Shreyas - PES1UG19CS464\n",
        "\n",
        "Srikar  - PES1UG19CS505\n",
        "\n"
      ]
    },
    {
      "cell_type": "markdown",
      "metadata": {
        "id": "mS8kqLj7snkC"
      },
      "source": [
        ""
      ]
    },
    {
      "cell_type": "markdown",
      "metadata": {
        "id": "wUh3gYMktAnQ"
      },
      "source": [
        "DATASET\n",
        "\n",
        "source : Kaggle\n",
        "\n",
        "\n",
        "\n",
        "Ref link : https://www.kaggle.com/kabure/predicting-credit-risk-model-pipeline\n",
        "\n",
        "og link: https://www.kaggle.com/yanpapadakis/credit-risk-model-gbm\n",
        "\n",
        "\n",
        "Problem Statement: \n",
        "Check DOC"
      ]
    },
    {
      "cell_type": "code",
      "metadata": {
        "colab": {
          "base_uri": "https://localhost:8080/"
        },
        "id": "Lu-1WOUkLi41",
        "outputId": "d8bd6017-208c-4c93-9334-10218a64e565"
      },
      "source": [
        "from google.colab import drive\n",
        "drive.mount('/content/drive')"
      ],
      "execution_count": null,
      "outputs": [
        {
          "output_type": "stream",
          "name": "stdout",
          "text": [
            "Mounted at /content/drive\n"
          ]
        }
      ]
    },
    {
      "cell_type": "code",
      "metadata": {
        "id": "xf2DTHW3q6kC"
      },
      "source": [
        ""
      ],
      "execution_count": null,
      "outputs": []
    },
    {
      "cell_type": "code",
      "metadata": {
        "id": "Wslt8X91wJ__"
      },
      "source": [
        "import pandas as pd\n",
        "import numpy as np"
      ],
      "execution_count": null,
      "outputs": []
    },
    {
      "cell_type": "code",
      "metadata": {
        "id": "tKTMbULErNA5"
      },
      "source": [
        ""
      ],
      "execution_count": null,
      "outputs": []
    },
    {
      "cell_type": "markdown",
      "metadata": {
        "id": "E9Une5RZxHWX"
      },
      "source": [
        "let the dataset name be ##dfile.csv## and store the dataset in your drive . please dont save it in any folders. mount the drive and paste."
      ]
    },
    {
      "cell_type": "code",
      "metadata": {
        "id": "hyJaVrqzwNas"
      },
      "source": [
        "filepath = '/content/drive/MyDrive/dfile.csv'      # example . mount your drive and browse for your file in the menu and get loaction \n",
        " \n",
        "df = pd.read_csv(filepath,encoding='latin',low_memory=False) #to be used with this specific dataset"
      ],
      "execution_count": null,
      "outputs": []
    },
    {
      "cell_type": "code",
      "metadata": {
        "id": "kOjp9D2ErNc5"
      },
      "source": [
        ""
      ],
      "execution_count": null,
      "outputs": []
    },
    {
      "cell_type": "code",
      "metadata": {
        "colab": {
          "base_uri": "https://localhost:8080/"
        },
        "id": "s1KbG5QbwYrN",
        "outputId": "88ef0b85-55d9-42c6-c2f3-6d4028d93eb5"
      },
      "source": [
        "#Initial dataset\n",
        "print(df)"
      ],
      "execution_count": null,
      "outputs": [
        {
          "output_type": "stream",
          "name": "stdout",
          "text": [
            "              id  member_id  loan_amnt  ...  total_cu_tl  inq_last_12m default_ind\n",
            "0        1077501    1296599       5000  ...          NaN           NaN           0\n",
            "1        1077430    1314167       2500  ...          NaN           NaN           1\n",
            "2        1077175    1313524       2400  ...          NaN           NaN           0\n",
            "3        1076863    1277178      10000  ...          NaN           NaN           0\n",
            "4        1075358    1311748       3000  ...          NaN           NaN           0\n",
            "...          ...        ...        ...  ...          ...           ...         ...\n",
            "855964  36371250   39102635      10000  ...          NaN           NaN           0\n",
            "855965  36441262   39152692      24000  ...          NaN           NaN           0\n",
            "855966  36271333   38982739      13000  ...          NaN           NaN           0\n",
            "855967  36490806   39222577      12000  ...          NaN           NaN           0\n",
            "855968  36271262   38982659      20000  ...          NaN           NaN           0\n",
            "\n",
            "[855969 rows x 73 columns]\n"
          ]
        }
      ]
    },
    {
      "cell_type": "code",
      "metadata": {
        "id": "SAS7EkaWrN7u"
      },
      "source": [
        ""
      ],
      "execution_count": null,
      "outputs": []
    },
    {
      "cell_type": "code",
      "metadata": {
        "colab": {
          "base_uri": "https://localhost:8080/"
        },
        "id": "snTB4ENJvzYP",
        "outputId": "51425347-7a91-4866-ccba-eb586002603f"
      },
      "source": [
        "#Finding missing values\n",
        "columns=list(df)  #all columns\n",
        "too_many_missing=[]\n",
        "for i in columns:\n",
        "  count=df[i].isnull().sum()\n",
        "  print(i,count)\n",
        "  if count>200000:\n",
        "    too_many_missing.append((i,count))"
      ],
      "execution_count": null,
      "outputs": [
        {
          "output_type": "stream",
          "name": "stdout",
          "text": [
            "id 0\n",
            "member_id 0\n",
            "loan_amnt 0\n",
            "funded_amnt 0\n",
            "funded_amnt_inv 0\n",
            "term 0\n",
            "int_rate 0\n",
            "installment 0\n",
            "grade 0\n",
            "sub_grade 0\n",
            "emp_title 49443\n",
            "emp_length 43061\n",
            "home_ownership 0\n",
            "annual_inc 0\n",
            "verification_status 0\n",
            "issue_d 0\n",
            "pymnt_plan 0\n",
            "desc 734157\n",
            "purpose 0\n",
            "title 33\n",
            "zip_code 0\n",
            "addr_state 0\n",
            "dti 0\n",
            "delinq_2yrs 0\n",
            "earliest_cr_line 0\n",
            "inq_last_6mths 0\n",
            "mths_since_last_delinq 439812\n",
            "mths_since_last_record 724785\n",
            "open_acc 0\n",
            "pub_rec 0\n",
            "revol_bal 0\n",
            "revol_util 446\n",
            "total_acc 0\n",
            "initial_list_status 0\n",
            "out_prncp 0\n",
            "out_prncp_inv 0\n",
            "total_pymnt 0\n",
            "total_pymnt_inv 0\n",
            "total_rec_prncp 0\n",
            "total_rec_int 0\n",
            "total_rec_late_fee 0\n",
            "recoveries 0\n",
            "collection_recovery_fee 0\n",
            "last_pymnt_d 8862\n",
            "last_pymnt_amnt 0\n",
            "next_pymnt_d 252971\n",
            "last_credit_pull_d 50\n",
            "collections_12_mths_ex_med 56\n",
            "mths_since_last_major_derog 642830\n",
            "policy_code 0\n",
            "application_type 0\n",
            "annual_inc_joint 855527\n",
            "dti_joint 855529\n",
            "verification_status_joint 855527\n",
            "acc_now_delinq 0\n",
            "tot_coll_amt 67313\n",
            "tot_cur_bal 67313\n",
            "open_acc_6m 842681\n",
            "open_il_6m 842681\n",
            "open_il_12m 842681\n",
            "open_il_24m 842681\n",
            "mths_since_rcnt_il 843035\n",
            "total_bal_il 842681\n",
            "il_util 844360\n",
            "open_rv_12m 842681\n",
            "open_rv_24m 842681\n",
            "max_bal_bc 842681\n",
            "all_util 842681\n",
            "total_rev_hi_lim 67313\n",
            "inq_fi 842681\n",
            "total_cu_tl 842681\n",
            "inq_last_12m 842681\n",
            "default_ind 0\n"
          ]
        }
      ]
    },
    {
      "cell_type": "code",
      "metadata": {
        "colab": {
          "base_uri": "https://localhost:8080/"
        },
        "id": "u-ReWbNszlVK",
        "outputId": "3bf06098-58a4-47ed-cb3c-7c34e29e6487"
      },
      "source": [
        "#Too many missing values\n",
        "for i in too_many_missing:\n",
        "  print(i[0],i[1])"
      ],
      "execution_count": null,
      "outputs": [
        {
          "output_type": "stream",
          "name": "stdout",
          "text": [
            "desc 734157\n",
            "mths_since_last_delinq 439812\n",
            "mths_since_last_record 724785\n",
            "next_pymnt_d 252971\n",
            "mths_since_last_major_derog 642830\n",
            "annual_inc_joint 855527\n",
            "dti_joint 855529\n",
            "verification_status_joint 855527\n",
            "open_acc_6m 842681\n",
            "open_il_6m 842681\n",
            "open_il_12m 842681\n",
            "open_il_24m 842681\n",
            "mths_since_rcnt_il 843035\n",
            "total_bal_il 842681\n",
            "il_util 844360\n",
            "open_rv_12m 842681\n",
            "open_rv_24m 842681\n",
            "max_bal_bc 842681\n",
            "all_util 842681\n",
            "inq_fi 842681\n",
            "total_cu_tl 842681\n",
            "inq_last_12m 842681\n"
          ]
        }
      ]
    },
    {
      "cell_type": "code",
      "metadata": {
        "colab": {
          "base_uri": "https://localhost:8080/"
        },
        "id": "mYb-djzL0lX4",
        "outputId": "bd12d91d-7540-4460-a94d-26d645193e09"
      },
      "source": [
        "#Dropping columns with too many missing values\n",
        "drop_cols=[]\n",
        "for i in too_many_missing:\n",
        "  drop_cols.append(i[0])\n",
        "for i in drop_cols:\n",
        "    df.drop(i,axis='columns',inplace=True)\n",
        "print(df)\n",
        "print(df.isnull().sum())"
      ],
      "execution_count": null,
      "outputs": [
        {
          "output_type": "stream",
          "name": "stdout",
          "text": [
            "              id  member_id  ...  total_rev_hi_lim  default_ind\n",
            "0        1077501    1296599  ...               NaN            0\n",
            "1        1077430    1314167  ...               NaN            1\n",
            "2        1077175    1313524  ...               NaN            0\n",
            "3        1076863    1277178  ...               NaN            0\n",
            "4        1075358    1311748  ...               NaN            0\n",
            "...          ...        ...  ...               ...          ...\n",
            "855964  36371250   39102635  ...           17100.0            0\n",
            "855965  36441262   39152692  ...           10200.0            0\n",
            "855966  36271333   38982739  ...           18000.0            0\n",
            "855967  36490806   39222577  ...           27000.0            0\n",
            "855968  36271262   38982659  ...           41700.0            0\n",
            "\n",
            "[855969 rows x 51 columns]\n",
            "id                                0\n",
            "member_id                         0\n",
            "loan_amnt                         0\n",
            "funded_amnt                       0\n",
            "funded_amnt_inv                   0\n",
            "term                              0\n",
            "int_rate                          0\n",
            "installment                       0\n",
            "grade                             0\n",
            "sub_grade                         0\n",
            "emp_title                     49443\n",
            "emp_length                    43061\n",
            "home_ownership                    0\n",
            "annual_inc                        0\n",
            "verification_status               0\n",
            "issue_d                           0\n",
            "pymnt_plan                        0\n",
            "purpose                           0\n",
            "title                            33\n",
            "zip_code                          0\n",
            "addr_state                        0\n",
            "dti                               0\n",
            "delinq_2yrs                       0\n",
            "earliest_cr_line                  0\n",
            "inq_last_6mths                    0\n",
            "open_acc                          0\n",
            "pub_rec                           0\n",
            "revol_bal                         0\n",
            "revol_util                      446\n",
            "total_acc                         0\n",
            "initial_list_status               0\n",
            "out_prncp                         0\n",
            "out_prncp_inv                     0\n",
            "total_pymnt                       0\n",
            "total_pymnt_inv                   0\n",
            "total_rec_prncp                   0\n",
            "total_rec_int                     0\n",
            "total_rec_late_fee                0\n",
            "recoveries                        0\n",
            "collection_recovery_fee           0\n",
            "last_pymnt_d                   8862\n",
            "last_pymnt_amnt                   0\n",
            "last_credit_pull_d               50\n",
            "collections_12_mths_ex_med       56\n",
            "policy_code                       0\n",
            "application_type                  0\n",
            "acc_now_delinq                    0\n",
            "tot_coll_amt                  67313\n",
            "tot_cur_bal                   67313\n",
            "total_rev_hi_lim              67313\n",
            "default_ind                       0\n",
            "dtype: int64\n"
          ]
        }
      ]
    },
    {
      "cell_type": "code",
      "metadata": {
        "colab": {
          "base_uri": "https://localhost:8080/"
        },
        "id": "vVrEqtMJ24_U",
        "outputId": "022a2587-1d3f-4ec0-e753-55b358959ee8"
      },
      "source": [
        "#Replace by \"unknown\"\n",
        "df[\"last_pymnt_d\"].fillna(\"Unknown\", inplace = True)\n",
        "df[\"last_credit_pull_d\"].fillna(\"Unknown\", inplace = True)\n",
        "print(df[\"last_pymnt_d\"].isnull().sum())\n",
        "print(df[\"last_credit_pull_d\"].isnull().sum())"
      ],
      "execution_count": null,
      "outputs": [
        {
          "output_type": "stream",
          "name": "stdout",
          "text": [
            "0\n",
            "0\n"
          ]
        }
      ]
    },
    {
      "cell_type": "code",
      "metadata": {
        "colab": {
          "base_uri": "https://localhost:8080/"
        },
        "id": "pDATMfOyABGQ",
        "outputId": "11b0ae53-f092-4c2f-e291-3a9e7bbb92f8"
      },
      "source": [
        "#Replace categorical columns by MODE\n",
        "category_columns=['emp_title','emp_length','title','collections_12_mths_ex_med']\n",
        "\n",
        "for col in category_columns:\n",
        "  df[col] = df[col].fillna(df[col].mode()[0])\n",
        "\n",
        "for col in category_columns:\n",
        "  print(df[col].isnull().sum())"
      ],
      "execution_count": null,
      "outputs": [
        {
          "output_type": "stream",
          "name": "stdout",
          "text": [
            "0\n",
            "0\n",
            "0\n",
            "0\n"
          ]
        }
      ]
    },
    {
      "cell_type": "code",
      "metadata": {
        "colab": {
          "base_uri": "https://localhost:8080/"
        },
        "id": "mFPAEK1gD42H",
        "outputId": "c7090243-7eb3-49b5-ffa4-055b3d3f31fc"
      },
      "source": [
        "#Replace quantitative variables by MEAN\n",
        "integer_columns=['tot_coll_amt','tot_cur_bal','total_rev_hi_lim','revol_util']\n",
        "for col in integer_columns:\n",
        "  df[col] = df[col].fillna(df[col].mean())\n",
        "\n",
        "for col in integer_columns:\n",
        "  print(df[col].isnull().sum())"
      ],
      "execution_count": null,
      "outputs": [
        {
          "output_type": "stream",
          "name": "stdout",
          "text": [
            "0\n",
            "0\n",
            "0\n",
            "0\n"
          ]
        }
      ]
    },
    {
      "cell_type": "code",
      "metadata": {
        "id": "92dLVQJoEXLh"
      },
      "source": [
        "#OUTLIERS\n",
        "quantitative=[]\n",
        "qualitative=[]\n",
        "for col in df:\n",
        "  if df[col].dtype=='int64' or df[col].dtype=='float64':\n",
        "    quantitative.append(col)\n",
        "  else:\n",
        "      qualitative.append(col)\n",
        "quantitative.remove('id')\n",
        "quantitative.remove('member_id')\n",
        "#print(qualitative)\n",
        "#print(quantitative)\n"
      ],
      "execution_count": null,
      "outputs": []
    },
    {
      "cell_type": "code",
      "metadata": {
        "colab": {
          "base_uri": "https://localhost:8080/",
          "height": 1000
        },
        "id": "alLfEP3HMbx0",
        "outputId": "29f508b4-a86a-4388-843b-57875b23a662"
      },
      "source": [
        "import matplotlib.pyplot as plt\n",
        "col_levels = dict()\n",
        "nrows = len(df)\n",
        "for col in qualitative:\n",
        "    sm = df[col].describe()\n",
        "    col_levels[col] = sm['unique']\n",
        "    print(sm)\n",
        "    print(col,' Missing Rate = {:.2%}'.format(1-df[col].count()/nrows))\n",
        "    if col_levels[col] < 8:\n",
        "        df[col].value_counts().plot.bar(title=col)\n",
        "    else:\n",
        "        df[col].value_counts().plot(logy=True, title=col)\n",
        "    plt.show()"
      ],
      "execution_count": null,
      "outputs": [
        {
          "output_type": "stream",
          "name": "stdout",
          "text": [
            "count         855969\n",
            "unique             2\n",
            "top        36 months\n",
            "freq          600221\n",
            "Name: term, dtype: object\n",
            "term  Missing Rate = 0.00%\n"
          ]
        },
        {
          "output_type": "display_data",
          "data": {
            "image/png": "[encoded data removed]",
            "text/plain": [
              "<Figure size 432x288 with 1 Axes>"
            ]
          },
          "metadata": {
            "needs_background": "light"
          }
        },
        {
          "output_type": "stream",
          "name": "stdout",
          "text": [
            "count     855969\n",
            "unique         7\n",
            "top            B\n",
            "freq      247998\n",
            "Name: grade, dtype: object\n",
            "grade  Missing Rate = 0.00%\n"
          ]
        },
        {
          "output_type": "display_data",
          "data": {
            "image/png": "[encoded data removed]",
            "text/plain": [
              "<Figure size 432x288 with 1 Axes>"
            ]
          },
          "metadata": {
            "needs_background": "light"
          }
        },
        {
          "output_type": "stream",
          "name": "stdout",
          "text": [
            "count     855969\n",
            "unique        35\n",
            "top           B3\n",
            "freq       54958\n",
            "Name: sub_grade, dtype: object\n",
            "sub_grade  Missing Rate = 0.00%\n"
          ]
        },
        {
          "output_type": "display_data",
          "data": {
            "image/png": "[encoded data removed]",
            "text/plain": [
              "<Figure size 432x288 with 1 Axes>"
            ]
          },
          "metadata": {
            "needs_background": "light"
          }
        },
        {
          "output_type": "stream",
          "name": "stdout",
          "text": [
            "count      855969\n",
            "unique     290910\n",
            "top       Teacher\n",
            "freq        62408\n",
            "Name: emp_title, dtype: object\n",
            "emp_title  Missing Rate = 0.00%\n"
          ]
        },
        {
          "output_type": "display_data",
          "data": {
            "image/png": "[encoded data removed]",
            "text/plain": [
              "<Figure size 432x288 with 1 Axes>"
            ]
          },
          "metadata": {
            "needs_background": "light"
          }
        },
        {
          "output_type": "stream",
          "name": "stdout",
          "text": [
            "count        855969\n",
            "unique           11\n",
            "top       10+ years\n",
            "freq         325151\n",
            "Name: emp_length, dtype: object\n",
            "emp_length  Missing Rate = 0.00%\n"
          ]
        },
        {
          "output_type": "display_data",
          "data": {
            "image/png": "[encoded data removed]",
            "text/plain": [
              "<Figure size 432x288 with 1 Axes>"
            ]
          },
          "metadata": {
            "needs_background": "light"
          }
        },
        {
          "output_type": "stream",
          "name": "stdout",
          "text": [
            "count       855969\n",
            "unique           6\n",
            "top       MORTGAGE\n",
            "freq        429106\n",
            "Name: home_ownership, dtype: object\n",
            "home_ownership  Missing Rate = 0.00%\n"
          ]
        },
        {
          "output_type": "display_data",
          "data": {
            "image/png": "[encoded data removed]",
            "text/plain": [
              "<Figure size 432x288 with 1 Axes>"
            ]
          },
          "metadata": {
            "needs_background": "light"
          }
        },
        {
          "output_type": "stream",
          "name": "stdout",
          "text": [
            "count              855969\n",
            "unique                  3\n",
            "top       Source Verified\n",
            "freq               318178\n",
            "Name: verification_status, dtype: object\n",
            "verification_status  Missing Rate = 0.00%\n"
          ]
        },
        {
          "output_type": "display_data",
          "data": {
            "image/png": "[encoded data removed]",
            "text/plain": [
              "<Figure size 432x288 with 1 Axes>"
            ]
          },
          "metadata": {
            "needs_background": "light"
          }
        },
        {
          "output_type": "stream",
          "name": "stdout",
          "text": [
            "count     855969\n",
            "unique       103\n",
            "top       Oct-15\n",
            "freq       48212\n",
            "Name: issue_d, dtype: object\n",
            "issue_d  Missing Rate = 0.00%\n"
          ]
        },
        {
          "output_type": "display_data",
          "data": {
            "image/png": "[encoded data removed]",
            "text/plain": [
              "<Figure size 432x288 with 1 Axes>"
            ]
          },
          "metadata": {
            "needs_background": "light"
          }
        },
        {
          "output_type": "stream",
          "name": "stdout",
          "text": [
            "count     855969\n",
            "unique         2\n",
            "top            n\n",
            "freq      855964\n",
            "Name: pymnt_plan, dtype: object\n",
            "pymnt_plan  Missing Rate = 0.00%\n"
          ]
        },
        {
          "output_type": "display_data",
          "data": {
            "image/png": "[encoded data removed]",
            "text/plain": [
              "<Figure size 432x288 with 1 Axes>"
            ]
          },
          "metadata": {
            "needs_background": "light"
          }
        },
        {
          "output_type": "stream",
          "name": "stdout",
          "text": [
            "count                 855969\n",
            "unique                    14\n",
            "top       debt_consolidation\n",
            "freq                  505392\n",
            "Name: purpose, dtype: object\n",
            "purpose  Missing Rate = 0.00%\n"
          ]
        },
        {
          "output_type": "display_data",
          "data": {
            "image/png": "[encoded data removed]",
            "text/plain": [
              "<Figure size 432x288 with 1 Axes>"
            ]
          },
          "metadata": {
            "needs_background": "light"
          }
        },
        {
          "output_type": "stream",
          "name": "stdout",
          "text": [
            "count                 855969\n",
            "unique                 60954\n",
            "top       Debt consolidation\n",
            "freq                  398122\n",
            "Name: title, dtype: object\n",
            "title  Missing Rate = 0.00%\n"
          ]
        },
        {
          "output_type": "display_data",
          "data": {
            "image/png": "[encoded data removed]",
            "text/plain": [
              "<Figure size 432x288 with 1 Axes>"
            ]
          },
          "metadata": {
            "needs_background": "light"
          }
        },
        {
          "output_type": "stream",
          "name": "stdout",
          "text": [
            "count     855969\n",
            "unique       931\n",
            "top        945xx\n",
            "freq        9466\n",
            "Name: zip_code, dtype: object\n",
            "zip_code  Missing Rate = 0.00%\n"
          ]
        },
        {
          "output_type": "display_data",
          "data": {
            "image/png": "[encoded data removed]",
            "text/plain": [
              "<Figure size 432x288 with 1 Axes>"
            ]
          },
          "metadata": {
            "needs_background": "light"
          }
        },
        {
          "output_type": "stream",
          "name": "stdout",
          "text": [
            "count     855969\n",
            "unique        51\n",
            "top           CA\n",
            "freq      125172\n",
            "Name: addr_state, dtype: object\n",
            "addr_state  Missing Rate = 0.00%\n"
          ]
        },
        {
          "output_type": "display_data",
          "data": {
            "image/png": "[encoded data removed]",
            "text/plain": [
              "<Figure size 432x288 with 1 Axes>"
            ]
          },
          "metadata": {
            "needs_background": "light"
          }
        },
        {
          "output_type": "stream",
          "name": "stdout",
          "text": [
            "count     855969\n",
            "unique       697\n",
            "top       Aug-01\n",
            "freq        6433\n",
            "Name: earliest_cr_line, dtype: object\n",
            "earliest_cr_line  Missing Rate = 0.00%\n"
          ]
        },
        {
          "output_type": "display_data",
          "data": {
            "image/png": "[encoded data removed]",
            "text/plain": [
              "<Figure size 432x288 with 1 Axes>"
            ]
          },
          "metadata": {
            "needs_background": "light"
          }
        },
        {
          "output_type": "stream",
          "name": "stdout",
          "text": [
            "count     855969\n",
            "unique         2\n",
            "top            f\n",
            "freq      442555\n",
            "Name: initial_list_status, dtype: object\n",
            "initial_list_status  Missing Rate = 0.00%\n"
          ]
        },
        {
          "output_type": "display_data",
          "data": {
            "image/png": "[encoded data removed]",
            "text/plain": [
              "<Figure size 432x288 with 1 Axes>"
            ]
          },
          "metadata": {
            "needs_background": "light"
          }
        },
        {
          "output_type": "stream",
          "name": "stdout",
          "text": [
            "count     855969\n",
            "unique        98\n",
            "top       Jan-16\n",
            "freq      467510\n",
            "Name: last_pymnt_d, dtype: object\n",
            "last_pymnt_d  Missing Rate = 0.00%\n"
          ]
        },
        {
          "output_type": "display_data",
          "data": {
            "image/png": "[encoded data removed]",
            "text/plain": [
              "<Figure size 432x288 with 1 Axes>"
            ]
          },
          "metadata": {
            "needs_background": "light"
          }
        },
        {
          "output_type": "stream",
          "name": "stdout",
          "text": [
            "count     855969\n",
            "unique       103\n",
            "top       Jan-16\n",
            "freq      701687\n",
            "Name: last_credit_pull_d, dtype: object\n",
            "last_credit_pull_d  Missing Rate = 0.00%\n"
          ]
        },
        {
          "output_type": "display_data",
          "data": {
            "image/png": "[encoded data removed]",
            "text/plain": [
              "<Figure size 432x288 with 1 Axes>"
            ]
          },
          "metadata": {
            "needs_background": "light"
          }
        },
        {
          "output_type": "stream",
          "name": "stdout",
          "text": [
            "count         855969\n",
            "unique             2\n",
            "top       INDIVIDUAL\n",
            "freq          855527\n",
            "Name: application_type, dtype: object\n",
            "application_type  Missing Rate = 0.00%\n"
          ]
        },
        {
          "output_type": "display_data",
          "data": {
            "image/png": "[encoded data removed]",
            "text/plain": [
              "<Figure size 432x288 with 1 Axes>"
            ]
          },
          "metadata": {
            "needs_background": "light"
          }
        }
      ]
    },
    {
      "cell_type": "code",
      "metadata": {
        "colab": {
          "base_uri": "https://localhost:8080/"
        },
        "id": "yYSw9sZ-Pz7-",
        "outputId": "0c3476e3-f448-404e-bef5-1afa63e94540"
      },
      "source": [
        "arr=[]\n",
        "for i in quantitative:\n",
        "  count=len(df[i].unique())\n",
        "  if count<10:\n",
        "    arr.append((i,count))\n",
        "print(arr)\n",
        "arr.remove(('policy_code',1))"
      ],
      "execution_count": null,
      "outputs": [
        {
          "output_type": "stream",
          "name": "stdout",
          "text": [
            "[('inq_last_6mths', 9), ('policy_code', 1), ('acc_now_delinq', 8), ('default_ind', 2)]\n"
          ]
        }
      ]
    },
    {
      "cell_type": "code",
      "metadata": {
        "colab": {
          "base_uri": "https://localhost:8080/",
          "height": 295
        },
        "id": "SlMqeu87WkE1",
        "outputId": "0d4b207c-2573-45d3-f32b-cba1b292776f"
      },
      "source": [
        "col=[]\n",
        "for i in arr:\n",
        "  col.append(i[0])\n",
        "df[col[0]].value_counts().plot.bar(title=col[0])"
      ],
      "execution_count": null,
      "outputs": [
        {
          "output_type": "execute_result",
          "data": {
            "text/plain": [
              "<matplotlib.axes._subplots.AxesSubplot at 0x7f32899b7f90>"
            ]
          },
          "metadata": {},
          "execution_count": 15
        },
        {
          "output_type": "display_data",
          "data": {
            "image/png": "[encoded data removed]",
            "text/plain": [
              "<Figure size 432x288 with 1 Axes>"
            ]
          },
          "metadata": {
            "needs_background": "light"
          }
        }
      ]
    },
    {
      "cell_type": "code",
      "metadata": {
        "colab": {
          "base_uri": "https://localhost:8080/",
          "height": 301
        },
        "id": "W-hdJoVOZnY6",
        "outputId": "26a3306a-4819-4ce8-be79-6286099ad0a0"
      },
      "source": [
        "df[col[1]].value_counts().plot.bar(title=col[1])"
      ],
      "execution_count": null,
      "outputs": [
        {
          "output_type": "execute_result",
          "data": {
            "text/plain": [
              "<matplotlib.axes._subplots.AxesSubplot at 0x7f328a75aa10>"
            ]
          },
          "metadata": {},
          "execution_count": 16
        },
        {
          "output_type": "display_data",
          "data": {
            "image/png": "[encoded data removed]",
            "text/plain": [
              "<Figure size 432x288 with 1 Axes>"
            ]
          },
          "metadata": {
            "needs_background": "light"
          }
        }
      ]
    },
    {
      "cell_type": "code",
      "metadata": {
        "colab": {
          "base_uri": "https://localhost:8080/",
          "height": 295
        },
        "id": "6RowGXurZtt0",
        "outputId": "5a092e01-4cb6-4066-b0bf-0b97a53bba95"
      },
      "source": [
        "df[col[2]].value_counts().plot.bar(title=col[2])"
      ],
      "execution_count": null,
      "outputs": [
        {
          "output_type": "execute_result",
          "data": {
            "text/plain": [
              "<matplotlib.axes._subplots.AxesSubplot at 0x7f32898b6710>"
            ]
          },
          "metadata": {},
          "execution_count": 17
        },
        {
          "output_type": "display_data",
          "data": {
            "image/png": "[encoded data removed]",
            "text/plain": [
              "<Figure size 432x288 with 1 Axes>"
            ]
          },
          "metadata": {
            "needs_background": "light"
          }
        }
      ]
    },
    {
      "cell_type": "code",
      "metadata": {
        "colab": {
          "base_uri": "https://localhost:8080/",
          "height": 1000
        },
        "id": "t-i2qpjbZyPL",
        "outputId": "c6c839c7-4cf9-4bce-d09b-60cb2a405629"
      },
      "source": [
        "#OUTLIERS DETECTION \n",
        "# We haven't removed any outliers as they might give us meaningful insights\n",
        "import seaborn as sns \n",
        "for col in quantitative:\n",
        "  print(col)\n",
        "  ax = sns.boxplot(y=col, data=df)\n",
        "  plt.show()"
      ],
      "execution_count": null,
      "outputs": [
        {
          "output_type": "stream",
          "name": "stdout",
          "text": [
            "loan_amnt\n"
          ]
        },
        {
          "output_type": "display_data",
          "data": {
            "image/png": "[encoded data removed]",
            "text/plain": [
              "<Figure size 432x288 with 1 Axes>"
            ]
          },
          "metadata": {
            "needs_background": "light"
          }
        },
        {
          "output_type": "stream",
          "name": "stdout",
          "text": [
            "funded_amnt\n"
          ]
        },
        {
          "output_type": "display_data",
          "data": {
            "image/png": "[encoded data removed]",
            "text/plain": [
              "<Figure size 432x288 with 1 Axes>"
            ]
          },
          "metadata": {
            "needs_background": "light"
          }
        },
        {
          "output_type": "stream",
          "name": "stdout",
          "text": [
            "funded_amnt_inv\n"
          ]
        },
        {
          "output_type": "display_data",
          "data": {
            "image/png": "[encoded data removed]",
            "text/plain": [
              "<Figure size 432x288 with 1 Axes>"
            ]
          },
          "metadata": {
            "needs_background": "light"
          }
        },
        {
          "output_type": "stream",
          "name": "stdout",
          "text": [
            "int_rate\n"
          ]
        },
        {
          "output_type": "display_data",
          "data": {
            "image/png": "[encoded data removed]",
            "text/plain": [
              "<Figure size 432x288 with 1 Axes>"
            ]
          },
          "metadata": {
            "needs_background": "light"
          }
        },
        {
          "output_type": "stream",
          "name": "stdout",
          "text": [
            "installment\n"
          ]
        },
        {
          "output_type": "display_data",
          "data": {
            "image/png": "[encoded data removed]",
            "text/plain": [
              "<Figure size 432x288 with 1 Axes>"
            ]
          },
          "metadata": {
            "needs_background": "light"
          }
        },
        {
          "output_type": "stream",
          "name": "stdout",
          "text": [
            "annual_inc\n"
          ]
        },
        {
          "output_type": "display_data",
          "data": {
            "image/png": "[encoded data removed]",
            "text/plain": [
              "<Figure size 432x288 with 1 Axes>"
            ]
          },
          "metadata": {
            "needs_background": "light"
          }
        },
        {
          "output_type": "stream",
          "name": "stdout",
          "text": [
            "dti\n"
          ]
        },
        {
          "output_type": "display_data",
          "data": {
            "image/png": "[encoded data removed]",
            "text/plain": [
              "<Figure size 432x288 with 1 Axes>"
            ]
          },
          "metadata": {
            "needs_background": "light"
          }
        },
        {
          "output_type": "stream",
          "name": "stdout",
          "text": [
            "delinq_2yrs\n"
          ]
        },
        {
          "output_type": "display_data",
          "data": {
            "image/png": "[encoded data removed]",
            "text/plain": [
              "<Figure size 432x288 with 1 Axes>"
            ]
          },
          "metadata": {
            "needs_background": "light"
          }
        },
        {
          "output_type": "stream",
          "name": "stdout",
          "text": [
            "inq_last_6mths\n"
          ]
        },
        {
          "output_type": "display_data",
          "data": {
            "image/png": "[encoded data removed]",
            "text/plain": [
              "<Figure size 432x288 with 1 Axes>"
            ]
          },
          "metadata": {
            "needs_background": "light"
          }
        },
        {
          "output_type": "stream",
          "name": "stdout",
          "text": [
            "open_acc\n"
          ]
        },
        {
          "output_type": "display_data",
          "data": {
            "image/png": "[encoded data removed]",
            "text/plain": [
              "<Figure size 432x288 with 1 Axes>"
            ]
          },
          "metadata": {
            "needs_background": "light"
          }
        },
        {
          "output_type": "stream",
          "name": "stdout",
          "text": [
            "pub_rec\n"
          ]
        },
        {
          "output_type": "display_data",
          "data": {
            "image/png": "[encoded data removed]",
            "text/plain": [
              "<Figure size 432x288 with 1 Axes>"
            ]
          },
          "metadata": {
            "needs_background": "light"
          }
        },
        {
          "output_type": "stream",
          "name": "stdout",
          "text": [
            "revol_bal\n"
          ]
        },
        {
          "output_type": "display_data",
          "data": {
            "image/png": "[encoded data removed]",
            "text/plain": [
              "<Figure size 432x288 with 1 Axes>"
            ]
          },
          "metadata": {
            "needs_background": "light"
          }
        },
        {
          "output_type": "stream",
          "name": "stdout",
          "text": [
            "revol_util\n"
          ]
        },
        {
          "output_type": "display_data",
          "data": {
            "image/png": "[encoded data removed]",
            "text/plain": [
              "<Figure size 432x288 with 1 Axes>"
            ]
          },
          "metadata": {
            "needs_background": "light"
          }
        },
        {
          "output_type": "stream",
          "name": "stdout",
          "text": [
            "total_acc\n"
          ]
        },
        {
          "output_type": "display_data",
          "data": {
            "image/png": "[encoded data removed]",
            "text/plain": [
              "<Figure size 432x288 with 1 Axes>"
            ]
          },
          "metadata": {
            "needs_background": "light"
          }
        },
        {
          "output_type": "stream",
          "name": "stdout",
          "text": [
            "out_prncp\n"
          ]
        },
        {
          "output_type": "display_data",
          "data": {
            "image/png": "[encoded data removed]",
            "text/plain": [
              "<Figure size 432x288 with 1 Axes>"
            ]
          },
          "metadata": {
            "needs_background": "light"
          }
        },
        {
          "output_type": "stream",
          "name": "stdout",
          "text": [
            "out_prncp_inv\n"
          ]
        },
        {
          "output_type": "display_data",
          "data": {
            "image/png": "[encoded data removed]",
            "text/plain": [
              "<Figure size 432x288 with 1 Axes>"
            ]
          },
          "metadata": {
            "needs_background": "light"
          }
        },
        {
          "output_type": "stream",
          "name": "stdout",
          "text": [
            "total_pymnt\n"
          ]
        },
        {
          "output_type": "display_data",
          "data": {
            "image/png": "[encoded data removed]",
            "text/plain": [
              "<Figure size 432x288 with 1 Axes>"
            ]
          },
          "metadata": {
            "needs_background": "light"
          }
        },
        {
          "output_type": "stream",
          "name": "stdout",
          "text": [
            "total_pymnt_inv\n"
          ]
        },
        {
          "output_type": "display_data",
          "data": {
            "image/png": "[encoded data removed]",
            "text/plain": [
              "<Figure size 432x288 with 1 Axes>"
            ]
          },
          "metadata": {
            "needs_background": "light"
          }
        },
        {
          "output_type": "stream",
          "name": "stdout",
          "text": [
            "total_rec_prncp\n"
          ]
        },
        {
          "output_type": "display_data",
          "data": {
            "image/png": "[encoded data removed]",
            "text/plain": [
              "<Figure size 432x288 with 1 Axes>"
            ]
          },
          "metadata": {
            "needs_background": "light"
          }
        },
        {
          "output_type": "stream",
          "name": "stdout",
          "text": [
            "total_rec_int\n"
          ]
        },
        {
          "output_type": "display_data",
          "data": {
            "image/png": "[encoded data removed]",
            "text/plain": [
              "<Figure size 432x288 with 1 Axes>"
            ]
          },
          "metadata": {
            "needs_background": "light"
          }
        },
        {
          "output_type": "stream",
          "name": "stdout",
          "text": [
            "total_rec_late_fee\n"
          ]
        },
        {
          "output_type": "display_data",
          "data": {
            "image/png": "[encoded data removed]",
            "text/plain": [
              "<Figure size 432x288 with 1 Axes>"
            ]
          },
          "metadata": {
            "needs_background": "light"
          }
        },
        {
          "output_type": "stream",
          "name": "stdout",
          "text": [
            "recoveries\n"
          ]
        },
        {
          "output_type": "display_data",
          "data": {
            "image/png": "[encoded data removed]",
            "text/plain": [
              "<Figure size 432x288 with 1 Axes>"
            ]
          },
          "metadata": {
            "needs_background": "light"
          }
        },
        {
          "output_type": "stream",
          "name": "stdout",
          "text": [
            "collection_recovery_fee\n"
          ]
        },
        {
          "output_type": "display_data",
          "data": {
            "image/png": "[encoded data removed]",
            "text/plain": [
              "<Figure size 432x288 with 1 Axes>"
            ]
          },
          "metadata": {
            "needs_background": "light"
          }
        },
        {
          "output_type": "stream",
          "name": "stdout",
          "text": [
            "last_pymnt_amnt\n"
          ]
        },
        {
          "output_type": "display_data",
          "data": {
            "image/png": "[encoded data removed]",
            "text/plain": [
              "<Figure size 432x288 with 1 Axes>"
            ]
          },
          "metadata": {
            "needs_background": "light"
          }
        },
        {
          "output_type": "stream",
          "name": "stdout",
          "text": [
            "collections_12_mths_ex_med\n"
          ]
        },
        {
          "output_type": "display_data",
          "data": {
            "image/png": "[encoded data removed]",
            "text/plain": [
              "<Figure size 432x288 with 1 Axes>"
            ]
          },
          "metadata": {
            "needs_background": "light"
          }
        },
        {
          "output_type": "stream",
          "name": "stdout",
          "text": [
            "policy_code\n"
          ]
        },
        {
          "output_type": "display_data",
          "data": {
            "image/png": "[encoded data removed]",
            "text/plain": [
              "<Figure size 432x288 with 1 Axes>"
            ]
          },
          "metadata": {
            "needs_background": "light"
          }
        },
        {
          "output_type": "stream",
          "name": "stdout",
          "text": [
            "acc_now_delinq\n"
          ]
        },
        {
          "output_type": "display_data",
          "data": {
            "image/png": "[encoded data removed]",
            "text/plain": [
              "<Figure size 432x288 with 1 Axes>"
            ]
          },
          "metadata": {
            "needs_background": "light"
          }
        },
        {
          "output_type": "stream",
          "name": "stdout",
          "text": [
            "tot_coll_amt\n"
          ]
        },
        {
          "output_type": "display_data",
          "data": {
            "image/png": "[encoded data removed]",
            "text/plain": [
              "<Figure size 432x288 with 1 Axes>"
            ]
          },
          "metadata": {
            "needs_background": "light"
          }
        },
        {
          "output_type": "stream",
          "name": "stdout",
          "text": [
            "tot_cur_bal\n"
          ]
        },
        {
          "output_type": "display_data",
          "data": {
            "image/png": "[encoded data removed]",
            "text/plain": [
              "<Figure size 432x288 with 1 Axes>"
            ]
          },
          "metadata": {
            "needs_background": "light"
          }
        },
        {
          "output_type": "stream",
          "name": "stdout",
          "text": [
            "total_rev_hi_lim\n"
          ]
        },
        {
          "output_type": "display_data",
          "data": {
            "image/png": "[encoded data removed]",
            "text/plain": [
              "<Figure size 432x288 with 1 Axes>"
            ]
          },
          "metadata": {
            "needs_background": "light"
          }
        },
        {
          "output_type": "stream",
          "name": "stdout",
          "text": [
            "default_ind\n"
          ]
        },
        {
          "output_type": "display_data",
          "data": {
            "image/png": "[encoded data removed]",
            "text/plain": [
              "<Figure size 432x288 with 1 Axes>"
            ]
          },
          "metadata": {
            "needs_background": "light"
          }
        }
      ]
    },
    {
      "cell_type": "code",
      "metadata": {
        "colab": {
          "base_uri": "https://localhost:8080/",
          "height": 69
        },
        "id": "p9jtcfTJFhZj",
        "outputId": "187893f8-cc3f-43de-de77-689e5137ef3d"
      },
      "source": [
        "#SHREYAS BHAKTARAM\n",
        "#INCOMPLETE INCONSISTENT DUPLICATE INCORRECT\n",
        "duplicate = df[df.duplicated(keep='last')]\n",
        "duplicate\n"
      ],
      "execution_count": null,
      "outputs": [
        {
          "output_type": "execute_result",
          "data": {
            "text/html": [
              "<div>\n",
              "<style scoped>\n",
              "    .dataframe tbody tr th:only-of-type {\n",
              "        vertical-align: middle;\n",
              "    }\n",
              "\n",
              "    .dataframe tbody tr th {\n",
              "        vertical-align: top;\n",
              "    }\n",
              "\n",
              "    .dataframe thead th {\n",
              "        text-align: right;\n",
              "    }\n",
              "</style>\n",
              "<table border=\"1\" class=\"dataframe\">\n",
              "  <thead>\n",
              "    <tr style=\"text-align: right;\">\n",
              "      <th></th>\n",
              "      <th>id</th>\n",
              "      <th>member_id</th>\n",
              "      <th>loan_amnt</th>\n",
              "      <th>funded_amnt</th>\n",
              "      <th>funded_amnt_inv</th>\n",
              "      <th>term</th>\n",
              "      <th>int_rate</th>\n",
              "      <th>installment</th>\n",
              "      <th>grade</th>\n",
              "      <th>sub_grade</th>\n",
              "      <th>emp_title</th>\n",
              "      <th>emp_length</th>\n",
              "      <th>home_ownership</th>\n",
              "      <th>annual_inc</th>\n",
              "      <th>verification_status</th>\n",
              "      <th>issue_d</th>\n",
              "      <th>pymnt_plan</th>\n",
              "      <th>purpose</th>\n",
              "      <th>title</th>\n",
              "      <th>zip_code</th>\n",
              "      <th>addr_state</th>\n",
              "      <th>dti</th>\n",
              "      <th>delinq_2yrs</th>\n",
              "      <th>earliest_cr_line</th>\n",
              "      <th>inq_last_6mths</th>\n",
              "      <th>open_acc</th>\n",
              "      <th>pub_rec</th>\n",
              "      <th>revol_bal</th>\n",
              "      <th>revol_util</th>\n",
              "      <th>total_acc</th>\n",
              "      <th>initial_list_status</th>\n",
              "      <th>out_prncp</th>\n",
              "      <th>out_prncp_inv</th>\n",
              "      <th>total_pymnt</th>\n",
              "      <th>total_pymnt_inv</th>\n",
              "      <th>total_rec_prncp</th>\n",
              "      <th>total_rec_int</th>\n",
              "      <th>total_rec_late_fee</th>\n",
              "      <th>recoveries</th>\n",
              "      <th>collection_recovery_fee</th>\n",
              "      <th>last_pymnt_d</th>\n",
              "      <th>last_pymnt_amnt</th>\n",
              "      <th>last_credit_pull_d</th>\n",
              "      <th>collections_12_mths_ex_med</th>\n",
              "      <th>policy_code</th>\n",
              "      <th>application_type</th>\n",
              "      <th>acc_now_delinq</th>\n",
              "      <th>tot_coll_amt</th>\n",
              "      <th>tot_cur_bal</th>\n",
              "      <th>total_rev_hi_lim</th>\n",
              "      <th>default_ind</th>\n",
              "    </tr>\n",
              "  </thead>\n",
              "  <tbody>\n",
              "  </tbody>\n",
              "</table>\n",
              "</div>"
            ],
            "text/plain": [
              "Empty DataFrame\n",
              "Columns: [id, member_id, loan_amnt, funded_amnt, funded_amnt_inv, term, int_rate, installment, grade, sub_grade, emp_title, emp_length, home_ownership, annual_inc, verification_status, issue_d, pymnt_plan, purpose, title, zip_code, addr_state, dti, delinq_2yrs, earliest_cr_line, inq_last_6mths, open_acc, pub_rec, revol_bal, revol_util, total_acc, initial_list_status, out_prncp, out_prncp_inv, total_pymnt, total_pymnt_inv, total_rec_prncp, total_rec_int, total_rec_late_fee, recoveries, collection_recovery_fee, last_pymnt_d, last_pymnt_amnt, last_credit_pull_d, collections_12_mths_ex_med, policy_code, application_type, acc_now_delinq, tot_coll_amt, tot_cur_bal, total_rev_hi_lim, default_ind]\n",
              "Index: []"
            ]
          },
          "metadata": {},
          "execution_count": 19
        }
      ]
    },
    {
      "cell_type": "code",
      "metadata": {
        "colab": {
          "base_uri": "https://localhost:8080/"
        },
        "id": "B0h-oOlE8PER",
        "outputId": "7eaeea33-65d8-4fc2-e1fb-32f045beea63"
      },
      "source": [
        "#Get all numeric data columns\n",
        "cols = df.columns[[np.issubdtype(dt, np.number) for dt in df.dtypes]]\n",
        "#Checking for negative values\n",
        "for col in cols:\n",
        "  df[(df[col]<0)]\n",
        "\n",
        "#Checking max values of the columns to put upper bound limit\n",
        "max_values = {}\n",
        "for col in cols:\n",
        "  max_values[col] = df[col].max()\n",
        "max_values"
      ],
      "execution_count": null,
      "outputs": [
        {
          "output_type": "execute_result",
          "data": {
            "text/plain": [
              "{'acc_now_delinq': 14,\n",
              " 'annual_inc': 9500000.0,\n",
              " 'collection_recovery_fee': 7002.19,\n",
              " 'collections_12_mths_ex_med': 20.0,\n",
              " 'default_ind': 1,\n",
              " 'delinq_2yrs': 39,\n",
              " 'dti': 9999.0,\n",
              " 'funded_amnt': 35000,\n",
              " 'funded_amnt_inv': 35000.0,\n",
              " 'id': 68616867,\n",
              " 'inq_last_6mths': 8,\n",
              " 'installment': 1445.46,\n",
              " 'int_rate': 28.99,\n",
              " 'last_pymnt_amnt': 36475.59,\n",
              " 'loan_amnt': 35000,\n",
              " 'member_id': 73519693,\n",
              " 'open_acc': 90,\n",
              " 'out_prncp': 49372.86,\n",
              " 'out_prncp_inv': 49372.86,\n",
              " 'policy_code': 1,\n",
              " 'pub_rec': 86,\n",
              " 'recoveries': 33520.27,\n",
              " 'revol_bal': 2904836,\n",
              " 'revol_util': 892.3,\n",
              " 'tot_coll_amt': 9152545.0,\n",
              " 'tot_cur_bal': 8000078.0,\n",
              " 'total_acc': 169,\n",
              " 'total_pymnt': 57777.57987,\n",
              " 'total_pymnt_inv': 57777.58,\n",
              " 'total_rec_int': 24205.62,\n",
              " 'total_rec_late_fee': 358.68,\n",
              " 'total_rec_prncp': 35000.03,\n",
              " 'total_rev_hi_lim': 9999999.0}"
            ]
          },
          "metadata": {},
          "execution_count": 20
        }
      ]
    },
    {
      "cell_type": "code",
      "metadata": {
        "colab": {
          "base_uri": "https://localhost:8080/",
          "height": 69
        },
        "id": "-mIvftYNBi-1",
        "outputId": "c623b762-5c36-4e81-a87b-c41156cb2a29"
      },
      "source": [
        "#Dropping rows have any missing values\n",
        "nullData = df[df.isnull().values.any(axis=1)]\n",
        "nullData"
      ],
      "execution_count": null,
      "outputs": [
        {
          "output_type": "execute_result",
          "data": {
            "text/html": [
              "<div>\n",
              "<style scoped>\n",
              "    .dataframe tbody tr th:only-of-type {\n",
              "        vertical-align: middle;\n",
              "    }\n",
              "\n",
              "    .dataframe tbody tr th {\n",
              "        vertical-align: top;\n",
              "    }\n",
              "\n",
              "    .dataframe thead th {\n",
              "        text-align: right;\n",
              "    }\n",
              "</style>\n",
              "<table border=\"1\" class=\"dataframe\">\n",
              "  <thead>\n",
              "    <tr style=\"text-align: right;\">\n",
              "      <th></th>\n",
              "      <th>id</th>\n",
              "      <th>member_id</th>\n",
              "      <th>loan_amnt</th>\n",
              "      <th>funded_amnt</th>\n",
              "      <th>funded_amnt_inv</th>\n",
              "      <th>term</th>\n",
              "      <th>int_rate</th>\n",
              "      <th>installment</th>\n",
              "      <th>grade</th>\n",
              "      <th>sub_grade</th>\n",
              "      <th>emp_title</th>\n",
              "      <th>emp_length</th>\n",
              "      <th>home_ownership</th>\n",
              "      <th>annual_inc</th>\n",
              "      <th>verification_status</th>\n",
              "      <th>issue_d</th>\n",
              "      <th>pymnt_plan</th>\n",
              "      <th>purpose</th>\n",
              "      <th>title</th>\n",
              "      <th>zip_code</th>\n",
              "      <th>addr_state</th>\n",
              "      <th>dti</th>\n",
              "      <th>delinq_2yrs</th>\n",
              "      <th>earliest_cr_line</th>\n",
              "      <th>inq_last_6mths</th>\n",
              "      <th>open_acc</th>\n",
              "      <th>pub_rec</th>\n",
              "      <th>revol_bal</th>\n",
              "      <th>revol_util</th>\n",
              "      <th>total_acc</th>\n",
              "      <th>initial_list_status</th>\n",
              "      <th>out_prncp</th>\n",
              "      <th>out_prncp_inv</th>\n",
              "      <th>total_pymnt</th>\n",
              "      <th>total_pymnt_inv</th>\n",
              "      <th>total_rec_prncp</th>\n",
              "      <th>total_rec_int</th>\n",
              "      <th>total_rec_late_fee</th>\n",
              "      <th>recoveries</th>\n",
              "      <th>collection_recovery_fee</th>\n",
              "      <th>last_pymnt_d</th>\n",
              "      <th>last_pymnt_amnt</th>\n",
              "      <th>last_credit_pull_d</th>\n",
              "      <th>collections_12_mths_ex_med</th>\n",
              "      <th>policy_code</th>\n",
              "      <th>application_type</th>\n",
              "      <th>acc_now_delinq</th>\n",
              "      <th>tot_coll_amt</th>\n",
              "      <th>tot_cur_bal</th>\n",
              "      <th>total_rev_hi_lim</th>\n",
              "      <th>default_ind</th>\n",
              "    </tr>\n",
              "  </thead>\n",
              "  <tbody>\n",
              "  </tbody>\n",
              "</table>\n",
              "</div>"
            ],
            "text/plain": [
              "Empty DataFrame\n",
              "Columns: [id, member_id, loan_amnt, funded_amnt, funded_amnt_inv, term, int_rate, installment, grade, sub_grade, emp_title, emp_length, home_ownership, annual_inc, verification_status, issue_d, pymnt_plan, purpose, title, zip_code, addr_state, dti, delinq_2yrs, earliest_cr_line, inq_last_6mths, open_acc, pub_rec, revol_bal, revol_util, total_acc, initial_list_status, out_prncp, out_prncp_inv, total_pymnt, total_pymnt_inv, total_rec_prncp, total_rec_int, total_rec_late_fee, recoveries, collection_recovery_fee, last_pymnt_d, last_pymnt_amnt, last_credit_pull_d, collections_12_mths_ex_med, policy_code, application_type, acc_now_delinq, tot_coll_amt, tot_cur_bal, total_rev_hi_lim, default_ind]\n",
              "Index: []"
            ]
          },
          "metadata": {},
          "execution_count": 21
        }
      ]
    },
    {
      "cell_type": "code",
      "metadata": {
        "colab": {
          "base_uri": "https://localhost:8080/"
        },
        "id": "JjPcBPEvCfoV",
        "outputId": "0a4b1b92-a9bc-4682-b9a8-da114e226642"
      },
      "source": [
        "#Dimensionality reduction using PCA\n",
        "from numpy import mean\n",
        "from numpy import std\n",
        "from sklearn.decomposition import PCA\n",
        "\n",
        "\n",
        "redDf = df.select_dtypes(include = [np.number])\n",
        "copy = redDf.copy()\n",
        "#Normalize the data\n",
        "for column in copy.columns:\n",
        "   copy[column] = copy[column]  / copy[column].abs().max()\n",
        "\n",
        "#Fit the model with the dataset and apply the dimensionality reduction on it.\n",
        "pca = PCA()\n",
        "pca.fit(copy)\n",
        "\n",
        "columns = ['pca_%i' % i for i in range(33)]\n",
        "df_pca = pd.DataFrame(pca.transform(copy), columns=columns, index=df.index)\n",
        "\n",
        "print(pca.explained_variance_ratio_)\n",
        "\n",
        "#steps = [('norm', MinMaxScaler()), ('pca', PCA()), ('m', LogisticRegression())]\n",
        "#model = Pipeline(steps=steps)\n",
        "#model\n",
        "#transformed = pca.transform(redDf)\n",
        "#steps = [('pca', PCA()), ('m', LogisticRegression())]\n",
        "#model = Pipeline(steps=steps)\n",
        "#cv = RepeatedStratifiedKFold(n_splits=10, n_repeats=3, random_state=1)\n",
        "#n_scores = cross_val_score(model, X, y, scoring='accuracy', cv=cv, n_jobs=-1, error_score='raise')\n"
      ],
      "execution_count": null,
      "outputs": [
        {
          "output_type": "stream",
          "name": "stdout",
          "text": [
            "[4.09846632e-01 3.57917836e-01 8.61120344e-02 5.90337300e-02\n",
            " 3.49032346e-02 1.95687487e-02 9.78566584e-03 9.22698362e-03\n",
            " 4.73524149e-03 2.17274506e-03 1.82488571e-03 1.66521077e-03\n",
            " 9.26053444e-04 6.93410858e-04 4.12870410e-04 2.94791076e-04\n",
            " 2.40396818e-04 1.45301736e-04 9.05332224e-05 7.15393407e-05\n",
            " 6.58976371e-05 6.45453775e-05 6.03370130e-05 4.97724579e-05\n",
            " 4.41339183e-05 3.01203181e-05 7.01424550e-06 4.29534595e-06\n",
            " 4.12938234e-06 1.79204844e-06 1.17132880e-07 2.14208556e-16\n",
            " 2.83039934e-33]\n"
          ]
        }
      ]
    },
    {
      "cell_type": "code",
      "metadata": {
        "colab": {
          "base_uri": "https://localhost:8080/",
          "height": 1000
        },
        "id": "3uksPcwEZkmI",
        "outputId": "20a09b6a-d4fb-4df2-ee83-f323d03bcc00"
      },
      "source": [
        "#CORRELATION MATRIX\n",
        "df.corr().style.background_gradient(cmap='Reds')"
      ],
      "execution_count": null,
      "outputs": [
        {
          "output_type": "stream",
          "name": "stderr",
          "text": [
            "/usr/local/lib/python3.7/dist-packages/pandas/io/formats/style.py:1126: RuntimeWarning: All-NaN slice encountered\n",
            "  smin = np.nanmin(s.to_numpy()) if vmin is None else vmin\n",
            "/usr/local/lib/python3.7/dist-packages/pandas/io/formats/style.py:1127: RuntimeWarning: All-NaN slice encountered\n",
            "  smax = np.nanmax(s.to_numpy()) if vmax is None else vmax\n"
          ]
        },
        {
          "output_type": "execute_result",
          "data": {
            "text/html": [
              "<style  type=\"text/css\" >\n",
              "#T_d81fefa4_5562_11ec_a6cd_0242ac1c0002row0_col0,#T_d81fefa4_5562_11ec_a6cd_0242ac1c0002row0_col1,#T_d81fefa4_5562_11ec_a6cd_0242ac1c0002row1_col0,#T_d81fefa4_5562_11ec_a6cd_0242ac1c0002row1_col1,#T_d81fefa4_5562_11ec_a6cd_0242ac1c0002row2_col2,#T_d81fefa4_5562_11ec_a6cd_0242ac1c0002row2_col3,#T_d81fefa4_5562_11ec_a6cd_0242ac1c0002row2_col4,#T_d81fefa4_5562_11ec_a6cd_0242ac1c0002row3_col2,#T_d81fefa4_5562_11ec_a6cd_0242ac1c0002row3_col3,#T_d81fefa4_5562_11ec_a6cd_0242ac1c0002row3_col4,#T_d81fefa4_5562_11ec_a6cd_0242ac1c0002row4_col2,#T_d81fefa4_5562_11ec_a6cd_0242ac1c0002row4_col3,#T_d81fefa4_5562_11ec_a6cd_0242ac1c0002row4_col4,#T_d81fefa4_5562_11ec_a6cd_0242ac1c0002row5_col5,#T_d81fefa4_5562_11ec_a6cd_0242ac1c0002row6_col6,#T_d81fefa4_5562_11ec_a6cd_0242ac1c0002row7_col7,#T_d81fefa4_5562_11ec_a6cd_0242ac1c0002row8_col8,#T_d81fefa4_5562_11ec_a6cd_0242ac1c0002row9_col9,#T_d81fefa4_5562_11ec_a6cd_0242ac1c0002row10_col10,#T_d81fefa4_5562_11ec_a6cd_0242ac1c0002row11_col11,#T_d81fefa4_5562_11ec_a6cd_0242ac1c0002row12_col12,#T_d81fefa4_5562_11ec_a6cd_0242ac1c0002row13_col13,#T_d81fefa4_5562_11ec_a6cd_0242ac1c0002row14_col14,#T_d81fefa4_5562_11ec_a6cd_0242ac1c0002row15_col15,#T_d81fefa4_5562_11ec_a6cd_0242ac1c0002row16_col16,#T_d81fefa4_5562_11ec_a6cd_0242ac1c0002row16_col17,#T_d81fefa4_5562_11ec_a6cd_0242ac1c0002row17_col16,#T_d81fefa4_5562_11ec_a6cd_0242ac1c0002row17_col17,#T_d81fefa4_5562_11ec_a6cd_0242ac1c0002row18_col18,#T_d81fefa4_5562_11ec_a6cd_0242ac1c0002row18_col19,#T_d81fefa4_5562_11ec_a6cd_0242ac1c0002row19_col18,#T_d81fefa4_5562_11ec_a6cd_0242ac1c0002row19_col19,#T_d81fefa4_5562_11ec_a6cd_0242ac1c0002row20_col20,#T_d81fefa4_5562_11ec_a6cd_0242ac1c0002row21_col21,#T_d81fefa4_5562_11ec_a6cd_0242ac1c0002row22_col22,#T_d81fefa4_5562_11ec_a6cd_0242ac1c0002row23_col23,#T_d81fefa4_5562_11ec_a6cd_0242ac1c0002row24_col24,#T_d81fefa4_5562_11ec_a6cd_0242ac1c0002row25_col25,#T_d81fefa4_5562_11ec_a6cd_0242ac1c0002row26_col26,#T_d81fefa4_5562_11ec_a6cd_0242ac1c0002row28_col28,#T_d81fefa4_5562_11ec_a6cd_0242ac1c0002row29_col29,#T_d81fefa4_5562_11ec_a6cd_0242ac1c0002row30_col30,#T_d81fefa4_5562_11ec_a6cd_0242ac1c0002row31_col31,#T_d81fefa4_5562_11ec_a6cd_0242ac1c0002row32_col32{\n",
              "            background-color:  #67000d;\n",
              "            color:  #f1f1f1;\n",
              "        }#T_d81fefa4_5562_11ec_a6cd_0242ac1c0002row0_col2,#T_d81fefa4_5562_11ec_a6cd_0242ac1c0002row0_col3,#T_d81fefa4_5562_11ec_a6cd_0242ac1c0002row1_col2,#T_d81fefa4_5562_11ec_a6cd_0242ac1c0002row1_col3,#T_d81fefa4_5562_11ec_a6cd_0242ac1c0002row16_col8,#T_d81fefa4_5562_11ec_a6cd_0242ac1c0002row17_col8,#T_d81fefa4_5562_11ec_a6cd_0242ac1c0002row19_col23,#T_d81fefa4_5562_11ec_a6cd_0242ac1c0002row22_col31,#T_d81fefa4_5562_11ec_a6cd_0242ac1c0002row26_col11,#T_d81fefa4_5562_11ec_a6cd_0242ac1c0002row29_col31,#T_d81fefa4_5562_11ec_a6cd_0242ac1c0002row30_col10{\n",
              "            background-color:  #fedecf;\n",
              "            color:  #000000;\n",
              "        }#T_d81fefa4_5562_11ec_a6cd_0242ac1c0002row0_col4,#T_d81fefa4_5562_11ec_a6cd_0242ac1c0002row1_col4,#T_d81fefa4_5562_11ec_a6cd_0242ac1c0002row5_col12,#T_d81fefa4_5562_11ec_a6cd_0242ac1c0002row7_col10,#T_d81fefa4_5562_11ec_a6cd_0242ac1c0002row9_col30,#T_d81fefa4_5562_11ec_a6cd_0242ac1c0002row18_col23,#T_d81fefa4_5562_11ec_a6cd_0242ac1c0002row23_col6,#T_d81fefa4_5562_11ec_a6cd_0242ac1c0002row23_col31,#T_d81fefa4_5562_11ec_a6cd_0242ac1c0002row24_col31,#T_d81fefa4_5562_11ec_a6cd_0242ac1c0002row29_col5{\n",
              "            background-color:  #fedccd;\n",
              "            color:  #000000;\n",
              "        }#T_d81fefa4_5562_11ec_a6cd_0242ac1c0002row0_col5,#T_d81fefa4_5562_11ec_a6cd_0242ac1c0002row0_col29,#T_d81fefa4_5562_11ec_a6cd_0242ac1c0002row1_col5,#T_d81fefa4_5562_11ec_a6cd_0242ac1c0002row1_col29,#T_d81fefa4_5562_11ec_a6cd_0242ac1c0002row5_col7,#T_d81fefa4_5562_11ec_a6cd_0242ac1c0002row12_col29,#T_d81fefa4_5562_11ec_a6cd_0242ac1c0002row12_col30,#T_d81fefa4_5562_11ec_a6cd_0242ac1c0002row13_col26,#T_d81fefa4_5562_11ec_a6cd_0242ac1c0002row15_col29,#T_d81fefa4_5562_11ec_a6cd_0242ac1c0002row16_col10,#T_d81fefa4_5562_11ec_a6cd_0242ac1c0002row17_col10,#T_d81fefa4_5562_11ec_a6cd_0242ac1c0002row18_col12,#T_d81fefa4_5562_11ec_a6cd_0242ac1c0002row19_col12,#T_d81fefa4_5562_11ec_a6cd_0242ac1c0002row20_col12,#T_d81fefa4_5562_11ec_a6cd_0242ac1c0002row21_col26{\n",
              "            background-color:  #fff3ed;\n",
              "            color:  #000000;\n",
              "        }#T_d81fefa4_5562_11ec_a6cd_0242ac1c0002row0_col6,#T_d81fefa4_5562_11ec_a6cd_0242ac1c0002row0_col9,#T_d81fefa4_5562_11ec_a6cd_0242ac1c0002row0_col26,#T_d81fefa4_5562_11ec_a6cd_0242ac1c0002row0_col30,#T_d81fefa4_5562_11ec_a6cd_0242ac1c0002row1_col6,#T_d81fefa4_5562_11ec_a6cd_0242ac1c0002row1_col9,#T_d81fefa4_5562_11ec_a6cd_0242ac1c0002row1_col26,#T_d81fefa4_5562_11ec_a6cd_0242ac1c0002row1_col30,#T_d81fefa4_5562_11ec_a6cd_0242ac1c0002row11_col9,#T_d81fefa4_5562_11ec_a6cd_0242ac1c0002row13_col10,#T_d81fefa4_5562_11ec_a6cd_0242ac1c0002row14_col22,#T_d81fefa4_5562_11ec_a6cd_0242ac1c0002row21_col8,#T_d81fefa4_5562_11ec_a6cd_0242ac1c0002row22_col7,#T_d81fefa4_5562_11ec_a6cd_0242ac1c0002row22_col30,#T_d81fefa4_5562_11ec_a6cd_0242ac1c0002row23_col7,#T_d81fefa4_5562_11ec_a6cd_0242ac1c0002row24_col7,#T_d81fefa4_5562_11ec_a6cd_0242ac1c0002row29_col13{\n",
              "            background-color:  #fee7db;\n",
              "            color:  #000000;\n",
              "        }#T_d81fefa4_5562_11ec_a6cd_0242ac1c0002row0_col7,#T_d81fefa4_5562_11ec_a6cd_0242ac1c0002row1_col7,#T_d81fefa4_5562_11ec_a6cd_0242ac1c0002row7_col23,#T_d81fefa4_5562_11ec_a6cd_0242ac1c0002row9_col14,#T_d81fefa4_5562_11ec_a6cd_0242ac1c0002row10_col30,#T_d81fefa4_5562_11ec_a6cd_0242ac1c0002row13_col23,#T_d81fefa4_5562_11ec_a6cd_0242ac1c0002row15_col23,#T_d81fefa4_5562_11ec_a6cd_0242ac1c0002row20_col32,#T_d81fefa4_5562_11ec_a6cd_0242ac1c0002row23_col15,#T_d81fefa4_5562_11ec_a6cd_0242ac1c0002row24_col15,#T_d81fefa4_5562_11ec_a6cd_0242ac1c0002row25_col32,#T_d81fefa4_5562_11ec_a6cd_0242ac1c0002row26_col10,#T_d81fefa4_5562_11ec_a6cd_0242ac1c0002row26_col12,#T_d81fefa4_5562_11ec_a6cd_0242ac1c0002row26_col15,#T_d81fefa4_5562_11ec_a6cd_0242ac1c0002row31_col8,#T_d81fefa4_5562_11ec_a6cd_0242ac1c0002row31_col10,#T_d81fefa4_5562_11ec_a6cd_0242ac1c0002row32_col31{\n",
              "            background-color:  #fee3d6;\n",
              "            color:  #000000;\n",
              "        }#T_d81fefa4_5562_11ec_a6cd_0242ac1c0002row0_col8,#T_d81fefa4_5562_11ec_a6cd_0242ac1c0002row1_col8,#T_d81fefa4_5562_11ec_a6cd_0242ac1c0002row5_col24,#T_d81fefa4_5562_11ec_a6cd_0242ac1c0002row10_col23,#T_d81fefa4_5562_11ec_a6cd_0242ac1c0002row10_col31,#T_d81fefa4_5562_11ec_a6cd_0242ac1c0002row13_col8,#T_d81fefa4_5562_11ec_a6cd_0242ac1c0002row22_col14,#T_d81fefa4_5562_11ec_a6cd_0242ac1c0002row23_col4,#T_d81fefa4_5562_11ec_a6cd_0242ac1c0002row24_col14,#T_d81fefa4_5562_11ec_a6cd_0242ac1c0002row24_col22,#T_d81fefa4_5562_11ec_a6cd_0242ac1c0002row28_col11{\n",
              "            background-color:  #fedbcc;\n",
              "            color:  #000000;\n",
              "        }#T_d81fefa4_5562_11ec_a6cd_0242ac1c0002row0_col10,#T_d81fefa4_5562_11ec_a6cd_0242ac1c0002row0_col18,#T_d81fefa4_5562_11ec_a6cd_0242ac1c0002row0_col19,#T_d81fefa4_5562_11ec_a6cd_0242ac1c0002row0_col20,#T_d81fefa4_5562_11ec_a6cd_0242ac1c0002row0_col21,#T_d81fefa4_5562_11ec_a6cd_0242ac1c0002row0_col22,#T_d81fefa4_5562_11ec_a6cd_0242ac1c0002row0_col23,#T_d81fefa4_5562_11ec_a6cd_0242ac1c0002row0_col24,#T_d81fefa4_5562_11ec_a6cd_0242ac1c0002row1_col10,#T_d81fefa4_5562_11ec_a6cd_0242ac1c0002row1_col18,#T_d81fefa4_5562_11ec_a6cd_0242ac1c0002row1_col19,#T_d81fefa4_5562_11ec_a6cd_0242ac1c0002row1_col20,#T_d81fefa4_5562_11ec_a6cd_0242ac1c0002row1_col21,#T_d81fefa4_5562_11ec_a6cd_0242ac1c0002row1_col22,#T_d81fefa4_5562_11ec_a6cd_0242ac1c0002row1_col23,#T_d81fefa4_5562_11ec_a6cd_0242ac1c0002row5_col30,#T_d81fefa4_5562_11ec_a6cd_0242ac1c0002row5_col31,#T_d81fefa4_5562_11ec_a6cd_0242ac1c0002row7_col8,#T_d81fefa4_5562_11ec_a6cd_0242ac1c0002row8_col7,#T_d81fefa4_5562_11ec_a6cd_0242ac1c0002row11_col14,#T_d81fefa4_5562_11ec_a6cd_0242ac1c0002row12_col2,#T_d81fefa4_5562_11ec_a6cd_0242ac1c0002row12_col3,#T_d81fefa4_5562_11ec_a6cd_0242ac1c0002row12_col4,#T_d81fefa4_5562_11ec_a6cd_0242ac1c0002row12_col6,#T_d81fefa4_5562_11ec_a6cd_0242ac1c0002row12_col13,#T_d81fefa4_5562_11ec_a6cd_0242ac1c0002row13_col12,#T_d81fefa4_5562_11ec_a6cd_0242ac1c0002row13_col29,#T_d81fefa4_5562_11ec_a6cd_0242ac1c0002row14_col11,#T_d81fefa4_5562_11ec_a6cd_0242ac1c0002row14_col15,#T_d81fefa4_5562_11ec_a6cd_0242ac1c0002row14_col26,#T_d81fefa4_5562_11ec_a6cd_0242ac1c0002row14_col28,#T_d81fefa4_5562_11ec_a6cd_0242ac1c0002row14_col29,#T_d81fefa4_5562_11ec_a6cd_0242ac1c0002row16_col23,#T_d81fefa4_5562_11ec_a6cd_0242ac1c0002row16_col24,#T_d81fefa4_5562_11ec_a6cd_0242ac1c0002row16_col25,#T_d81fefa4_5562_11ec_a6cd_0242ac1c0002row16_col32,#T_d81fefa4_5562_11ec_a6cd_0242ac1c0002row17_col23,#T_d81fefa4_5562_11ec_a6cd_0242ac1c0002row17_col24,#T_d81fefa4_5562_11ec_a6cd_0242ac1c0002row17_col25,#T_d81fefa4_5562_11ec_a6cd_0242ac1c0002row17_col32,#T_d81fefa4_5562_11ec_a6cd_0242ac1c0002row18_col0,#T_d81fefa4_5562_11ec_a6cd_0242ac1c0002row18_col1,#T_d81fefa4_5562_11ec_a6cd_0242ac1c0002row18_col26,#T_d81fefa4_5562_11ec_a6cd_0242ac1c0002row19_col0,#T_d81fefa4_5562_11ec_a6cd_0242ac1c0002row19_col1,#T_d81fefa4_5562_11ec_a6cd_0242ac1c0002row19_col26,#T_d81fefa4_5562_11ec_a6cd_0242ac1c0002row20_col9,#T_d81fefa4_5562_11ec_a6cd_0242ac1c0002row20_col16,#T_d81fefa4_5562_11ec_a6cd_0242ac1c0002row20_col17,#T_d81fefa4_5562_11ec_a6cd_0242ac1c0002row20_col26,#T_d81fefa4_5562_11ec_a6cd_0242ac1c0002row31_col5,#T_d81fefa4_5562_11ec_a6cd_0242ac1c0002row31_col9,#T_d81fefa4_5562_11ec_a6cd_0242ac1c0002row31_col12,#T_d81fefa4_5562_11ec_a6cd_0242ac1c0002row31_col29{\n",
              "            background-color:  #fff5f0;\n",
              "            color:  #000000;\n",
              "        }#T_d81fefa4_5562_11ec_a6cd_0242ac1c0002row0_col11,#T_d81fefa4_5562_11ec_a6cd_0242ac1c0002row1_col11,#T_d81fefa4_5562_11ec_a6cd_0242ac1c0002row8_col5{\n",
              "            background-color:  #fdc9b3;\n",
              "            color:  #000000;\n",
              "        }#T_d81fefa4_5562_11ec_a6cd_0242ac1c0002row0_col12,#T_d81fefa4_5562_11ec_a6cd_0242ac1c0002row1_col12,#T_d81fefa4_5562_11ec_a6cd_0242ac1c0002row8_col31,#T_d81fefa4_5562_11ec_a6cd_0242ac1c0002row11_col32,#T_d81fefa4_5562_11ec_a6cd_0242ac1c0002row13_col32,#T_d81fefa4_5562_11ec_a6cd_0242ac1c0002row15_col32,#T_d81fefa4_5562_11ec_a6cd_0242ac1c0002row16_col5,#T_d81fefa4_5562_11ec_a6cd_0242ac1c0002row17_col5,#T_d81fefa4_5562_11ec_a6cd_0242ac1c0002row18_col11,#T_d81fefa4_5562_11ec_a6cd_0242ac1c0002row19_col11,#T_d81fefa4_5562_11ec_a6cd_0242ac1c0002row20_col10,#T_d81fefa4_5562_11ec_a6cd_0242ac1c0002row21_col23,#T_d81fefa4_5562_11ec_a6cd_0242ac1c0002row25_col7,#T_d81fefa4_5562_11ec_a6cd_0242ac1c0002row25_col10,#T_d81fefa4_5562_11ec_a6cd_0242ac1c0002row32_col14{\n",
              "            background-color:  #fdd4c2;\n",
              "            color:  #000000;\n",
              "        }#T_d81fefa4_5562_11ec_a6cd_0242ac1c0002row0_col13,#T_d81fefa4_5562_11ec_a6cd_0242ac1c0002row1_col13,#T_d81fefa4_5562_11ec_a6cd_0242ac1c0002row6_col24,#T_d81fefa4_5562_11ec_a6cd_0242ac1c0002row9_col10,#T_d81fefa4_5562_11ec_a6cd_0242ac1c0002row11_col5,#T_d81fefa4_5562_11ec_a6cd_0242ac1c0002row22_col10,#T_d81fefa4_5562_11ec_a6cd_0242ac1c0002row23_col11,#T_d81fefa4_5562_11ec_a6cd_0242ac1c0002row24_col2,#T_d81fefa4_5562_11ec_a6cd_0242ac1c0002row24_col3,#T_d81fefa4_5562_11ec_a6cd_0242ac1c0002row25_col14,#T_d81fefa4_5562_11ec_a6cd_0242ac1c0002row28_col15,#T_d81fefa4_5562_11ec_a6cd_0242ac1c0002row29_col11{\n",
              "            background-color:  #fee0d2;\n",
              "            color:  #000000;\n",
              "        }#T_d81fefa4_5562_11ec_a6cd_0242ac1c0002row0_col14,#T_d81fefa4_5562_11ec_a6cd_0242ac1c0002row0_col25,#T_d81fefa4_5562_11ec_a6cd_0242ac1c0002row1_col14,#T_d81fefa4_5562_11ec_a6cd_0242ac1c0002row1_col25,#T_d81fefa4_5562_11ec_a6cd_0242ac1c0002row2_col10,#T_d81fefa4_5562_11ec_a6cd_0242ac1c0002row3_col10,#T_d81fefa4_5562_11ec_a6cd_0242ac1c0002row4_col10,#T_d81fefa4_5562_11ec_a6cd_0242ac1c0002row7_col22,#T_d81fefa4_5562_11ec_a6cd_0242ac1c0002row7_col24,#T_d81fefa4_5562_11ec_a6cd_0242ac1c0002row8_col6,#T_d81fefa4_5562_11ec_a6cd_0242ac1c0002row9_col12,#T_d81fefa4_5562_11ec_a6cd_0242ac1c0002row13_col24,#T_d81fefa4_5562_11ec_a6cd_0242ac1c0002row22_col12,#T_d81fefa4_5562_11ec_a6cd_0242ac1c0002row23_col8,#T_d81fefa4_5562_11ec_a6cd_0242ac1c0002row23_col12,#T_d81fefa4_5562_11ec_a6cd_0242ac1c0002row26_col8,#T_d81fefa4_5562_11ec_a6cd_0242ac1c0002row28_col2,#T_d81fefa4_5562_11ec_a6cd_0242ac1c0002row28_col3,#T_d81fefa4_5562_11ec_a6cd_0242ac1c0002row28_col4,#T_d81fefa4_5562_11ec_a6cd_0242ac1c0002row29_col7,#T_d81fefa4_5562_11ec_a6cd_0242ac1c0002row29_col30{\n",
              "            background-color:  #fee8dd;\n",
              "            color:  #000000;\n",
              "        }#T_d81fefa4_5562_11ec_a6cd_0242ac1c0002row0_col15,#T_d81fefa4_5562_11ec_a6cd_0242ac1c0002row1_col15,#T_d81fefa4_5562_11ec_a6cd_0242ac1c0002row14_col23,#T_d81fefa4_5562_11ec_a6cd_0242ac1c0002row24_col10,#T_d81fefa4_5562_11ec_a6cd_0242ac1c0002row24_col11{\n",
              "            background-color:  #fedfd0;\n",
              "            color:  #000000;\n",
              "        }#T_d81fefa4_5562_11ec_a6cd_0242ac1c0002row0_col16,#T_d81fefa4_5562_11ec_a6cd_0242ac1c0002row0_col17,#T_d81fefa4_5562_11ec_a6cd_0242ac1c0002row1_col16,#T_d81fefa4_5562_11ec_a6cd_0242ac1c0002row1_col17,#T_d81fefa4_5562_11ec_a6cd_0242ac1c0002row2_col21,#T_d81fefa4_5562_11ec_a6cd_0242ac1c0002row3_col21,#T_d81fefa4_5562_11ec_a6cd_0242ac1c0002row4_col21{\n",
              "            background-color:  #de2b25;\n",
              "            color:  #f1f1f1;\n",
              "        }#T_d81fefa4_5562_11ec_a6cd_0242ac1c0002row0_col27,#T_d81fefa4_5562_11ec_a6cd_0242ac1c0002row1_col27,#T_d81fefa4_5562_11ec_a6cd_0242ac1c0002row2_col27,#T_d81fefa4_5562_11ec_a6cd_0242ac1c0002row3_col27,#T_d81fefa4_5562_11ec_a6cd_0242ac1c0002row4_col27,#T_d81fefa4_5562_11ec_a6cd_0242ac1c0002row5_col27,#T_d81fefa4_5562_11ec_a6cd_0242ac1c0002row6_col27,#T_d81fefa4_5562_11ec_a6cd_0242ac1c0002row7_col27,#T_d81fefa4_5562_11ec_a6cd_0242ac1c0002row8_col27,#T_d81fefa4_5562_11ec_a6cd_0242ac1c0002row9_col27,#T_d81fefa4_5562_11ec_a6cd_0242ac1c0002row10_col27,#T_d81fefa4_5562_11ec_a6cd_0242ac1c0002row11_col27,#T_d81fefa4_5562_11ec_a6cd_0242ac1c0002row12_col27,#T_d81fefa4_5562_11ec_a6cd_0242ac1c0002row13_col27,#T_d81fefa4_5562_11ec_a6cd_0242ac1c0002row14_col27,#T_d81fefa4_5562_11ec_a6cd_0242ac1c0002row15_col27,#T_d81fefa4_5562_11ec_a6cd_0242ac1c0002row16_col27,#T_d81fefa4_5562_11ec_a6cd_0242ac1c0002row17_col27,#T_d81fefa4_5562_11ec_a6cd_0242ac1c0002row18_col27,#T_d81fefa4_5562_11ec_a6cd_0242ac1c0002row19_col27,#T_d81fefa4_5562_11ec_a6cd_0242ac1c0002row20_col27,#T_d81fefa4_5562_11ec_a6cd_0242ac1c0002row21_col27,#T_d81fefa4_5562_11ec_a6cd_0242ac1c0002row22_col27,#T_d81fefa4_5562_11ec_a6cd_0242ac1c0002row23_col27,#T_d81fefa4_5562_11ec_a6cd_0242ac1c0002row24_col27,#T_d81fefa4_5562_11ec_a6cd_0242ac1c0002row25_col27,#T_d81fefa4_5562_11ec_a6cd_0242ac1c0002row26_col27,#T_d81fefa4_5562_11ec_a6cd_0242ac1c0002row27_col0,#T_d81fefa4_5562_11ec_a6cd_0242ac1c0002row27_col1,#T_d81fefa4_5562_11ec_a6cd_0242ac1c0002row27_col2,#T_d81fefa4_5562_11ec_a6cd_0242ac1c0002row27_col3,#T_d81fefa4_5562_11ec_a6cd_0242ac1c0002row27_col4,#T_d81fefa4_5562_11ec_a6cd_0242ac1c0002row27_col5,#T_d81fefa4_5562_11ec_a6cd_0242ac1c0002row27_col6,#T_d81fefa4_5562_11ec_a6cd_0242ac1c0002row27_col7,#T_d81fefa4_5562_11ec_a6cd_0242ac1c0002row27_col8,#T_d81fefa4_5562_11ec_a6cd_0242ac1c0002row27_col9,#T_d81fefa4_5562_11ec_a6cd_0242ac1c0002row27_col10,#T_d81fefa4_5562_11ec_a6cd_0242ac1c0002row27_col11,#T_d81fefa4_5562_11ec_a6cd_0242ac1c0002row27_col12,#T_d81fefa4_5562_11ec_a6cd_0242ac1c0002row27_col13,#T_d81fefa4_5562_11ec_a6cd_0242ac1c0002row27_col14,#T_d81fefa4_5562_11ec_a6cd_0242ac1c0002row27_col15,#T_d81fefa4_5562_11ec_a6cd_0242ac1c0002row27_col16,#T_d81fefa4_5562_11ec_a6cd_0242ac1c0002row27_col17,#T_d81fefa4_5562_11ec_a6cd_0242ac1c0002row27_col18,#T_d81fefa4_5562_11ec_a6cd_0242ac1c0002row27_col19,#T_d81fefa4_5562_11ec_a6cd_0242ac1c0002row27_col20,#T_d81fefa4_5562_11ec_a6cd_0242ac1c0002row27_col21,#T_d81fefa4_5562_11ec_a6cd_0242ac1c0002row27_col22,#T_d81fefa4_5562_11ec_a6cd_0242ac1c0002row27_col23,#T_d81fefa4_5562_11ec_a6cd_0242ac1c0002row27_col24,#T_d81fefa4_5562_11ec_a6cd_0242ac1c0002row27_col25,#T_d81fefa4_5562_11ec_a6cd_0242ac1c0002row27_col26,#T_d81fefa4_5562_11ec_a6cd_0242ac1c0002row27_col27,#T_d81fefa4_5562_11ec_a6cd_0242ac1c0002row27_col28,#T_d81fefa4_5562_11ec_a6cd_0242ac1c0002row27_col29,#T_d81fefa4_5562_11ec_a6cd_0242ac1c0002row27_col30,#T_d81fefa4_5562_11ec_a6cd_0242ac1c0002row27_col31,#T_d81fefa4_5562_11ec_a6cd_0242ac1c0002row27_col32,#T_d81fefa4_5562_11ec_a6cd_0242ac1c0002row28_col27,#T_d81fefa4_5562_11ec_a6cd_0242ac1c0002row29_col27,#T_d81fefa4_5562_11ec_a6cd_0242ac1c0002row30_col27,#T_d81fefa4_5562_11ec_a6cd_0242ac1c0002row31_col27,#T_d81fefa4_5562_11ec_a6cd_0242ac1c0002row32_col27{\n",
              "            background-color:  #000000;\n",
              "            color:  #f1f1f1;\n",
              "        }#T_d81fefa4_5562_11ec_a6cd_0242ac1c0002row0_col28,#T_d81fefa4_5562_11ec_a6cd_0242ac1c0002row7_col28,#T_d81fefa4_5562_11ec_a6cd_0242ac1c0002row14_col31,#T_d81fefa4_5562_11ec_a6cd_0242ac1c0002row18_col8,#T_d81fefa4_5562_11ec_a6cd_0242ac1c0002row21_col9,#T_d81fefa4_5562_11ec_a6cd_0242ac1c0002row24_col9{\n",
              "            background-color:  #ffeee7;\n",
              "            color:  #000000;\n",
              "        }#T_d81fefa4_5562_11ec_a6cd_0242ac1c0002row0_col31,#T_d81fefa4_5562_11ec_a6cd_0242ac1c0002row1_col31,#T_d81fefa4_5562_11ec_a6cd_0242ac1c0002row6_col23,#T_d81fefa4_5562_11ec_a6cd_0242ac1c0002row25_col30,#T_d81fefa4_5562_11ec_a6cd_0242ac1c0002row26_col32,#T_d81fefa4_5562_11ec_a6cd_0242ac1c0002row32_col10{\n",
              "            background-color:  #fdd2bf;\n",
              "            color:  #000000;\n",
              "        }#T_d81fefa4_5562_11ec_a6cd_0242ac1c0002row0_col32,#T_d81fefa4_5562_11ec_a6cd_0242ac1c0002row1_col24,#T_d81fefa4_5562_11ec_a6cd_0242ac1c0002row1_col32,#T_d81fefa4_5562_11ec_a6cd_0242ac1c0002row2_col29,#T_d81fefa4_5562_11ec_a6cd_0242ac1c0002row3_col29,#T_d81fefa4_5562_11ec_a6cd_0242ac1c0002row4_col29,#T_d81fefa4_5562_11ec_a6cd_0242ac1c0002row6_col29,#T_d81fefa4_5562_11ec_a6cd_0242ac1c0002row8_col29,#T_d81fefa4_5562_11ec_a6cd_0242ac1c0002row18_col29,#T_d81fefa4_5562_11ec_a6cd_0242ac1c0002row19_col29,#T_d81fefa4_5562_11ec_a6cd_0242ac1c0002row20_col29,#T_d81fefa4_5562_11ec_a6cd_0242ac1c0002row21_col29,#T_d81fefa4_5562_11ec_a6cd_0242ac1c0002row25_col29,#T_d81fefa4_5562_11ec_a6cd_0242ac1c0002row32_col29{\n",
              "            background-color:  #fff4ef;\n",
              "            color:  #000000;\n",
              "        }#T_d81fefa4_5562_11ec_a6cd_0242ac1c0002row1_col28,#T_d81fefa4_5562_11ec_a6cd_0242ac1c0002row6_col9,#T_d81fefa4_5562_11ec_a6cd_0242ac1c0002row10_col4,#T_d81fefa4_5562_11ec_a6cd_0242ac1c0002row10_col26,#T_d81fefa4_5562_11ec_a6cd_0242ac1c0002row11_col26,#T_d81fefa4_5562_11ec_a6cd_0242ac1c0002row11_col28,#T_d81fefa4_5562_11ec_a6cd_0242ac1c0002row15_col26,#T_d81fefa4_5562_11ec_a6cd_0242ac1c0002row19_col8,#T_d81fefa4_5562_11ec_a6cd_0242ac1c0002row29_col26,#T_d81fefa4_5562_11ec_a6cd_0242ac1c0002row32_col7{\n",
              "            background-color:  #ffeee6;\n",
              "            color:  #000000;\n",
              "        }#T_d81fefa4_5562_11ec_a6cd_0242ac1c0002row2_col0,#T_d81fefa4_5562_11ec_a6cd_0242ac1c0002row2_col1,#T_d81fefa4_5562_11ec_a6cd_0242ac1c0002row3_col0,#T_d81fefa4_5562_11ec_a6cd_0242ac1c0002row3_col1,#T_d81fefa4_5562_11ec_a6cd_0242ac1c0002row8_col1{\n",
              "            background-color:  #fc8666;\n",
              "            color:  #000000;\n",
              "        }#T_d81fefa4_5562_11ec_a6cd_0242ac1c0002row2_col5,#T_d81fefa4_5562_11ec_a6cd_0242ac1c0002row3_col5,#T_d81fefa4_5562_11ec_a6cd_0242ac1c0002row4_col5,#T_d81fefa4_5562_11ec_a6cd_0242ac1c0002row11_col2,#T_d81fefa4_5562_11ec_a6cd_0242ac1c0002row11_col3,#T_d81fefa4_5562_11ec_a6cd_0242ac1c0002row11_col4{\n",
              "            background-color:  #fcb89e;\n",
              "            color:  #000000;\n",
              "        }#T_d81fefa4_5562_11ec_a6cd_0242ac1c0002row2_col6,#T_d81fefa4_5562_11ec_a6cd_0242ac1c0002row4_col6,#T_d81fefa4_5562_11ec_a6cd_0242ac1c0002row6_col2,#T_d81fefa4_5562_11ec_a6cd_0242ac1c0002row6_col4{\n",
              "            background-color:  #800610;\n",
              "            color:  #f1f1f1;\n",
              "        }#T_d81fefa4_5562_11ec_a6cd_0242ac1c0002row2_col7,#T_d81fefa4_5562_11ec_a6cd_0242ac1c0002row3_col7,#T_d81fefa4_5562_11ec_a6cd_0242ac1c0002row4_col7,#T_d81fefa4_5562_11ec_a6cd_0242ac1c0002row6_col0,#T_d81fefa4_5562_11ec_a6cd_0242ac1c0002row6_col1,#T_d81fefa4_5562_11ec_a6cd_0242ac1c0002row13_col2,#T_d81fefa4_5562_11ec_a6cd_0242ac1c0002row13_col3{\n",
              "            background-color:  #fc8e6e;\n",
              "            color:  #000000;\n",
              "        }#T_d81fefa4_5562_11ec_a6cd_0242ac1c0002row2_col8,#T_d81fefa4_5562_11ec_a6cd_0242ac1c0002row3_col8,#T_d81fefa4_5562_11ec_a6cd_0242ac1c0002row4_col8,#T_d81fefa4_5562_11ec_a6cd_0242ac1c0002row8_col10,#T_d81fefa4_5562_11ec_a6cd_0242ac1c0002row9_col26,#T_d81fefa4_5562_11ec_a6cd_0242ac1c0002row10_col24,#T_d81fefa4_5562_11ec_a6cd_0242ac1c0002row22_col2,#T_d81fefa4_5562_11ec_a6cd_0242ac1c0002row22_col3,#T_d81fefa4_5562_11ec_a6cd_0242ac1c0002row22_col6,#T_d81fefa4_5562_11ec_a6cd_0242ac1c0002row22_col15,#T_d81fefa4_5562_11ec_a6cd_0242ac1c0002row24_col13,#T_d81fefa4_5562_11ec_a6cd_0242ac1c0002row26_col9,#T_d81fefa4_5562_11ec_a6cd_0242ac1c0002row26_col23,#T_d81fefa4_5562_11ec_a6cd_0242ac1c0002row29_col12,#T_d81fefa4_5562_11ec_a6cd_0242ac1c0002row30_col9{\n",
              "            background-color:  #fee5d8;\n",
              "            color:  #000000;\n",
              "        }#T_d81fefa4_5562_11ec_a6cd_0242ac1c0002row2_col9,#T_d81fefa4_5562_11ec_a6cd_0242ac1c0002row3_col9,#T_d81fefa4_5562_11ec_a6cd_0242ac1c0002row4_col9,#T_d81fefa4_5562_11ec_a6cd_0242ac1c0002row8_col9,#T_d81fefa4_5562_11ec_a6cd_0242ac1c0002row8_col26,#T_d81fefa4_5562_11ec_a6cd_0242ac1c0002row16_col28,#T_d81fefa4_5562_11ec_a6cd_0242ac1c0002row17_col28,#T_d81fefa4_5562_11ec_a6cd_0242ac1c0002row21_col12,#T_d81fefa4_5562_11ec_a6cd_0242ac1c0002row23_col9,#T_d81fefa4_5562_11ec_a6cd_0242ac1c0002row29_col9{\n",
              "            background-color:  #ffefe8;\n",
              "            color:  #000000;\n",
              "        }#T_d81fefa4_5562_11ec_a6cd_0242ac1c0002row2_col11,#T_d81fefa4_5562_11ec_a6cd_0242ac1c0002row3_col11,#T_d81fefa4_5562_11ec_a6cd_0242ac1c0002row10_col0,#T_d81fefa4_5562_11ec_a6cd_0242ac1c0002row10_col1,#T_d81fefa4_5562_11ec_a6cd_0242ac1c0002row10_col25,#T_d81fefa4_5562_11ec_a6cd_0242ac1c0002row11_col13,#T_d81fefa4_5562_11ec_a6cd_0242ac1c0002row11_col30,#T_d81fefa4_5562_11ec_a6cd_0242ac1c0002row22_col32,#T_d81fefa4_5562_11ec_a6cd_0242ac1c0002row23_col0,#T_d81fefa4_5562_11ec_a6cd_0242ac1c0002row23_col1,#T_d81fefa4_5562_11ec_a6cd_0242ac1c0002row26_col21,#T_d81fefa4_5562_11ec_a6cd_0242ac1c0002row32_col20{\n",
              "            background-color:  #fcab8f;\n",
              "            color:  #000000;\n",
              "        }#T_d81fefa4_5562_11ec_a6cd_0242ac1c0002row2_col12,#T_d81fefa4_5562_11ec_a6cd_0242ac1c0002row3_col12,#T_d81fefa4_5562_11ec_a6cd_0242ac1c0002row4_col12,#T_d81fefa4_5562_11ec_a6cd_0242ac1c0002row18_col28,#T_d81fefa4_5562_11ec_a6cd_0242ac1c0002row19_col28,#T_d81fefa4_5562_11ec_a6cd_0242ac1c0002row20_col28,#T_d81fefa4_5562_11ec_a6cd_0242ac1c0002row26_col29{\n",
              "            background-color:  #fff2ec;\n",
              "            color:  #000000;\n",
              "        }#T_d81fefa4_5562_11ec_a6cd_0242ac1c0002row2_col13,#T_d81fefa4_5562_11ec_a6cd_0242ac1c0002row2_col31,#T_d81fefa4_5562_11ec_a6cd_0242ac1c0002row3_col13,#T_d81fefa4_5562_11ec_a6cd_0242ac1c0002row3_col31,#T_d81fefa4_5562_11ec_a6cd_0242ac1c0002row4_col13,#T_d81fefa4_5562_11ec_a6cd_0242ac1c0002row4_col31,#T_d81fefa4_5562_11ec_a6cd_0242ac1c0002row10_col20,#T_d81fefa4_5562_11ec_a6cd_0242ac1c0002row11_col16,#T_d81fefa4_5562_11ec_a6cd_0242ac1c0002row11_col17,#T_d81fefa4_5562_11ec_a6cd_0242ac1c0002row13_col0,#T_d81fefa4_5562_11ec_a6cd_0242ac1c0002row13_col1,#T_d81fefa4_5562_11ec_a6cd_0242ac1c0002row23_col18,#T_d81fefa4_5562_11ec_a6cd_0242ac1c0002row24_col18,#T_d81fefa4_5562_11ec_a6cd_0242ac1c0002row30_col21{\n",
              "            background-color:  #fc8b6b;\n",
              "            color:  #000000;\n",
              "        }#T_d81fefa4_5562_11ec_a6cd_0242ac1c0002row2_col14,#T_d81fefa4_5562_11ec_a6cd_0242ac1c0002row3_col14,#T_d81fefa4_5562_11ec_a6cd_0242ac1c0002row4_col14,#T_d81fefa4_5562_11ec_a6cd_0242ac1c0002row15_col10,#T_d81fefa4_5562_11ec_a6cd_0242ac1c0002row18_col31,#T_d81fefa4_5562_11ec_a6cd_0242ac1c0002row19_col31,#T_d81fefa4_5562_11ec_a6cd_0242ac1c0002row20_col31,#T_d81fefa4_5562_11ec_a6cd_0242ac1c0002row23_col5,#T_d81fefa4_5562_11ec_a6cd_0242ac1c0002row32_col1{\n",
              "            background-color:  #fcc1a8;\n",
              "            color:  #000000;\n",
              "        }#T_d81fefa4_5562_11ec_a6cd_0242ac1c0002row2_col15,#T_d81fefa4_5562_11ec_a6cd_0242ac1c0002row3_col15,#T_d81fefa4_5562_11ec_a6cd_0242ac1c0002row4_col11,#T_d81fefa4_5562_11ec_a6cd_0242ac1c0002row4_col15,#T_d81fefa4_5562_11ec_a6cd_0242ac1c0002row12_col20{\n",
              "            background-color:  #fcaa8d;\n",
              "            color:  #000000;\n",
              "        }#T_d81fefa4_5562_11ec_a6cd_0242ac1c0002row2_col16,#T_d81fefa4_5562_11ec_a6cd_0242ac1c0002row2_col17{\n",
              "            background-color:  #cf1c1f;\n",
              "            color:  #f1f1f1;\n",
              "        }#T_d81fefa4_5562_11ec_a6cd_0242ac1c0002row2_col18,#T_d81fefa4_5562_11ec_a6cd_0242ac1c0002row2_col19,#T_d81fefa4_5562_11ec_a6cd_0242ac1c0002row3_col18,#T_d81fefa4_5562_11ec_a6cd_0242ac1c0002row3_col19,#T_d81fefa4_5562_11ec_a6cd_0242ac1c0002row4_col19{\n",
              "            background-color:  #e12d26;\n",
              "            color:  #f1f1f1;\n",
              "        }#T_d81fefa4_5562_11ec_a6cd_0242ac1c0002row2_col20,#T_d81fefa4_5562_11ec_a6cd_0242ac1c0002row3_col20{\n",
              "            background-color:  #f0402f;\n",
              "            color:  #f1f1f1;\n",
              "        }#T_d81fefa4_5562_11ec_a6cd_0242ac1c0002row2_col22,#T_d81fefa4_5562_11ec_a6cd_0242ac1c0002row3_col22,#T_d81fefa4_5562_11ec_a6cd_0242ac1c0002row8_col2,#T_d81fefa4_5562_11ec_a6cd_0242ac1c0002row8_col3,#T_d81fefa4_5562_11ec_a6cd_0242ac1c0002row8_col4,#T_d81fefa4_5562_11ec_a6cd_0242ac1c0002row22_col4,#T_d81fefa4_5562_11ec_a6cd_0242ac1c0002row26_col14{\n",
              "            background-color:  #fee5d9;\n",
              "            color:  #000000;\n",
              "        }#T_d81fefa4_5562_11ec_a6cd_0242ac1c0002row2_col23,#T_d81fefa4_5562_11ec_a6cd_0242ac1c0002row3_col23,#T_d81fefa4_5562_11ec_a6cd_0242ac1c0002row4_col23,#T_d81fefa4_5562_11ec_a6cd_0242ac1c0002row9_col11,#T_d81fefa4_5562_11ec_a6cd_0242ac1c0002row12_col32{\n",
              "            background-color:  #fdd3c1;\n",
              "            color:  #000000;\n",
              "        }#T_d81fefa4_5562_11ec_a6cd_0242ac1c0002row2_col24,#T_d81fefa4_5562_11ec_a6cd_0242ac1c0002row3_col24,#T_d81fefa4_5562_11ec_a6cd_0242ac1c0002row4_col24,#T_d81fefa4_5562_11ec_a6cd_0242ac1c0002row9_col7,#T_d81fefa4_5562_11ec_a6cd_0242ac1c0002row18_col22,#T_d81fefa4_5562_11ec_a6cd_0242ac1c0002row21_col24,#T_d81fefa4_5562_11ec_a6cd_0242ac1c0002row24_col4,#T_d81fefa4_5562_11ec_a6cd_0242ac1c0002row26_col31{\n",
              "            background-color:  #fee1d3;\n",
              "            color:  #000000;\n",
              "        }#T_d81fefa4_5562_11ec_a6cd_0242ac1c0002row2_col25,#T_d81fefa4_5562_11ec_a6cd_0242ac1c0002row3_col25,#T_d81fefa4_5562_11ec_a6cd_0242ac1c0002row4_col25,#T_d81fefa4_5562_11ec_a6cd_0242ac1c0002row7_col16,#T_d81fefa4_5562_11ec_a6cd_0242ac1c0002row7_col17,#T_d81fefa4_5562_11ec_a6cd_0242ac1c0002row10_col18,#T_d81fefa4_5562_11ec_a6cd_0242ac1c0002row12_col0,#T_d81fefa4_5562_11ec_a6cd_0242ac1c0002row12_col1,#T_d81fefa4_5562_11ec_a6cd_0242ac1c0002row14_col18,#T_d81fefa4_5562_11ec_a6cd_0242ac1c0002row14_col19,#T_d81fefa4_5562_11ec_a6cd_0242ac1c0002row31_col16,#T_d81fefa4_5562_11ec_a6cd_0242ac1c0002row31_col17{\n",
              "            background-color:  #fc8262;\n",
              "            color:  #000000;\n",
              "        }#T_d81fefa4_5562_11ec_a6cd_0242ac1c0002row2_col26,#T_d81fefa4_5562_11ec_a6cd_0242ac1c0002row3_col26,#T_d81fefa4_5562_11ec_a6cd_0242ac1c0002row4_col26,#T_d81fefa4_5562_11ec_a6cd_0242ac1c0002row6_col26,#T_d81fefa4_5562_11ec_a6cd_0242ac1c0002row10_col28,#T_d81fefa4_5562_11ec_a6cd_0242ac1c0002row14_col9,#T_d81fefa4_5562_11ec_a6cd_0242ac1c0002row14_col12,#T_d81fefa4_5562_11ec_a6cd_0242ac1c0002row25_col9,#T_d81fefa4_5562_11ec_a6cd_0242ac1c0002row25_col26,#T_d81fefa4_5562_11ec_a6cd_0242ac1c0002row31_col26{\n",
              "            background-color:  #fff2eb;\n",
              "            color:  #000000;\n",
              "        }#T_d81fefa4_5562_11ec_a6cd_0242ac1c0002row2_col28,#T_d81fefa4_5562_11ec_a6cd_0242ac1c0002row3_col28,#T_d81fefa4_5562_11ec_a6cd_0242ac1c0002row4_col28,#T_d81fefa4_5562_11ec_a6cd_0242ac1c0002row6_col12,#T_d81fefa4_5562_11ec_a6cd_0242ac1c0002row8_col28,#T_d81fefa4_5562_11ec_a6cd_0242ac1c0002row12_col9,#T_d81fefa4_5562_11ec_a6cd_0242ac1c0002row16_col22,#T_d81fefa4_5562_11ec_a6cd_0242ac1c0002row17_col22,#T_d81fefa4_5562_11ec_a6cd_0242ac1c0002row21_col28,#T_d81fefa4_5562_11ec_a6cd_0242ac1c0002row22_col28,#T_d81fefa4_5562_11ec_a6cd_0242ac1c0002row23_col28,#T_d81fefa4_5562_11ec_a6cd_0242ac1c0002row31_col14,#T_d81fefa4_5562_11ec_a6cd_0242ac1c0002row32_col9{\n",
              "            background-color:  #fff0e9;\n",
              "            color:  #000000;\n",
              "        }#T_d81fefa4_5562_11ec_a6cd_0242ac1c0002row2_col30,#T_d81fefa4_5562_11ec_a6cd_0242ac1c0002row3_col30,#T_d81fefa4_5562_11ec_a6cd_0242ac1c0002row4_col30,#T_d81fefa4_5562_11ec_a6cd_0242ac1c0002row7_col6,#T_d81fefa4_5562_11ec_a6cd_0242ac1c0002row10_col21,#T_d81fefa4_5562_11ec_a6cd_0242ac1c0002row14_col5,#T_d81fefa4_5562_11ec_a6cd_0242ac1c0002row29_col0,#T_d81fefa4_5562_11ec_a6cd_0242ac1c0002row29_col1,#T_d81fefa4_5562_11ec_a6cd_0242ac1c0002row30_col15{\n",
              "            background-color:  #fc9373;\n",
              "            color:  #000000;\n",
              "        }#T_d81fefa4_5562_11ec_a6cd_0242ac1c0002row2_col32,#T_d81fefa4_5562_11ec_a6cd_0242ac1c0002row12_col5,#T_d81fefa4_5562_11ec_a6cd_0242ac1c0002row21_col11,#T_d81fefa4_5562_11ec_a6cd_0242ac1c0002row22_col5,#T_d81fefa4_5562_11ec_a6cd_0242ac1c0002row22_col23,#T_d81fefa4_5562_11ec_a6cd_0242ac1c0002row25_col15,#T_d81fefa4_5562_11ec_a6cd_0242ac1c0002row28_col32,#T_d81fefa4_5562_11ec_a6cd_0242ac1c0002row29_col32{\n",
              "            background-color:  #fdd0bc;\n",
              "            color:  #000000;\n",
              "        }#T_d81fefa4_5562_11ec_a6cd_0242ac1c0002row3_col6,#T_d81fefa4_5562_11ec_a6cd_0242ac1c0002row6_col3{\n",
              "            background-color:  #7e0610;\n",
              "            color:  #f1f1f1;\n",
              "        }#T_d81fefa4_5562_11ec_a6cd_0242ac1c0002row3_col16,#T_d81fefa4_5562_11ec_a6cd_0242ac1c0002row3_col17,#T_d81fefa4_5562_11ec_a6cd_0242ac1c0002row4_col16,#T_d81fefa4_5562_11ec_a6cd_0242ac1c0002row4_col17{\n",
              "            background-color:  #ce1a1e;\n",
              "            color:  #f1f1f1;\n",
              "        }#T_d81fefa4_5562_11ec_a6cd_0242ac1c0002row3_col32,#T_d81fefa4_5562_11ec_a6cd_0242ac1c0002row4_col32,#T_d81fefa4_5562_11ec_a6cd_0242ac1c0002row9_col32,#T_d81fefa4_5562_11ec_a6cd_0242ac1c0002row15_col8,#T_d81fefa4_5562_11ec_a6cd_0242ac1c0002row18_col10,#T_d81fefa4_5562_11ec_a6cd_0242ac1c0002row19_col10{\n",
              "            background-color:  #fdd1be;\n",
              "            color:  #000000;\n",
              "        }#T_d81fefa4_5562_11ec_a6cd_0242ac1c0002row4_col0,#T_d81fefa4_5562_11ec_a6cd_0242ac1c0002row4_col1,#T_d81fefa4_5562_11ec_a6cd_0242ac1c0002row8_col0,#T_d81fefa4_5562_11ec_a6cd_0242ac1c0002row30_col16,#T_d81fefa4_5562_11ec_a6cd_0242ac1c0002row30_col17{\n",
              "            background-color:  #fc8565;\n",
              "            color:  #000000;\n",
              "        }#T_d81fefa4_5562_11ec_a6cd_0242ac1c0002row4_col18,#T_d81fefa4_5562_11ec_a6cd_0242ac1c0002row16_col3,#T_d81fefa4_5562_11ec_a6cd_0242ac1c0002row16_col4,#T_d81fefa4_5562_11ec_a6cd_0242ac1c0002row17_col3,#T_d81fefa4_5562_11ec_a6cd_0242ac1c0002row17_col4,#T_d81fefa4_5562_11ec_a6cd_0242ac1c0002row21_col20{\n",
              "            background-color:  #e22e27;\n",
              "            color:  #f1f1f1;\n",
              "        }#T_d81fefa4_5562_11ec_a6cd_0242ac1c0002row4_col20{\n",
              "            background-color:  #f14130;\n",
              "            color:  #f1f1f1;\n",
              "        }#T_d81fefa4_5562_11ec_a6cd_0242ac1c0002row4_col22,#T_d81fefa4_5562_11ec_a6cd_0242ac1c0002row5_col9,#T_d81fefa4_5562_11ec_a6cd_0242ac1c0002row6_col8,#T_d81fefa4_5562_11ec_a6cd_0242ac1c0002row10_col22,#T_d81fefa4_5562_11ec_a6cd_0242ac1c0002row12_col23,#T_d81fefa4_5562_11ec_a6cd_0242ac1c0002row14_col24,#T_d81fefa4_5562_11ec_a6cd_0242ac1c0002row22_col13,#T_d81fefa4_5562_11ec_a6cd_0242ac1c0002row28_col7,#T_d81fefa4_5562_11ec_a6cd_0242ac1c0002row28_col12,#T_d81fefa4_5562_11ec_a6cd_0242ac1c0002row28_col13{\n",
              "            background-color:  #fee6da;\n",
              "            color:  #000000;\n",
              "        }#T_d81fefa4_5562_11ec_a6cd_0242ac1c0002row5_col0,#T_d81fefa4_5562_11ec_a6cd_0242ac1c0002row5_col1,#T_d81fefa4_5562_11ec_a6cd_0242ac1c0002row6_col15,#T_d81fefa4_5562_11ec_a6cd_0242ac1c0002row26_col16,#T_d81fefa4_5562_11ec_a6cd_0242ac1c0002row26_col17{\n",
              "            background-color:  #fcb095;\n",
              "            color:  #000000;\n",
              "        }#T_d81fefa4_5562_11ec_a6cd_0242ac1c0002row5_col2,#T_d81fefa4_5562_11ec_a6cd_0242ac1c0002row5_col3,#T_d81fefa4_5562_11ec_a6cd_0242ac1c0002row5_col4,#T_d81fefa4_5562_11ec_a6cd_0242ac1c0002row11_col7,#T_d81fefa4_5562_11ec_a6cd_0242ac1c0002row11_col8,#T_d81fefa4_5562_11ec_a6cd_0242ac1c0002row11_col10{\n",
              "            background-color:  #fdc7b2;\n",
              "            color:  #000000;\n",
              "        }#T_d81fefa4_5562_11ec_a6cd_0242ac1c0002row5_col6,#T_d81fefa4_5562_11ec_a6cd_0242ac1c0002row6_col32,#T_d81fefa4_5562_11ec_a6cd_0242ac1c0002row8_col32,#T_d81fefa4_5562_11ec_a6cd_0242ac1c0002row14_col6,#T_d81fefa4_5562_11ec_a6cd_0242ac1c0002row16_col18,#T_d81fefa4_5562_11ec_a6cd_0242ac1c0002row16_col19,#T_d81fefa4_5562_11ec_a6cd_0242ac1c0002row17_col18,#T_d81fefa4_5562_11ec_a6cd_0242ac1c0002row17_col19,#T_d81fefa4_5562_11ec_a6cd_0242ac1c0002row20_col5,#T_d81fefa4_5562_11ec_a6cd_0242ac1c0002row23_col16,#T_d81fefa4_5562_11ec_a6cd_0242ac1c0002row23_col17,#T_d81fefa4_5562_11ec_a6cd_0242ac1c0002row25_col31{\n",
              "            background-color:  #fdcdb9;\n",
              "            color:  #000000;\n",
              "        }#T_d81fefa4_5562_11ec_a6cd_0242ac1c0002row5_col8,#T_d81fefa4_5562_11ec_a6cd_0242ac1c0002row14_col30,#T_d81fefa4_5562_11ec_a6cd_0242ac1c0002row18_col32,#T_d81fefa4_5562_11ec_a6cd_0242ac1c0002row19_col32,#T_d81fefa4_5562_11ec_a6cd_0242ac1c0002row23_col22,#T_d81fefa4_5562_11ec_a6cd_0242ac1c0002row25_col11,#T_d81fefa4_5562_11ec_a6cd_0242ac1c0002row26_col5{\n",
              "            background-color:  #fed9c9;\n",
              "            color:  #000000;\n",
              "        }#T_d81fefa4_5562_11ec_a6cd_0242ac1c0002row5_col10,#T_d81fefa4_5562_11ec_a6cd_0242ac1c0002row8_col16,#T_d81fefa4_5562_11ec_a6cd_0242ac1c0002row8_col17,#T_d81fefa4_5562_11ec_a6cd_0242ac1c0002row9_col21,#T_d81fefa4_5562_11ec_a6cd_0242ac1c0002row12_col19,#T_d81fefa4_5562_11ec_a6cd_0242ac1c0002row15_col25,#T_d81fefa4_5562_11ec_a6cd_0242ac1c0002row28_col21{\n",
              "            background-color:  #fca689;\n",
              "            color:  #000000;\n",
              "        }#T_d81fefa4_5562_11ec_a6cd_0242ac1c0002row5_col11,#T_d81fefa4_5562_11ec_a6cd_0242ac1c0002row10_col7,#T_d81fefa4_5562_11ec_a6cd_0242ac1c0002row12_col15,#T_d81fefa4_5562_11ec_a6cd_0242ac1c0002row14_col7{\n",
              "            background-color:  #fee2d5;\n",
              "            color:  #000000;\n",
              "        }#T_d81fefa4_5562_11ec_a6cd_0242ac1c0002row5_col13,#T_d81fefa4_5562_11ec_a6cd_0242ac1c0002row10_col9,#T_d81fefa4_5562_11ec_a6cd_0242ac1c0002row11_col22,#T_d81fefa4_5562_11ec_a6cd_0242ac1c0002row12_col8,#T_d81fefa4_5562_11ec_a6cd_0242ac1c0002row12_col22,#T_d81fefa4_5562_11ec_a6cd_0242ac1c0002row18_col16,#T_d81fefa4_5562_11ec_a6cd_0242ac1c0002row18_col17,#T_d81fefa4_5562_11ec_a6cd_0242ac1c0002row19_col16,#T_d81fefa4_5562_11ec_a6cd_0242ac1c0002row19_col17,#T_d81fefa4_5562_11ec_a6cd_0242ac1c0002row25_col12,#T_d81fefa4_5562_11ec_a6cd_0242ac1c0002row25_col22,#T_d81fefa4_5562_11ec_a6cd_0242ac1c0002row26_col2,#T_d81fefa4_5562_11ec_a6cd_0242ac1c0002row26_col3,#T_d81fefa4_5562_11ec_a6cd_0242ac1c0002row26_col4,#T_d81fefa4_5562_11ec_a6cd_0242ac1c0002row30_col5{\n",
              "            background-color:  #ffebe2;\n",
              "            color:  #000000;\n",
              "        }#T_d81fefa4_5562_11ec_a6cd_0242ac1c0002row5_col14,#T_d81fefa4_5562_11ec_a6cd_0242ac1c0002row7_col31,#T_d81fefa4_5562_11ec_a6cd_0242ac1c0002row13_col6,#T_d81fefa4_5562_11ec_a6cd_0242ac1c0002row28_col19{\n",
              "            background-color:  #fc9576;\n",
              "            color:  #000000;\n",
              "        }#T_d81fefa4_5562_11ec_a6cd_0242ac1c0002row5_col15,#T_d81fefa4_5562_11ec_a6cd_0242ac1c0002row10_col6,#T_d81fefa4_5562_11ec_a6cd_0242ac1c0002row11_col12,#T_d81fefa4_5562_11ec_a6cd_0242ac1c0002row16_col9,#T_d81fefa4_5562_11ec_a6cd_0242ac1c0002row17_col9,#T_d81fefa4_5562_11ec_a6cd_0242ac1c0002row20_col23,#T_d81fefa4_5562_11ec_a6cd_0242ac1c0002row25_col23,#T_d81fefa4_5562_11ec_a6cd_0242ac1c0002row26_col22,#T_d81fefa4_5562_11ec_a6cd_0242ac1c0002row26_col24,#T_d81fefa4_5562_11ec_a6cd_0242ac1c0002row31_col22,#T_d81fefa4_5562_11ec_a6cd_0242ac1c0002row32_col3,#T_d81fefa4_5562_11ec_a6cd_0242ac1c0002row32_col4{\n",
              "            background-color:  #feeae0;\n",
              "            color:  #000000;\n",
              "        }#T_d81fefa4_5562_11ec_a6cd_0242ac1c0002row5_col16,#T_d81fefa4_5562_11ec_a6cd_0242ac1c0002row5_col17,#T_d81fefa4_5562_11ec_a6cd_0242ac1c0002row13_col25,#T_d81fefa4_5562_11ec_a6cd_0242ac1c0002row25_col6,#T_d81fefa4_5562_11ec_a6cd_0242ac1c0002row31_col25{\n",
              "            background-color:  #fcad90;\n",
              "            color:  #000000;\n",
              "        }#T_d81fefa4_5562_11ec_a6cd_0242ac1c0002row5_col18,#T_d81fefa4_5562_11ec_a6cd_0242ac1c0002row5_col19,#T_d81fefa4_5562_11ec_a6cd_0242ac1c0002row13_col30{\n",
              "            background-color:  #fb7050;\n",
              "            color:  #000000;\n",
              "        }#T_d81fefa4_5562_11ec_a6cd_0242ac1c0002row5_col20,#T_d81fefa4_5562_11ec_a6cd_0242ac1c0002row7_col0,#T_d81fefa4_5562_11ec_a6cd_0242ac1c0002row7_col1,#T_d81fefa4_5562_11ec_a6cd_0242ac1c0002row15_col0,#T_d81fefa4_5562_11ec_a6cd_0242ac1c0002row15_col1,#T_d81fefa4_5562_11ec_a6cd_0242ac1c0002row16_col21,#T_d81fefa4_5562_11ec_a6cd_0242ac1c0002row17_col21,#T_d81fefa4_5562_11ec_a6cd_0242ac1c0002row23_col19,#T_d81fefa4_5562_11ec_a6cd_0242ac1c0002row24_col19{\n",
              "            background-color:  #fc8d6d;\n",
              "            color:  #000000;\n",
              "        }#T_d81fefa4_5562_11ec_a6cd_0242ac1c0002row5_col21{\n",
              "            background-color:  #f03d2d;\n",
              "            color:  #f1f1f1;\n",
              "        }#T_d81fefa4_5562_11ec_a6cd_0242ac1c0002row5_col22,#T_d81fefa4_5562_11ec_a6cd_0242ac1c0002row16_col20,#T_d81fefa4_5562_11ec_a6cd_0242ac1c0002row17_col20,#T_d81fefa4_5562_11ec_a6cd_0242ac1c0002row19_col22,#T_d81fefa4_5562_11ec_a6cd_0242ac1c0002row22_col11,#T_d81fefa4_5562_11ec_a6cd_0242ac1c0002row24_col6,#T_d81fefa4_5562_11ec_a6cd_0242ac1c0002row29_col14{\n",
              "            background-color:  #fee1d4;\n",
              "            color:  #000000;\n",
              "        }#T_d81fefa4_5562_11ec_a6cd_0242ac1c0002row5_col23,#T_d81fefa4_5562_11ec_a6cd_0242ac1c0002row8_col14,#T_d81fefa4_5562_11ec_a6cd_0242ac1c0002row18_col15,#T_d81fefa4_5562_11ec_a6cd_0242ac1c0002row19_col15,#T_d81fefa4_5562_11ec_a6cd_0242ac1c0002row20_col13,#T_d81fefa4_5562_11ec_a6cd_0242ac1c0002row21_col7,#T_d81fefa4_5562_11ec_a6cd_0242ac1c0002row24_col5,#T_d81fefa4_5562_11ec_a6cd_0242ac1c0002row32_col22{\n",
              "            background-color:  #fdcab5;\n",
              "            color:  #000000;\n",
              "        }#T_d81fefa4_5562_11ec_a6cd_0242ac1c0002row5_col25,#T_d81fefa4_5562_11ec_a6cd_0242ac1c0002row9_col20,#T_d81fefa4_5562_11ec_a6cd_0242ac1c0002row23_col20,#T_d81fefa4_5562_11ec_a6cd_0242ac1c0002row26_col20{\n",
              "            background-color:  #fca183;\n",
              "            color:  #000000;\n",
              "        }#T_d81fefa4_5562_11ec_a6cd_0242ac1c0002row5_col26,#T_d81fefa4_5562_11ec_a6cd_0242ac1c0002row10_col2,#T_d81fefa4_5562_11ec_a6cd_0242ac1c0002row10_col3,#T_d81fefa4_5562_11ec_a6cd_0242ac1c0002row10_col14,#T_d81fefa4_5562_11ec_a6cd_0242ac1c0002row20_col24,#T_d81fefa4_5562_11ec_a6cd_0242ac1c0002row25_col24,#T_d81fefa4_5562_11ec_a6cd_0242ac1c0002row30_col28{\n",
              "            background-color:  #ffede5;\n",
              "            color:  #000000;\n",
              "        }#T_d81fefa4_5562_11ec_a6cd_0242ac1c0002row5_col28,#T_d81fefa4_5562_11ec_a6cd_0242ac1c0002row12_col31,#T_d81fefa4_5562_11ec_a6cd_0242ac1c0002row15_col28,#T_d81fefa4_5562_11ec_a6cd_0242ac1c0002row16_col26,#T_d81fefa4_5562_11ec_a6cd_0242ac1c0002row17_col26,#T_d81fefa4_5562_11ec_a6cd_0242ac1c0002row22_col9,#T_d81fefa4_5562_11ec_a6cd_0242ac1c0002row25_col8,#T_d81fefa4_5562_11ec_a6cd_0242ac1c0002row26_col6,#T_d81fefa4_5562_11ec_a6cd_0242ac1c0002row32_col30{\n",
              "            background-color:  #ffece4;\n",
              "            color:  #000000;\n",
              "        }#T_d81fefa4_5562_11ec_a6cd_0242ac1c0002row5_col29,#T_d81fefa4_5562_11ec_a6cd_0242ac1c0002row7_col29,#T_d81fefa4_5562_11ec_a6cd_0242ac1c0002row9_col29,#T_d81fefa4_5562_11ec_a6cd_0242ac1c0002row10_col29,#T_d81fefa4_5562_11ec_a6cd_0242ac1c0002row11_col29,#T_d81fefa4_5562_11ec_a6cd_0242ac1c0002row13_col9,#T_d81fefa4_5562_11ec_a6cd_0242ac1c0002row16_col29,#T_d81fefa4_5562_11ec_a6cd_0242ac1c0002row17_col29,#T_d81fefa4_5562_11ec_a6cd_0242ac1c0002row18_col9,#T_d81fefa4_5562_11ec_a6cd_0242ac1c0002row19_col9,#T_d81fefa4_5562_11ec_a6cd_0242ac1c0002row22_col29,#T_d81fefa4_5562_11ec_a6cd_0242ac1c0002row23_col29,#T_d81fefa4_5562_11ec_a6cd_0242ac1c0002row24_col29,#T_d81fefa4_5562_11ec_a6cd_0242ac1c0002row28_col29,#T_d81fefa4_5562_11ec_a6cd_0242ac1c0002row30_col29{\n",
              "            background-color:  #fff4ee;\n",
              "            color:  #000000;\n",
              "        }#T_d81fefa4_5562_11ec_a6cd_0242ac1c0002row5_col32,#T_d81fefa4_5562_11ec_a6cd_0242ac1c0002row29_col21{\n",
              "            background-color:  #fca78b;\n",
              "            color:  #000000;\n",
              "        }#T_d81fefa4_5562_11ec_a6cd_0242ac1c0002row6_col5,#T_d81fefa4_5562_11ec_a6cd_0242ac1c0002row8_col11,#T_d81fefa4_5562_11ec_a6cd_0242ac1c0002row15_col6,#T_d81fefa4_5562_11ec_a6cd_0242ac1c0002row15_col7{\n",
              "            background-color:  #fcbba1;\n",
              "            color:  #000000;\n",
              "        }#T_d81fefa4_5562_11ec_a6cd_0242ac1c0002row6_col7,#T_d81fefa4_5562_11ec_a6cd_0242ac1c0002row6_col13,#T_d81fefa4_5562_11ec_a6cd_0242ac1c0002row14_col20,#T_d81fefa4_5562_11ec_a6cd_0242ac1c0002row32_col24{\n",
              "            background-color:  #fc9070;\n",
              "            color:  #000000;\n",
              "        }#T_d81fefa4_5562_11ec_a6cd_0242ac1c0002row6_col10,#T_d81fefa4_5562_11ec_a6cd_0242ac1c0002row13_col5,#T_d81fefa4_5562_11ec_a6cd_0242ac1c0002row29_col10,#T_d81fefa4_5562_11ec_a6cd_0242ac1c0002row29_col15,#T_d81fefa4_5562_11ec_a6cd_0242ac1c0002row30_col23,#T_d81fefa4_5562_11ec_a6cd_0242ac1c0002row32_col11,#T_d81fefa4_5562_11ec_a6cd_0242ac1c0002row32_col16,#T_d81fefa4_5562_11ec_a6cd_0242ac1c0002row32_col17{\n",
              "            background-color:  #fee3d7;\n",
              "            color:  #000000;\n",
              "        }#T_d81fefa4_5562_11ec_a6cd_0242ac1c0002row6_col11,#T_d81fefa4_5562_11ec_a6cd_0242ac1c0002row18_col5,#T_d81fefa4_5562_11ec_a6cd_0242ac1c0002row19_col5,#T_d81fefa4_5562_11ec_a6cd_0242ac1c0002row21_col14{\n",
              "            background-color:  #fcaf93;\n",
              "            color:  #000000;\n",
              "        }#T_d81fefa4_5562_11ec_a6cd_0242ac1c0002row6_col14{\n",
              "            background-color:  #fcbea5;\n",
              "            color:  #000000;\n",
              "        }#T_d81fefa4_5562_11ec_a6cd_0242ac1c0002row6_col16,#T_d81fefa4_5562_11ec_a6cd_0242ac1c0002row6_col17,#T_d81fefa4_5562_11ec_a6cd_0242ac1c0002row16_col2,#T_d81fefa4_5562_11ec_a6cd_0242ac1c0002row17_col2{\n",
              "            background-color:  #e32f27;\n",
              "            color:  #f1f1f1;\n",
              "        }#T_d81fefa4_5562_11ec_a6cd_0242ac1c0002row6_col18,#T_d81fefa4_5562_11ec_a6cd_0242ac1c0002row6_col19{\n",
              "            background-color:  #da2723;\n",
              "            color:  #f1f1f1;\n",
              "        }#T_d81fefa4_5562_11ec_a6cd_0242ac1c0002row6_col20,#T_d81fefa4_5562_11ec_a6cd_0242ac1c0002row20_col21{\n",
              "            background-color:  #e83429;\n",
              "            color:  #f1f1f1;\n",
              "        }#T_d81fefa4_5562_11ec_a6cd_0242ac1c0002row6_col21{\n",
              "            background-color:  #e53228;\n",
              "            color:  #f1f1f1;\n",
              "        }#T_d81fefa4_5562_11ec_a6cd_0242ac1c0002row6_col22,#T_d81fefa4_5562_11ec_a6cd_0242ac1c0002row8_col23,#T_d81fefa4_5562_11ec_a6cd_0242ac1c0002row9_col23,#T_d81fefa4_5562_11ec_a6cd_0242ac1c0002row9_col31,#T_d81fefa4_5562_11ec_a6cd_0242ac1c0002row11_col23,#T_d81fefa4_5562_11ec_a6cd_0242ac1c0002row12_col11,#T_d81fefa4_5562_11ec_a6cd_0242ac1c0002row15_col5,#T_d81fefa4_5562_11ec_a6cd_0242ac1c0002row15_col12,#T_d81fefa4_5562_11ec_a6cd_0242ac1c0002row18_col24,#T_d81fefa4_5562_11ec_a6cd_0242ac1c0002row19_col24,#T_d81fefa4_5562_11ec_a6cd_0242ac1c0002row20_col22,#T_d81fefa4_5562_11ec_a6cd_0242ac1c0002row23_col13,#T_d81fefa4_5562_11ec_a6cd_0242ac1c0002row28_col10,#T_d81fefa4_5562_11ec_a6cd_0242ac1c0002row28_col14,#T_d81fefa4_5562_11ec_a6cd_0242ac1c0002row28_col23,#T_d81fefa4_5562_11ec_a6cd_0242ac1c0002row28_col30,#T_d81fefa4_5562_11ec_a6cd_0242ac1c0002row29_col23,#T_d81fefa4_5562_11ec_a6cd_0242ac1c0002row31_col23{\n",
              "            background-color:  #fee4d8;\n",
              "            color:  #000000;\n",
              "        }#T_d81fefa4_5562_11ec_a6cd_0242ac1c0002row6_col25{\n",
              "            background-color:  #fc8060;\n",
              "            color:  #000000;\n",
              "        }#T_d81fefa4_5562_11ec_a6cd_0242ac1c0002row6_col28,#T_d81fefa4_5562_11ec_a6cd_0242ac1c0002row7_col26,#T_d81fefa4_5562_11ec_a6cd_0242ac1c0002row20_col8,#T_d81fefa4_5562_11ec_a6cd_0242ac1c0002row22_col26,#T_d81fefa4_5562_11ec_a6cd_0242ac1c0002row23_col26,#T_d81fefa4_5562_11ec_a6cd_0242ac1c0002row24_col26,#T_d81fefa4_5562_11ec_a6cd_0242ac1c0002row31_col28{\n",
              "            background-color:  #fff0e8;\n",
              "            color:  #000000;\n",
              "        }#T_d81fefa4_5562_11ec_a6cd_0242ac1c0002row6_col30,#T_d81fefa4_5562_11ec_a6cd_0242ac1c0002row8_col18,#T_d81fefa4_5562_11ec_a6cd_0242ac1c0002row8_col19,#T_d81fefa4_5562_11ec_a6cd_0242ac1c0002row26_col19,#T_d81fefa4_5562_11ec_a6cd_0242ac1c0002row32_col19,#T_d81fefa4_5562_11ec_a6cd_0242ac1c0002row32_col21{\n",
              "            background-color:  #fc9c7d;\n",
              "            color:  #000000;\n",
              "        }#T_d81fefa4_5562_11ec_a6cd_0242ac1c0002row6_col31,#T_d81fefa4_5562_11ec_a6cd_0242ac1c0002row11_col20,#T_d81fefa4_5562_11ec_a6cd_0242ac1c0002row15_col21,#T_d81fefa4_5562_11ec_a6cd_0242ac1c0002row22_col20,#T_d81fefa4_5562_11ec_a6cd_0242ac1c0002row30_col0,#T_d81fefa4_5562_11ec_a6cd_0242ac1c0002row30_col1{\n",
              "            background-color:  #fc9272;\n",
              "            color:  #000000;\n",
              "        }#T_d81fefa4_5562_11ec_a6cd_0242ac1c0002row7_col2,#T_d81fefa4_5562_11ec_a6cd_0242ac1c0002row7_col3,#T_d81fefa4_5562_11ec_a6cd_0242ac1c0002row7_col4,#T_d81fefa4_5562_11ec_a6cd_0242ac1c0002row13_col4,#T_d81fefa4_5562_11ec_a6cd_0242ac1c0002row28_col0,#T_d81fefa4_5562_11ec_a6cd_0242ac1c0002row28_col1{\n",
              "            background-color:  #fc8f6f;\n",
              "            color:  #000000;\n",
              "        }#T_d81fefa4_5562_11ec_a6cd_0242ac1c0002row7_col5,#T_d81fefa4_5562_11ec_a6cd_0242ac1c0002row8_col12,#T_d81fefa4_5562_11ec_a6cd_0242ac1c0002row9_col6,#T_d81fefa4_5562_11ec_a6cd_0242ac1c0002row9_col24,#T_d81fefa4_5562_11ec_a6cd_0242ac1c0002row12_col7,#T_d81fefa4_5562_11ec_a6cd_0242ac1c0002row13_col22,#T_d81fefa4_5562_11ec_a6cd_0242ac1c0002row22_col8,#T_d81fefa4_5562_11ec_a6cd_0242ac1c0002row26_col13,#T_d81fefa4_5562_11ec_a6cd_0242ac1c0002row26_col30,#T_d81fefa4_5562_11ec_a6cd_0242ac1c0002row28_col6,#T_d81fefa4_5562_11ec_a6cd_0242ac1c0002row28_col22,#T_d81fefa4_5562_11ec_a6cd_0242ac1c0002row28_col24,#T_d81fefa4_5562_11ec_a6cd_0242ac1c0002row29_col2,#T_d81fefa4_5562_11ec_a6cd_0242ac1c0002row29_col3,#T_d81fefa4_5562_11ec_a6cd_0242ac1c0002row29_col4,#T_d81fefa4_5562_11ec_a6cd_0242ac1c0002row29_col22,#T_d81fefa4_5562_11ec_a6cd_0242ac1c0002row29_col24,#T_d81fefa4_5562_11ec_a6cd_0242ac1c0002row30_col8,#T_d81fefa4_5562_11ec_a6cd_0242ac1c0002row31_col24,#T_d81fefa4_5562_11ec_a6cd_0242ac1c0002row32_col2,#T_d81fefa4_5562_11ec_a6cd_0242ac1c0002row32_col6,#T_d81fefa4_5562_11ec_a6cd_0242ac1c0002row32_col12,#T_d81fefa4_5562_11ec_a6cd_0242ac1c0002row32_col13{\n",
              "            background-color:  #fee9df;\n",
              "            color:  #000000;\n",
              "        }#T_d81fefa4_5562_11ec_a6cd_0242ac1c0002row7_col9,#T_d81fefa4_5562_11ec_a6cd_0242ac1c0002row7_col12,#T_d81fefa4_5562_11ec_a6cd_0242ac1c0002row9_col22,#T_d81fefa4_5562_11ec_a6cd_0242ac1c0002row15_col24,#T_d81fefa4_5562_11ec_a6cd_0242ac1c0002row16_col12,#T_d81fefa4_5562_11ec_a6cd_0242ac1c0002row17_col12,#T_d81fefa4_5562_11ec_a6cd_0242ac1c0002row21_col0,#T_d81fefa4_5562_11ec_a6cd_0242ac1c0002row21_col1,#T_d81fefa4_5562_11ec_a6cd_0242ac1c0002row23_col30,#T_d81fefa4_5562_11ec_a6cd_0242ac1c0002row24_col8,#T_d81fefa4_5562_11ec_a6cd_0242ac1c0002row24_col12,#T_d81fefa4_5562_11ec_a6cd_0242ac1c0002row24_col30,#T_d81fefa4_5562_11ec_a6cd_0242ac1c0002row28_col8,#T_d81fefa4_5562_11ec_a6cd_0242ac1c0002row32_col8,#T_d81fefa4_5562_11ec_a6cd_0242ac1c0002row32_col15{\n",
              "            background-color:  #fee7dc;\n",
              "            color:  #000000;\n",
              "        }#T_d81fefa4_5562_11ec_a6cd_0242ac1c0002row7_col11,#T_d81fefa4_5562_11ec_a6cd_0242ac1c0002row14_col25,#T_d81fefa4_5562_11ec_a6cd_0242ac1c0002row28_col25,#T_d81fefa4_5562_11ec_a6cd_0242ac1c0002row29_col25{\n",
              "            background-color:  #fcbca2;\n",
              "            color:  #000000;\n",
              "        }#T_d81fefa4_5562_11ec_a6cd_0242ac1c0002row7_col13,#T_d81fefa4_5562_11ec_a6cd_0242ac1c0002row23_col21,#T_d81fefa4_5562_11ec_a6cd_0242ac1c0002row31_col21{\n",
              "            background-color:  #fc9777;\n",
              "            color:  #000000;\n",
              "        }#T_d81fefa4_5562_11ec_a6cd_0242ac1c0002row7_col14,#T_d81fefa4_5562_11ec_a6cd_0242ac1c0002row12_col10,#T_d81fefa4_5562_11ec_a6cd_0242ac1c0002row14_col8,#T_d81fefa4_5562_11ec_a6cd_0242ac1c0002row20_col14,#T_d81fefa4_5562_11ec_a6cd_0242ac1c0002row30_col32,#T_d81fefa4_5562_11ec_a6cd_0242ac1c0002row31_col32{\n",
              "            background-color:  #fdd7c6;\n",
              "            color:  #000000;\n",
              "        }#T_d81fefa4_5562_11ec_a6cd_0242ac1c0002row7_col15,#T_d81fefa4_5562_11ec_a6cd_0242ac1c0002row11_col25,#T_d81fefa4_5562_11ec_a6cd_0242ac1c0002row12_col21,#T_d81fefa4_5562_11ec_a6cd_0242ac1c0002row13_col15,#T_d81fefa4_5562_11ec_a6cd_0242ac1c0002row29_col16,#T_d81fefa4_5562_11ec_a6cd_0242ac1c0002row29_col17,#T_d81fefa4_5562_11ec_a6cd_0242ac1c0002row32_col5{\n",
              "            background-color:  #fcb499;\n",
              "            color:  #000000;\n",
              "        }#T_d81fefa4_5562_11ec_a6cd_0242ac1c0002row7_col18,#T_d81fefa4_5562_11ec_a6cd_0242ac1c0002row7_col19{\n",
              "            background-color:  #fb7252;\n",
              "            color:  #000000;\n",
              "        }#T_d81fefa4_5562_11ec_a6cd_0242ac1c0002row7_col20,#T_d81fefa4_5562_11ec_a6cd_0242ac1c0002row24_col32,#T_d81fefa4_5562_11ec_a6cd_0242ac1c0002row30_col7{\n",
              "            background-color:  #fb7858;\n",
              "            color:  #000000;\n",
              "        }#T_d81fefa4_5562_11ec_a6cd_0242ac1c0002row7_col21,#T_d81fefa4_5562_11ec_a6cd_0242ac1c0002row9_col0,#T_d81fefa4_5562_11ec_a6cd_0242ac1c0002row9_col1,#T_d81fefa4_5562_11ec_a6cd_0242ac1c0002row22_col19,#T_d81fefa4_5562_11ec_a6cd_0242ac1c0002row26_col0,#T_d81fefa4_5562_11ec_a6cd_0242ac1c0002row26_col1{\n",
              "            background-color:  #fc8969;\n",
              "            color:  #000000;\n",
              "        }#T_d81fefa4_5562_11ec_a6cd_0242ac1c0002row7_col25,#T_d81fefa4_5562_11ec_a6cd_0242ac1c0002row8_col21,#T_d81fefa4_5562_11ec_a6cd_0242ac1c0002row12_col18,#T_d81fefa4_5562_11ec_a6cd_0242ac1c0002row13_col14{\n",
              "            background-color:  #fca588;\n",
              "            color:  #000000;\n",
              "        }#T_d81fefa4_5562_11ec_a6cd_0242ac1c0002row7_col30,#T_d81fefa4_5562_11ec_a6cd_0242ac1c0002row13_col18,#T_d81fefa4_5562_11ec_a6cd_0242ac1c0002row13_col19{\n",
              "            background-color:  #fb7757;\n",
              "            color:  #000000;\n",
              "        }#T_d81fefa4_5562_11ec_a6cd_0242ac1c0002row7_col32,#T_d81fefa4_5562_11ec_a6cd_0242ac1c0002row8_col13,#T_d81fefa4_5562_11ec_a6cd_0242ac1c0002row9_col28,#T_d81fefa4_5562_11ec_a6cd_0242ac1c0002row15_col9,#T_d81fefa4_5562_11ec_a6cd_0242ac1c0002row20_col11,#T_d81fefa4_5562_11ec_a6cd_0242ac1c0002row23_col14{\n",
              "            background-color:  #fed8c7;\n",
              "            color:  #000000;\n",
              "        }#T_d81fefa4_5562_11ec_a6cd_0242ac1c0002row8_col15,#T_d81fefa4_5562_11ec_a6cd_0242ac1c0002row18_col14,#T_d81fefa4_5562_11ec_a6cd_0242ac1c0002row19_col14,#T_d81fefa4_5562_11ec_a6cd_0242ac1c0002row21_col31{\n",
              "            background-color:  #fdcbb6;\n",
              "            color:  #000000;\n",
              "        }#T_d81fefa4_5562_11ec_a6cd_0242ac1c0002row8_col20,#T_d81fefa4_5562_11ec_a6cd_0242ac1c0002row13_col11,#T_d81fefa4_5562_11ec_a6cd_0242ac1c0002row16_col31,#T_d81fefa4_5562_11ec_a6cd_0242ac1c0002row17_col31,#T_d81fefa4_5562_11ec_a6cd_0242ac1c0002row31_col6,#T_d81fefa4_5562_11ec_a6cd_0242ac1c0002row31_col7,#T_d81fefa4_5562_11ec_a6cd_0242ac1c0002row31_col15{\n",
              "            background-color:  #fca486;\n",
              "            color:  #000000;\n",
              "        }#T_d81fefa4_5562_11ec_a6cd_0242ac1c0002row8_col22,#T_d81fefa4_5562_11ec_a6cd_0242ac1c0002row9_col13,#T_d81fefa4_5562_11ec_a6cd_0242ac1c0002row12_col24,#T_d81fefa4_5562_11ec_a6cd_0242ac1c0002row15_col22,#T_d81fefa4_5562_11ec_a6cd_0242ac1c0002row26_col28,#T_d81fefa4_5562_11ec_a6cd_0242ac1c0002row29_col6{\n",
              "            background-color:  #feeae1;\n",
              "            color:  #000000;\n",
              "        }#T_d81fefa4_5562_11ec_a6cd_0242ac1c0002row8_col24,#T_d81fefa4_5562_11ec_a6cd_0242ac1c0002row8_col30,#T_d81fefa4_5562_11ec_a6cd_0242ac1c0002row9_col2,#T_d81fefa4_5562_11ec_a6cd_0242ac1c0002row9_col3,#T_d81fefa4_5562_11ec_a6cd_0242ac1c0002row9_col4,#T_d81fefa4_5562_11ec_a6cd_0242ac1c0002row9_col8,#T_d81fefa4_5562_11ec_a6cd_0242ac1c0002row10_col8,#T_d81fefa4_5562_11ec_a6cd_0242ac1c0002row10_col13,#T_d81fefa4_5562_11ec_a6cd_0242ac1c0002row11_col24,#T_d81fefa4_5562_11ec_a6cd_0242ac1c0002row26_col7,#T_d81fefa4_5562_11ec_a6cd_0242ac1c0002row28_col26,#T_d81fefa4_5562_11ec_a6cd_0242ac1c0002row29_col8,#T_d81fefa4_5562_11ec_a6cd_0242ac1c0002row30_col22,#T_d81fefa4_5562_11ec_a6cd_0242ac1c0002row30_col24{\n",
              "            background-color:  #fee8de;\n",
              "            color:  #000000;\n",
              "        }#T_d81fefa4_5562_11ec_a6cd_0242ac1c0002row8_col25,#T_d81fefa4_5562_11ec_a6cd_0242ac1c0002row10_col11,#T_d81fefa4_5562_11ec_a6cd_0242ac1c0002row10_col15,#T_d81fefa4_5562_11ec_a6cd_0242ac1c0002row18_col7,#T_d81fefa4_5562_11ec_a6cd_0242ac1c0002row19_col7,#T_d81fefa4_5562_11ec_a6cd_0242ac1c0002row24_col25,#T_d81fefa4_5562_11ec_a6cd_0242ac1c0002row25_col0,#T_d81fefa4_5562_11ec_a6cd_0242ac1c0002row25_col1,#T_d81fefa4_5562_11ec_a6cd_0242ac1c0002row25_col5{\n",
              "            background-color:  #fcc2aa;\n",
              "            color:  #000000;\n",
              "        }#T_d81fefa4_5562_11ec_a6cd_0242ac1c0002row9_col5,#T_d81fefa4_5562_11ec_a6cd_0242ac1c0002row14_col2,#T_d81fefa4_5562_11ec_a6cd_0242ac1c0002row14_col3,#T_d81fefa4_5562_11ec_a6cd_0242ac1c0002row14_col4,#T_d81fefa4_5562_11ec_a6cd_0242ac1c0002row21_col10,#T_d81fefa4_5562_11ec_a6cd_0242ac1c0002row21_col15,#T_d81fefa4_5562_11ec_a6cd_0242ac1c0002row32_col25{\n",
              "            background-color:  #fdcebb;\n",
              "            color:  #000000;\n",
              "        }#T_d81fefa4_5562_11ec_a6cd_0242ac1c0002row9_col15,#T_d81fefa4_5562_11ec_a6cd_0242ac1c0002row24_col16,#T_d81fefa4_5562_11ec_a6cd_0242ac1c0002row24_col17{\n",
              "            background-color:  #fdc6b0;\n",
              "            color:  #000000;\n",
              "        }#T_d81fefa4_5562_11ec_a6cd_0242ac1c0002row9_col16,#T_d81fefa4_5562_11ec_a6cd_0242ac1c0002row9_col17,#T_d81fefa4_5562_11ec_a6cd_0242ac1c0002row14_col13,#T_d81fefa4_5562_11ec_a6cd_0242ac1c0002row25_col2,#T_d81fefa4_5562_11ec_a6cd_0242ac1c0002row25_col3,#T_d81fefa4_5562_11ec_a6cd_0242ac1c0002row25_col4{\n",
              "            background-color:  #fcae92;\n",
              "            color:  #000000;\n",
              "        }#T_d81fefa4_5562_11ec_a6cd_0242ac1c0002row9_col18,#T_d81fefa4_5562_11ec_a6cd_0242ac1c0002row13_col7,#T_d81fefa4_5562_11ec_a6cd_0242ac1c0002row21_col16,#T_d81fefa4_5562_11ec_a6cd_0242ac1c0002row21_col17,#T_d81fefa4_5562_11ec_a6cd_0242ac1c0002row21_col25,#T_d81fefa4_5562_11ec_a6cd_0242ac1c0002row29_col20,#T_d81fefa4_5562_11ec_a6cd_0242ac1c0002row31_col2,#T_d81fefa4_5562_11ec_a6cd_0242ac1c0002row31_col3,#T_d81fefa4_5562_11ec_a6cd_0242ac1c0002row31_col4{\n",
              "            background-color:  #fc997a;\n",
              "            color:  #000000;\n",
              "        }#T_d81fefa4_5562_11ec_a6cd_0242ac1c0002row9_col19,#T_d81fefa4_5562_11ec_a6cd_0242ac1c0002row15_col31,#T_d81fefa4_5562_11ec_a6cd_0242ac1c0002row24_col21,#T_d81fefa4_5562_11ec_a6cd_0242ac1c0002row26_col18,#T_d81fefa4_5562_11ec_a6cd_0242ac1c0002row28_col20,#T_d81fefa4_5562_11ec_a6cd_0242ac1c0002row32_col18{\n",
              "            background-color:  #fc9b7c;\n",
              "            color:  #000000;\n",
              "        }#T_d81fefa4_5562_11ec_a6cd_0242ac1c0002row9_col25,#T_d81fefa4_5562_11ec_a6cd_0242ac1c0002row11_col6,#T_d81fefa4_5562_11ec_a6cd_0242ac1c0002row22_col16,#T_d81fefa4_5562_11ec_a6cd_0242ac1c0002row22_col17,#T_d81fefa4_5562_11ec_a6cd_0242ac1c0002row26_col25,#T_d81fefa4_5562_11ec_a6cd_0242ac1c0002row32_col0{\n",
              "            background-color:  #fcbfa7;\n",
              "            color:  #000000;\n",
              "        }#T_d81fefa4_5562_11ec_a6cd_0242ac1c0002row10_col5,#T_d81fefa4_5562_11ec_a6cd_0242ac1c0002row14_col0,#T_d81fefa4_5562_11ec_a6cd_0242ac1c0002row14_col1{\n",
              "            background-color:  #fc9e80;\n",
              "            color:  #000000;\n",
              "        }#T_d81fefa4_5562_11ec_a6cd_0242ac1c0002row10_col12,#T_d81fefa4_5562_11ec_a6cd_0242ac1c0002row21_col22,#T_d81fefa4_5562_11ec_a6cd_0242ac1c0002row22_col24,#T_d81fefa4_5562_11ec_a6cd_0242ac1c0002row23_col2,#T_d81fefa4_5562_11ec_a6cd_0242ac1c0002row23_col3,#T_d81fefa4_5562_11ec_a6cd_0242ac1c0002row23_col10,#T_d81fefa4_5562_11ec_a6cd_0242ac1c0002row25_col13,#T_d81fefa4_5562_11ec_a6cd_0242ac1c0002row28_col31{\n",
              "            background-color:  #fedaca;\n",
              "            color:  #000000;\n",
              "        }#T_d81fefa4_5562_11ec_a6cd_0242ac1c0002row10_col16,#T_d81fefa4_5562_11ec_a6cd_0242ac1c0002row10_col17,#T_d81fefa4_5562_11ec_a6cd_0242ac1c0002row16_col14,#T_d81fefa4_5562_11ec_a6cd_0242ac1c0002row17_col14,#T_d81fefa4_5562_11ec_a6cd_0242ac1c0002row20_col15,#T_d81fefa4_5562_11ec_a6cd_0242ac1c0002row21_col30,#T_d81fefa4_5562_11ec_a6cd_0242ac1c0002row30_col14{\n",
              "            background-color:  #fdccb8;\n",
              "            color:  #000000;\n",
              "        }#T_d81fefa4_5562_11ec_a6cd_0242ac1c0002row10_col19,#T_d81fefa4_5562_11ec_a6cd_0242ac1c0002row15_col20{\n",
              "            background-color:  #fc8464;\n",
              "            color:  #000000;\n",
              "        }#T_d81fefa4_5562_11ec_a6cd_0242ac1c0002row10_col32,#T_d81fefa4_5562_11ec_a6cd_0242ac1c0002row22_col25{\n",
              "            background-color:  #fcbda4;\n",
              "            color:  #000000;\n",
              "        }#T_d81fefa4_5562_11ec_a6cd_0242ac1c0002row11_col0,#T_d81fefa4_5562_11ec_a6cd_0242ac1c0002row11_col1,#T_d81fefa4_5562_11ec_a6cd_0242ac1c0002row31_col20{\n",
              "            background-color:  #fc8161;\n",
              "            color:  #000000;\n",
              "        }#T_d81fefa4_5562_11ec_a6cd_0242ac1c0002row11_col15,#T_d81fefa4_5562_11ec_a6cd_0242ac1c0002row16_col0,#T_d81fefa4_5562_11ec_a6cd_0242ac1c0002row16_col1,#T_d81fefa4_5562_11ec_a6cd_0242ac1c0002row17_col0,#T_d81fefa4_5562_11ec_a6cd_0242ac1c0002row17_col1{\n",
              "            background-color:  #d21f20;\n",
              "            color:  #f1f1f1;\n",
              "        }#T_d81fefa4_5562_11ec_a6cd_0242ac1c0002row11_col18,#T_d81fefa4_5562_11ec_a6cd_0242ac1c0002row11_col19,#T_d81fefa4_5562_11ec_a6cd_0242ac1c0002row31_col0,#T_d81fefa4_5562_11ec_a6cd_0242ac1c0002row31_col1,#T_d81fefa4_5562_11ec_a6cd_0242ac1c0002row31_col11{\n",
              "            background-color:  #fc8a6a;\n",
              "            color:  #000000;\n",
              "        }#T_d81fefa4_5562_11ec_a6cd_0242ac1c0002row11_col21,#T_d81fefa4_5562_11ec_a6cd_0242ac1c0002row15_col30{\n",
              "            background-color:  #fc9879;\n",
              "            color:  #000000;\n",
              "        }#T_d81fefa4_5562_11ec_a6cd_0242ac1c0002row11_col31,#T_d81fefa4_5562_11ec_a6cd_0242ac1c0002row13_col21,#T_d81fefa4_5562_11ec_a6cd_0242ac1c0002row22_col18,#T_d81fefa4_5562_11ec_a6cd_0242ac1c0002row25_col21{\n",
              "            background-color:  #fc8767;\n",
              "            color:  #000000;\n",
              "        }#T_d81fefa4_5562_11ec_a6cd_0242ac1c0002row12_col14,#T_d81fefa4_5562_11ec_a6cd_0242ac1c0002row12_col26{\n",
              "            background-color:  #ffece3;\n",
              "            color:  #000000;\n",
              "        }#T_d81fefa4_5562_11ec_a6cd_0242ac1c0002row12_col16,#T_d81fefa4_5562_11ec_a6cd_0242ac1c0002row12_col17,#T_d81fefa4_5562_11ec_a6cd_0242ac1c0002row15_col13,#T_d81fefa4_5562_11ec_a6cd_0242ac1c0002row16_col30,#T_d81fefa4_5562_11ec_a6cd_0242ac1c0002row17_col30{\n",
              "            background-color:  #fcb79c;\n",
              "            color:  #000000;\n",
              "        }#T_d81fefa4_5562_11ec_a6cd_0242ac1c0002row12_col25,#T_d81fefa4_5562_11ec_a6cd_0242ac1c0002row16_col15,#T_d81fefa4_5562_11ec_a6cd_0242ac1c0002row17_col15,#T_d81fefa4_5562_11ec_a6cd_0242ac1c0002row18_col30,#T_d81fefa4_5562_11ec_a6cd_0242ac1c0002row19_col30{\n",
              "            background-color:  #fcc3ab;\n",
              "            color:  #000000;\n",
              "        }#T_d81fefa4_5562_11ec_a6cd_0242ac1c0002row12_col28,#T_d81fefa4_5562_11ec_a6cd_0242ac1c0002row13_col28,#T_d81fefa4_5562_11ec_a6cd_0242ac1c0002row14_col10,#T_d81fefa4_5562_11ec_a6cd_0242ac1c0002row15_col14,#T_d81fefa4_5562_11ec_a6cd_0242ac1c0002row20_col0,#T_d81fefa4_5562_11ec_a6cd_0242ac1c0002row20_col1,#T_d81fefa4_5562_11ec_a6cd_0242ac1c0002row24_col28,#T_d81fefa4_5562_11ec_a6cd_0242ac1c0002row25_col16,#T_d81fefa4_5562_11ec_a6cd_0242ac1c0002row25_col17,#T_d81fefa4_5562_11ec_a6cd_0242ac1c0002row25_col28,#T_d81fefa4_5562_11ec_a6cd_0242ac1c0002row29_col28,#T_d81fefa4_5562_11ec_a6cd_0242ac1c0002row30_col12,#T_d81fefa4_5562_11ec_a6cd_0242ac1c0002row30_col26,#T_d81fefa4_5562_11ec_a6cd_0242ac1c0002row32_col26,#T_d81fefa4_5562_11ec_a6cd_0242ac1c0002row32_col28{\n",
              "            background-color:  #fff1ea;\n",
              "            color:  #000000;\n",
              "        }#T_d81fefa4_5562_11ec_a6cd_0242ac1c0002row13_col16,#T_d81fefa4_5562_11ec_a6cd_0242ac1c0002row13_col17,#T_d81fefa4_5562_11ec_a6cd_0242ac1c0002row15_col18,#T_d81fefa4_5562_11ec_a6cd_0242ac1c0002row20_col2,#T_d81fefa4_5562_11ec_a6cd_0242ac1c0002row31_col18{\n",
              "            background-color:  #fb7c5c;\n",
              "            color:  #000000;\n",
              "        }#T_d81fefa4_5562_11ec_a6cd_0242ac1c0002row13_col20,#T_d81fefa4_5562_11ec_a6cd_0242ac1c0002row20_col4,#T_d81fefa4_5562_11ec_a6cd_0242ac1c0002row31_col30{\n",
              "            background-color:  #fc7f5f;\n",
              "            color:  #000000;\n",
              "        }#T_d81fefa4_5562_11ec_a6cd_0242ac1c0002row13_col31,#T_d81fefa4_5562_11ec_a6cd_0242ac1c0002row25_col20{\n",
              "            background-color:  #b11218;\n",
              "            color:  #f1f1f1;\n",
              "        }#T_d81fefa4_5562_11ec_a6cd_0242ac1c0002row14_col16,#T_d81fefa4_5562_11ec_a6cd_0242ac1c0002row14_col17,#T_d81fefa4_5562_11ec_a6cd_0242ac1c0002row22_col0,#T_d81fefa4_5562_11ec_a6cd_0242ac1c0002row22_col1,#T_d81fefa4_5562_11ec_a6cd_0242ac1c0002row24_col0,#T_d81fefa4_5562_11ec_a6cd_0242ac1c0002row24_col1,#T_d81fefa4_5562_11ec_a6cd_0242ac1c0002row30_col25{\n",
              "            background-color:  #fca285;\n",
              "            color:  #000000;\n",
              "        }#T_d81fefa4_5562_11ec_a6cd_0242ac1c0002row14_col21,#T_d81fefa4_5562_11ec_a6cd_0242ac1c0002row15_col19,#T_d81fefa4_5562_11ec_a6cd_0242ac1c0002row20_col3,#T_d81fefa4_5562_11ec_a6cd_0242ac1c0002row31_col19{\n",
              "            background-color:  #fb7d5d;\n",
              "            color:  #000000;\n",
              "        }#T_d81fefa4_5562_11ec_a6cd_0242ac1c0002row14_col32,#T_d81fefa4_5562_11ec_a6cd_0242ac1c0002row20_col7,#T_d81fefa4_5562_11ec_a6cd_0242ac1c0002row21_col13,#T_d81fefa4_5562_11ec_a6cd_0242ac1c0002row21_col32,#T_d81fefa4_5562_11ec_a6cd_0242ac1c0002row23_col25{\n",
              "            background-color:  #fcc4ad;\n",
              "            color:  #000000;\n",
              "        }#T_d81fefa4_5562_11ec_a6cd_0242ac1c0002row15_col2,#T_d81fefa4_5562_11ec_a6cd_0242ac1c0002row15_col3,#T_d81fefa4_5562_11ec_a6cd_0242ac1c0002row15_col4,#T_d81fefa4_5562_11ec_a6cd_0242ac1c0002row28_col16,#T_d81fefa4_5562_11ec_a6cd_0242ac1c0002row28_col17{\n",
              "            background-color:  #fcb296;\n",
              "            color:  #000000;\n",
              "        }#T_d81fefa4_5562_11ec_a6cd_0242ac1c0002row15_col11{\n",
              "            background-color:  #d01d1f;\n",
              "            color:  #f1f1f1;\n",
              "        }#T_d81fefa4_5562_11ec_a6cd_0242ac1c0002row15_col16,#T_d81fefa4_5562_11ec_a6cd_0242ac1c0002row15_col17,#T_d81fefa4_5562_11ec_a6cd_0242ac1c0002row22_col21,#T_d81fefa4_5562_11ec_a6cd_0242ac1c0002row28_col18,#T_d81fefa4_5562_11ec_a6cd_0242ac1c0002row29_col18,#T_d81fefa4_5562_11ec_a6cd_0242ac1c0002row29_col19,#T_d81fefa4_5562_11ec_a6cd_0242ac1c0002row30_col2,#T_d81fefa4_5562_11ec_a6cd_0242ac1c0002row30_col3,#T_d81fefa4_5562_11ec_a6cd_0242ac1c0002row30_col4{\n",
              "            background-color:  #fc9474;\n",
              "            color:  #000000;\n",
              "        }#T_d81fefa4_5562_11ec_a6cd_0242ac1c0002row16_col6,#T_d81fefa4_5562_11ec_a6cd_0242ac1c0002row17_col6,#T_d81fefa4_5562_11ec_a6cd_0242ac1c0002row21_col2,#T_d81fefa4_5562_11ec_a6cd_0242ac1c0002row21_col3,#T_d81fefa4_5562_11ec_a6cd_0242ac1c0002row23_col32{\n",
              "            background-color:  #f44f39;\n",
              "            color:  #000000;\n",
              "        }#T_d81fefa4_5562_11ec_a6cd_0242ac1c0002row16_col7,#T_d81fefa4_5562_11ec_a6cd_0242ac1c0002row16_col11,#T_d81fefa4_5562_11ec_a6cd_0242ac1c0002row17_col7,#T_d81fefa4_5562_11ec_a6cd_0242ac1c0002row17_col11{\n",
              "            background-color:  #fcb398;\n",
              "            color:  #000000;\n",
              "        }#T_d81fefa4_5562_11ec_a6cd_0242ac1c0002row16_col13,#T_d81fefa4_5562_11ec_a6cd_0242ac1c0002row17_col13{\n",
              "            background-color:  #fca98c;\n",
              "            color:  #000000;\n",
              "        }#T_d81fefa4_5562_11ec_a6cd_0242ac1c0002row18_col2,#T_d81fefa4_5562_11ec_a6cd_0242ac1c0002row18_col3,#T_d81fefa4_5562_11ec_a6cd_0242ac1c0002row19_col3,#T_d81fefa4_5562_11ec_a6cd_0242ac1c0002row19_col4{\n",
              "            background-color:  #f96346;\n",
              "            color:  #000000;\n",
              "        }#T_d81fefa4_5562_11ec_a6cd_0242ac1c0002row18_col4{\n",
              "            background-color:  #fa6547;\n",
              "            color:  #000000;\n",
              "        }#T_d81fefa4_5562_11ec_a6cd_0242ac1c0002row18_col6,#T_d81fefa4_5562_11ec_a6cd_0242ac1c0002row19_col6{\n",
              "            background-color:  #f6563d;\n",
              "            color:  #000000;\n",
              "        }#T_d81fefa4_5562_11ec_a6cd_0242ac1c0002row18_col13,#T_d81fefa4_5562_11ec_a6cd_0242ac1c0002row19_col13,#T_d81fefa4_5562_11ec_a6cd_0242ac1c0002row20_col30{\n",
              "            background-color:  #fdc5ae;\n",
              "            color:  #000000;\n",
              "        }#T_d81fefa4_5562_11ec_a6cd_0242ac1c0002row18_col20,#T_d81fefa4_5562_11ec_a6cd_0242ac1c0002row20_col18{\n",
              "            background-color:  #6f020e;\n",
              "            color:  #f1f1f1;\n",
              "        }#T_d81fefa4_5562_11ec_a6cd_0242ac1c0002row18_col21,#T_d81fefa4_5562_11ec_a6cd_0242ac1c0002row19_col21{\n",
              "            background-color:  #c2161b;\n",
              "            color:  #f1f1f1;\n",
              "        }#T_d81fefa4_5562_11ec_a6cd_0242ac1c0002row18_col25,#T_d81fefa4_5562_11ec_a6cd_0242ac1c0002row19_col25{\n",
              "            background-color:  #cb181d;\n",
              "            color:  #f1f1f1;\n",
              "        }#T_d81fefa4_5562_11ec_a6cd_0242ac1c0002row19_col2,#T_d81fefa4_5562_11ec_a6cd_0242ac1c0002row21_col5{\n",
              "            background-color:  #f96245;\n",
              "            color:  #000000;\n",
              "        }#T_d81fefa4_5562_11ec_a6cd_0242ac1c0002row19_col20,#T_d81fefa4_5562_11ec_a6cd_0242ac1c0002row20_col19{\n",
              "            background-color:  #71020e;\n",
              "            color:  #f1f1f1;\n",
              "        }#T_d81fefa4_5562_11ec_a6cd_0242ac1c0002row20_col6{\n",
              "            background-color:  #fb6d4d;\n",
              "            color:  #000000;\n",
              "        }#T_d81fefa4_5562_11ec_a6cd_0242ac1c0002row20_col25{\n",
              "            background-color:  #b91419;\n",
              "            color:  #f1f1f1;\n",
              "        }#T_d81fefa4_5562_11ec_a6cd_0242ac1c0002row21_col4{\n",
              "            background-color:  #f4503a;\n",
              "            color:  #000000;\n",
              "        }#T_d81fefa4_5562_11ec_a6cd_0242ac1c0002row21_col6{\n",
              "            background-color:  #f85d42;\n",
              "            color:  #000000;\n",
              "        }#T_d81fefa4_5562_11ec_a6cd_0242ac1c0002row21_col18,#T_d81fefa4_5562_11ec_a6cd_0242ac1c0002row21_col19{\n",
              "            background-color:  #bc141a;\n",
              "            color:  #f1f1f1;\n",
              "        }#T_d81fefa4_5562_11ec_a6cd_0242ac1c0002row23_col24{\n",
              "            background-color:  #b61319;\n",
              "            color:  #f1f1f1;\n",
              "        }#T_d81fefa4_5562_11ec_a6cd_0242ac1c0002row24_col20{\n",
              "            background-color:  #fc9d7f;\n",
              "            color:  #000000;\n",
              "        }#T_d81fefa4_5562_11ec_a6cd_0242ac1c0002row24_col23,#T_d81fefa4_5562_11ec_a6cd_0242ac1c0002row31_col13{\n",
              "            background-color:  #b51318;\n",
              "            color:  #f1f1f1;\n",
              "        }#T_d81fefa4_5562_11ec_a6cd_0242ac1c0002row25_col18,#T_d81fefa4_5562_11ec_a6cd_0242ac1c0002row25_col19{\n",
              "            background-color:  #bf151b;\n",
              "            color:  #f1f1f1;\n",
              "        }#T_d81fefa4_5562_11ec_a6cd_0242ac1c0002row28_col5,#T_d81fefa4_5562_11ec_a6cd_0242ac1c0002row28_col9{\n",
              "            background-color:  #fdd5c4;\n",
              "            color:  #000000;\n",
              "        }#T_d81fefa4_5562_11ec_a6cd_0242ac1c0002row30_col6,#T_d81fefa4_5562_11ec_a6cd_0242ac1c0002row30_col11{\n",
              "            background-color:  #fca082;\n",
              "            color:  #000000;\n",
              "        }#T_d81fefa4_5562_11ec_a6cd_0242ac1c0002row30_col13{\n",
              "            background-color:  #fb6e4e;\n",
              "            color:  #000000;\n",
              "        }#T_d81fefa4_5562_11ec_a6cd_0242ac1c0002row30_col18,#T_d81fefa4_5562_11ec_a6cd_0242ac1c0002row30_col19,#T_d81fefa4_5562_11ec_a6cd_0242ac1c0002row30_col31{\n",
              "            background-color:  #fb7353;\n",
              "            color:  #000000;\n",
              "        }#T_d81fefa4_5562_11ec_a6cd_0242ac1c0002row30_col20{\n",
              "            background-color:  #fb7a5a;\n",
              "            color:  #000000;\n",
              "        }#T_d81fefa4_5562_11ec_a6cd_0242ac1c0002row32_col23{\n",
              "            background-color:  #f85f43;\n",
              "            color:  #000000;\n",
              "        }</style><table id=\"T_d81fefa4_5562_11ec_a6cd_0242ac1c0002\" class=\"dataframe\"><thead>    <tr>        <th class=\"blank level0\" ></th>        <th class=\"col_heading level0 col0\" >id</th>        <th class=\"col_heading level0 col1\" >member_id</th>        <th class=\"col_heading level0 col2\" >loan_amnt</th>        <th class=\"col_heading level0 col3\" >funded_amnt</th>        <th class=\"col_heading level0 col4\" >funded_amnt_inv</th>        <th class=\"col_heading level0 col5\" >int_rate</th>        <th class=\"col_heading level0 col6\" >installment</th>        <th class=\"col_heading level0 col7\" >annual_inc</th>        <th class=\"col_heading level0 col8\" >dti</th>        <th class=\"col_heading level0 col9\" >delinq_2yrs</th>        <th class=\"col_heading level0 col10\" >inq_last_6mths</th>        <th class=\"col_heading level0 col11\" >open_acc</th>        <th class=\"col_heading level0 col12\" >pub_rec</th>        <th class=\"col_heading level0 col13\" >revol_bal</th>        <th class=\"col_heading level0 col14\" >revol_util</th>        <th class=\"col_heading level0 col15\" >total_acc</th>        <th class=\"col_heading level0 col16\" >out_prncp</th>        <th class=\"col_heading level0 col17\" >out_prncp_inv</th>        <th class=\"col_heading level0 col18\" >total_pymnt</th>        <th class=\"col_heading level0 col19\" >total_pymnt_inv</th>        <th class=\"col_heading level0 col20\" >total_rec_prncp</th>        <th class=\"col_heading level0 col21\" >total_rec_int</th>        <th class=\"col_heading level0 col22\" >total_rec_late_fee</th>        <th class=\"col_heading level0 col23\" >recoveries</th>        <th class=\"col_heading level0 col24\" >collection_recovery_fee</th>        <th class=\"col_heading level0 col25\" >last_pymnt_amnt</th>        <th class=\"col_heading level0 col26\" >collections_12_mths_ex_med</th>        <th class=\"col_heading level0 col27\" >policy_code</th>        <th class=\"col_heading level0 col28\" >acc_now_delinq</th>        <th class=\"col_heading level0 col29\" >tot_coll_amt</th>        <th class=\"col_heading level0 col30\" >tot_cur_bal</th>        <th class=\"col_heading level0 col31\" >total_rev_hi_lim</th>        <th class=\"col_heading level0 col32\" >default_ind</th>    </tr></thead><tbody>\n",
              "                <tr>\n",
              "                        <th id=\"T_d81fefa4_5562_11ec_a6cd_0242ac1c0002level0_row0\" class=\"row_heading level0 row0\" >id</th>\n",
              "                        <td id=\"T_d81fefa4_5562_11ec_a6cd_0242ac1c0002row0_col0\" class=\"data row0 col0\" >1.000000</td>\n",
              "                        <td id=\"T_d81fefa4_5562_11ec_a6cd_0242ac1c0002row0_col1\" class=\"data row0 col1\" >0.999431</td>\n",
              "                        <td id=\"T_d81fefa4_5562_11ec_a6cd_0242ac1c0002row0_col2\" class=\"data row0 col2\" >0.062971</td>\n",
              "                        <td id=\"T_d81fefa4_5562_11ec_a6cd_0242ac1c0002row0_col3\" class=\"data row0 col3\" >0.065192</td>\n",
              "                        <td id=\"T_d81fefa4_5562_11ec_a6cd_0242ac1c0002row0_col4\" class=\"data row0 col4\" >0.069491</td>\n",
              "                        <td id=\"T_d81fefa4_5562_11ec_a6cd_0242ac1c0002row0_col5\" class=\"data row0 col5\" >-0.143769</td>\n",
              "                        <td id=\"T_d81fefa4_5562_11ec_a6cd_0242ac1c0002row0_col6\" class=\"data row0 col6\" >0.023647</td>\n",
              "                        <td id=\"T_d81fefa4_5562_11ec_a6cd_0242ac1c0002row0_col7\" class=\"data row0 col7\" >0.034160</td>\n",
              "                        <td id=\"T_d81fefa4_5562_11ec_a6cd_0242ac1c0002row0_col8\" class=\"data row0 col8\" >0.066580</td>\n",
              "                        <td id=\"T_d81fefa4_5562_11ec_a6cd_0242ac1c0002row0_col9\" class=\"data row0 col9\" >0.049909</td>\n",
              "                        <td id=\"T_d81fefa4_5562_11ec_a6cd_0242ac1c0002row0_col10\" class=\"data row0 col10\" >-0.118742</td>\n",
              "                        <td id=\"T_d81fefa4_5562_11ec_a6cd_0242ac1c0002row0_col11\" class=\"data row0 col11\" >0.089238</td>\n",
              "                        <td id=\"T_d81fefa4_5562_11ec_a6cd_0242ac1c0002row0_col12\" class=\"data row0 col12\" >0.080289</td>\n",
              "                        <td id=\"T_d81fefa4_5562_11ec_a6cd_0242ac1c0002row0_col13\" class=\"data row0 col13\" >0.039686</td>\n",
              "                        <td id=\"T_d81fefa4_5562_11ec_a6cd_0242ac1c0002row0_col14\" class=\"data row0 col14\" >-0.053523</td>\n",
              "                        <td id=\"T_d81fefa4_5562_11ec_a6cd_0242ac1c0002row0_col15\" class=\"data row0 col15\" >0.031148</td>\n",
              "                        <td id=\"T_d81fefa4_5562_11ec_a6cd_0242ac1c0002row0_col16\" class=\"data row0 col16\" >0.561560</td>\n",
              "                        <td id=\"T_d81fefa4_5562_11ec_a6cd_0242ac1c0002row0_col17\" class=\"data row0 col17\" >0.561523</td>\n",
              "                        <td id=\"T_d81fefa4_5562_11ec_a6cd_0242ac1c0002row0_col18\" class=\"data row0 col18\" >-0.593428</td>\n",
              "                        <td id=\"T_d81fefa4_5562_11ec_a6cd_0242ac1c0002row0_col19\" class=\"data row0 col19\" >-0.589995</td>\n",
              "                        <td id=\"T_d81fefa4_5562_11ec_a6cd_0242ac1c0002row0_col20\" class=\"data row0 col20\" >-0.553231</td>\n",
              "                        <td id=\"T_d81fefa4_5562_11ec_a6cd_0242ac1c0002row0_col21\" class=\"data row0 col21\" >-0.457397</td>\n",
              "                        <td id=\"T_d81fefa4_5562_11ec_a6cd_0242ac1c0002row0_col22\" class=\"data row0 col22\" >-0.075917</td>\n",
              "                        <td id=\"T_d81fefa4_5562_11ec_a6cd_0242ac1c0002row0_col23\" class=\"data row0 col23\" >-0.115269</td>\n",
              "                        <td id=\"T_d81fefa4_5562_11ec_a6cd_0242ac1c0002row0_col24\" class=\"data row0 col24\" >-0.073399</td>\n",
              "                        <td id=\"T_d81fefa4_5562_11ec_a6cd_0242ac1c0002row0_col25\" class=\"data row0 col25\" >-0.228774</td>\n",
              "                        <td id=\"T_d81fefa4_5562_11ec_a6cd_0242ac1c0002row0_col26\" class=\"data row0 col26\" >0.050928</td>\n",
              "                        <td id=\"T_d81fefa4_5562_11ec_a6cd_0242ac1c0002row0_col27\" class=\"data row0 col27\" >nan</td>\n",
              "                        <td id=\"T_d81fefa4_5562_11ec_a6cd_0242ac1c0002row0_col28\" class=\"data row0 col28\" >0.016849</td>\n",
              "                        <td id=\"T_d81fefa4_5562_11ec_a6cd_0242ac1c0002row0_col29\" class=\"data row0 col29\" >0.003875</td>\n",
              "                        <td id=\"T_d81fefa4_5562_11ec_a6cd_0242ac1c0002row0_col30\" class=\"data row0 col30\" >0.006647</td>\n",
              "                        <td id=\"T_d81fefa4_5562_11ec_a6cd_0242ac1c0002row0_col31\" class=\"data row0 col31\" >0.043947</td>\n",
              "                        <td id=\"T_d81fefa4_5562_11ec_a6cd_0242ac1c0002row0_col32\" class=\"data row0 col32\" >-0.219832</td>\n",
              "            </tr>\n",
              "            <tr>\n",
              "                        <th id=\"T_d81fefa4_5562_11ec_a6cd_0242ac1c0002level0_row1\" class=\"row_heading level0 row1\" >member_id</th>\n",
              "                        <td id=\"T_d81fefa4_5562_11ec_a6cd_0242ac1c0002row1_col0\" class=\"data row1 col0\" >0.999431</td>\n",
              "                        <td id=\"T_d81fefa4_5562_11ec_a6cd_0242ac1c0002row1_col1\" class=\"data row1 col1\" >1.000000</td>\n",
              "                        <td id=\"T_d81fefa4_5562_11ec_a6cd_0242ac1c0002row1_col2\" class=\"data row1 col2\" >0.063603</td>\n",
              "                        <td id=\"T_d81fefa4_5562_11ec_a6cd_0242ac1c0002row1_col3\" class=\"data row1 col3\" >0.065862</td>\n",
              "                        <td id=\"T_d81fefa4_5562_11ec_a6cd_0242ac1c0002row1_col4\" class=\"data row1 col4\" >0.070248</td>\n",
              "                        <td id=\"T_d81fefa4_5562_11ec_a6cd_0242ac1c0002row1_col5\" class=\"data row1 col5\" >-0.142996</td>\n",
              "                        <td id=\"T_d81fefa4_5562_11ec_a6cd_0242ac1c0002row1_col6\" class=\"data row1 col6\" >0.024311</td>\n",
              "                        <td id=\"T_d81fefa4_5562_11ec_a6cd_0242ac1c0002row1_col7\" class=\"data row1 col7\" >0.034338</td>\n",
              "                        <td id=\"T_d81fefa4_5562_11ec_a6cd_0242ac1c0002row1_col8\" class=\"data row1 col8\" >0.066620</td>\n",
              "                        <td id=\"T_d81fefa4_5562_11ec_a6cd_0242ac1c0002row1_col9\" class=\"data row1 col9\" >0.050174</td>\n",
              "                        <td id=\"T_d81fefa4_5562_11ec_a6cd_0242ac1c0002row1_col10\" class=\"data row1 col10\" >-0.118790</td>\n",
              "                        <td id=\"T_d81fefa4_5562_11ec_a6cd_0242ac1c0002row1_col11\" class=\"data row1 col11\" >0.089345</td>\n",
              "                        <td id=\"T_d81fefa4_5562_11ec_a6cd_0242ac1c0002row1_col12\" class=\"data row1 col12\" >0.080976</td>\n",
              "                        <td id=\"T_d81fefa4_5562_11ec_a6cd_0242ac1c0002row1_col13\" class=\"data row1 col13\" >0.039704</td>\n",
              "                        <td id=\"T_d81fefa4_5562_11ec_a6cd_0242ac1c0002row1_col14\" class=\"data row1 col14\" >-0.053247</td>\n",
              "                        <td id=\"T_d81fefa4_5562_11ec_a6cd_0242ac1c0002row1_col15\" class=\"data row1 col15\" >0.031311</td>\n",
              "                        <td id=\"T_d81fefa4_5562_11ec_a6cd_0242ac1c0002row1_col16\" class=\"data row1 col16\" >0.561980</td>\n",
              "                        <td id=\"T_d81fefa4_5562_11ec_a6cd_0242ac1c0002row1_col17\" class=\"data row1 col17\" >0.561943</td>\n",
              "                        <td id=\"T_d81fefa4_5562_11ec_a6cd_0242ac1c0002row1_col18\" class=\"data row1 col18\" >-0.592951</td>\n",
              "                        <td id=\"T_d81fefa4_5562_11ec_a6cd_0242ac1c0002row1_col19\" class=\"data row1 col19\" >-0.589419</td>\n",
              "                        <td id=\"T_d81fefa4_5562_11ec_a6cd_0242ac1c0002row1_col20\" class=\"data row1 col20\" >-0.552938</td>\n",
              "                        <td id=\"T_d81fefa4_5562_11ec_a6cd_0242ac1c0002row1_col21\" class=\"data row1 col21\" >-0.456508</td>\n",
              "                        <td id=\"T_d81fefa4_5562_11ec_a6cd_0242ac1c0002row1_col22\" class=\"data row1 col22\" >-0.076341</td>\n",
              "                        <td id=\"T_d81fefa4_5562_11ec_a6cd_0242ac1c0002row1_col23\" class=\"data row1 col23\" >-0.115341</td>\n",
              "                        <td id=\"T_d81fefa4_5562_11ec_a6cd_0242ac1c0002row1_col24\" class=\"data row1 col24\" >-0.073358</td>\n",
              "                        <td id=\"T_d81fefa4_5562_11ec_a6cd_0242ac1c0002row1_col25\" class=\"data row1 col25\" >-0.228243</td>\n",
              "                        <td id=\"T_d81fefa4_5562_11ec_a6cd_0242ac1c0002row1_col26\" class=\"data row1 col26\" >0.051045</td>\n",
              "                        <td id=\"T_d81fefa4_5562_11ec_a6cd_0242ac1c0002row1_col27\" class=\"data row1 col27\" >nan</td>\n",
              "                        <td id=\"T_d81fefa4_5562_11ec_a6cd_0242ac1c0002row1_col28\" class=\"data row1 col28\" >0.016960</td>\n",
              "                        <td id=\"T_d81fefa4_5562_11ec_a6cd_0242ac1c0002row1_col29\" class=\"data row1 col29\" >0.003892</td>\n",
              "                        <td id=\"T_d81fefa4_5562_11ec_a6cd_0242ac1c0002row1_col30\" class=\"data row1 col30\" >0.006645</td>\n",
              "                        <td id=\"T_d81fefa4_5562_11ec_a6cd_0242ac1c0002row1_col31\" class=\"data row1 col31\" >0.043744</td>\n",
              "                        <td id=\"T_d81fefa4_5562_11ec_a6cd_0242ac1c0002row1_col32\" class=\"data row1 col32\" >-0.220181</td>\n",
              "            </tr>\n",
              "            <tr>\n",
              "                        <th id=\"T_d81fefa4_5562_11ec_a6cd_0242ac1c0002level0_row2\" class=\"row_heading level0 row2\" >loan_amnt</th>\n",
              "                        <td id=\"T_d81fefa4_5562_11ec_a6cd_0242ac1c0002row2_col0\" class=\"data row2 col0\" >0.062971</td>\n",
              "                        <td id=\"T_d81fefa4_5562_11ec_a6cd_0242ac1c0002row2_col1\" class=\"data row2 col1\" >0.063603</td>\n",
              "                        <td id=\"T_d81fefa4_5562_11ec_a6cd_0242ac1c0002row2_col2\" class=\"data row2 col2\" >1.000000</td>\n",
              "                        <td id=\"T_d81fefa4_5562_11ec_a6cd_0242ac1c0002row2_col3\" class=\"data row2 col3\" >0.999265</td>\n",
              "                        <td id=\"T_d81fefa4_5562_11ec_a6cd_0242ac1c0002row2_col4\" class=\"data row2 col4\" >0.997601</td>\n",
              "                        <td id=\"T_d81fefa4_5562_11ec_a6cd_0242ac1c0002row2_col5\" class=\"data row2 col5\" >0.142966</td>\n",
              "                        <td id=\"T_d81fefa4_5562_11ec_a6cd_0242ac1c0002row2_col6\" class=\"data row2 col6\" >0.944870</td>\n",
              "                        <td id=\"T_d81fefa4_5562_11ec_a6cd_0242ac1c0002row2_col7\" class=\"data row2 col7\" >0.335209</td>\n",
              "                        <td id=\"T_d81fefa4_5562_11ec_a6cd_0242ac1c0002row2_col8\" class=\"data row2 col8\" >0.020189</td>\n",
              "                        <td id=\"T_d81fefa4_5562_11ec_a6cd_0242ac1c0002row2_col9\" class=\"data row2 col9\" >-0.000739</td>\n",
              "                        <td id=\"T_d81fefa4_5562_11ec_a6cd_0242ac1c0002row2_col10\" class=\"data row2 col10\" >-0.028928</td>\n",
              "                        <td id=\"T_d81fefa4_5562_11ec_a6cd_0242ac1c0002row2_col11\" class=\"data row2 col11\" >0.198926</td>\n",
              "                        <td id=\"T_d81fefa4_5562_11ec_a6cd_0242ac1c0002row2_col12\" class=\"data row2 col12\" >-0.082199</td>\n",
              "                        <td id=\"T_d81fefa4_5562_11ec_a6cd_0242ac1c0002row2_col13\" class=\"data row2 col13\" >0.337489</td>\n",
              "                        <td id=\"T_d81fefa4_5562_11ec_a6cd_0242ac1c0002row2_col14\" class=\"data row2 col14\" >0.119591</td>\n",
              "                        <td id=\"T_d81fefa4_5562_11ec_a6cd_0242ac1c0002row2_col15\" class=\"data row2 col15\" >0.222084</td>\n",
              "                        <td id=\"T_d81fefa4_5562_11ec_a6cd_0242ac1c0002row2_col16\" class=\"data row2 col16\" >0.639784</td>\n",
              "                        <td id=\"T_d81fefa4_5562_11ec_a6cd_0242ac1c0002row2_col17\" class=\"data row2 col17\" >0.639786</td>\n",
              "                        <td id=\"T_d81fefa4_5562_11ec_a6cd_0242ac1c0002row2_col18\" class=\"data row2 col18\" >0.479612</td>\n",
              "                        <td id=\"T_d81fefa4_5562_11ec_a6cd_0242ac1c0002row2_col19\" class=\"data row2 col19\" >0.480328</td>\n",
              "                        <td id=\"T_d81fefa4_5562_11ec_a6cd_0242ac1c0002row2_col20\" class=\"data row2 col20\" >0.395880</td>\n",
              "                        <td id=\"T_d81fefa4_5562_11ec_a6cd_0242ac1c0002row2_col21\" class=\"data row2 col21\" >0.537586</td>\n",
              "                        <td id=\"T_d81fefa4_5562_11ec_a6cd_0242ac1c0002row2_col22\" class=\"data row2 col22\" >0.025966</td>\n",
              "                        <td id=\"T_d81fefa4_5562_11ec_a6cd_0242ac1c0002row2_col23\" class=\"data row2 col23\" >0.075513</td>\n",
              "                        <td id=\"T_d81fefa4_5562_11ec_a6cd_0242ac1c0002row2_col24\" class=\"data row2 col24\" >0.055135</td>\n",
              "                        <td id=\"T_d81fefa4_5562_11ec_a6cd_0242ac1c0002row2_col25\" class=\"data row2 col25\" >0.233596</td>\n",
              "                        <td id=\"T_d81fefa4_5562_11ec_a6cd_0242ac1c0002row2_col26\" class=\"data row2 col26\" >-0.017034</td>\n",
              "                        <td id=\"T_d81fefa4_5562_11ec_a6cd_0242ac1c0002row2_col27\" class=\"data row2 col27\" >nan</td>\n",
              "                        <td id=\"T_d81fefa4_5562_11ec_a6cd_0242ac1c0002row2_col28\" class=\"data row2 col28\" >0.003572</td>\n",
              "                        <td id=\"T_d81fefa4_5562_11ec_a6cd_0242ac1c0002row2_col29\" class=\"data row2 col29\" >-0.004107</td>\n",
              "                        <td id=\"T_d81fefa4_5562_11ec_a6cd_0242ac1c0002row2_col30\" class=\"data row2 col30\" >0.316383</td>\n",
              "                        <td id=\"T_d81fefa4_5562_11ec_a6cd_0242ac1c0002row2_col31\" class=\"data row2 col31\" >0.299986</td>\n",
              "                        <td id=\"T_d81fefa4_5562_11ec_a6cd_0242ac1c0002row2_col32\" class=\"data row2 col32\" >-0.004907</td>\n",
              "            </tr>\n",
              "            <tr>\n",
              "                        <th id=\"T_d81fefa4_5562_11ec_a6cd_0242ac1c0002level0_row3\" class=\"row_heading level0 row3\" >funded_amnt</th>\n",
              "                        <td id=\"T_d81fefa4_5562_11ec_a6cd_0242ac1c0002row3_col0\" class=\"data row3 col0\" >0.065192</td>\n",
              "                        <td id=\"T_d81fefa4_5562_11ec_a6cd_0242ac1c0002row3_col1\" class=\"data row3 col1\" >0.065862</td>\n",
              "                        <td id=\"T_d81fefa4_5562_11ec_a6cd_0242ac1c0002row3_col2\" class=\"data row3 col2\" >0.999265</td>\n",
              "                        <td id=\"T_d81fefa4_5562_11ec_a6cd_0242ac1c0002row3_col3\" class=\"data row3 col3\" >1.000000</td>\n",
              "                        <td id=\"T_d81fefa4_5562_11ec_a6cd_0242ac1c0002row3_col4\" class=\"data row3 col4\" >0.998485</td>\n",
              "                        <td id=\"T_d81fefa4_5562_11ec_a6cd_0242ac1c0002row3_col5\" class=\"data row3 col5\" >0.143116</td>\n",
              "                        <td id=\"T_d81fefa4_5562_11ec_a6cd_0242ac1c0002row3_col6\" class=\"data row3 col6\" >0.945903</td>\n",
              "                        <td id=\"T_d81fefa4_5562_11ec_a6cd_0242ac1c0002row3_col7\" class=\"data row3 col7\" >0.335002</td>\n",
              "                        <td id=\"T_d81fefa4_5562_11ec_a6cd_0242ac1c0002row3_col8\" class=\"data row3 col8\" >0.020583</td>\n",
              "                        <td id=\"T_d81fefa4_5562_11ec_a6cd_0242ac1c0002row3_col9\" class=\"data row3 col9\" >-0.000424</td>\n",
              "                        <td id=\"T_d81fefa4_5562_11ec_a6cd_0242ac1c0002row3_col10\" class=\"data row3 col10\" >-0.029279</td>\n",
              "                        <td id=\"T_d81fefa4_5562_11ec_a6cd_0242ac1c0002row3_col11\" class=\"data row3 col11\" >0.199432</td>\n",
              "                        <td id=\"T_d81fefa4_5562_11ec_a6cd_0242ac1c0002row3_col12\" class=\"data row3 col12\" >-0.081858</td>\n",
              "                        <td id=\"T_d81fefa4_5562_11ec_a6cd_0242ac1c0002row3_col13\" class=\"data row3 col13\" >0.337405</td>\n",
              "                        <td id=\"T_d81fefa4_5562_11ec_a6cd_0242ac1c0002row3_col14\" class=\"data row3 col14\" >0.120104</td>\n",
              "                        <td id=\"T_d81fefa4_5562_11ec_a6cd_0242ac1c0002row3_col15\" class=\"data row3 col15\" >0.222039</td>\n",
              "                        <td id=\"T_d81fefa4_5562_11ec_a6cd_0242ac1c0002row3_col16\" class=\"data row3 col16\" >0.641706</td>\n",
              "                        <td id=\"T_d81fefa4_5562_11ec_a6cd_0242ac1c0002row3_col17\" class=\"data row3 col17\" >0.641709</td>\n",
              "                        <td id=\"T_d81fefa4_5562_11ec_a6cd_0242ac1c0002row3_col18\" class=\"data row3 col18\" >0.478290</td>\n",
              "                        <td id=\"T_d81fefa4_5562_11ec_a6cd_0242ac1c0002row3_col19\" class=\"data row3 col19\" >0.479172</td>\n",
              "                        <td id=\"T_d81fefa4_5562_11ec_a6cd_0242ac1c0002row3_col20\" class=\"data row3 col20\" >0.394669</td>\n",
              "                        <td id=\"T_d81fefa4_5562_11ec_a6cd_0242ac1c0002row3_col21\" class=\"data row3 col21\" >0.536533</td>\n",
              "                        <td id=\"T_d81fefa4_5562_11ec_a6cd_0242ac1c0002row3_col22\" class=\"data row3 col22\" >0.025579</td>\n",
              "                        <td id=\"T_d81fefa4_5562_11ec_a6cd_0242ac1c0002row3_col23\" class=\"data row3 col23\" >0.075076</td>\n",
              "                        <td id=\"T_d81fefa4_5562_11ec_a6cd_0242ac1c0002row3_col24\" class=\"data row3 col24\" >0.054898</td>\n",
              "                        <td id=\"T_d81fefa4_5562_11ec_a6cd_0242ac1c0002row3_col25\" class=\"data row3 col25\" >0.233134</td>\n",
              "                        <td id=\"T_d81fefa4_5562_11ec_a6cd_0242ac1c0002row3_col26\" class=\"data row3 col26\" >-0.016879</td>\n",
              "                        <td id=\"T_d81fefa4_5562_11ec_a6cd_0242ac1c0002row3_col27\" class=\"data row3 col27\" >nan</td>\n",
              "                        <td id=\"T_d81fefa4_5562_11ec_a6cd_0242ac1c0002row3_col28\" class=\"data row3 col28\" >0.003675</td>\n",
              "                        <td id=\"T_d81fefa4_5562_11ec_a6cd_0242ac1c0002row3_col29\" class=\"data row3 col29\" >-0.004109</td>\n",
              "                        <td id=\"T_d81fefa4_5562_11ec_a6cd_0242ac1c0002row3_col30\" class=\"data row3 col30\" >0.316602</td>\n",
              "                        <td id=\"T_d81fefa4_5562_11ec_a6cd_0242ac1c0002row3_col31\" class=\"data row3 col31\" >0.300194</td>\n",
              "                        <td id=\"T_d81fefa4_5562_11ec_a6cd_0242ac1c0002row3_col32\" class=\"data row3 col32\" >-0.005797</td>\n",
              "            </tr>\n",
              "            <tr>\n",
              "                        <th id=\"T_d81fefa4_5562_11ec_a6cd_0242ac1c0002level0_row4\" class=\"row_heading level0 row4\" >funded_amnt_inv</th>\n",
              "                        <td id=\"T_d81fefa4_5562_11ec_a6cd_0242ac1c0002row4_col0\" class=\"data row4 col0\" >0.069491</td>\n",
              "                        <td id=\"T_d81fefa4_5562_11ec_a6cd_0242ac1c0002row4_col1\" class=\"data row4 col1\" >0.070248</td>\n",
              "                        <td id=\"T_d81fefa4_5562_11ec_a6cd_0242ac1c0002row4_col2\" class=\"data row4 col2\" >0.997601</td>\n",
              "                        <td id=\"T_d81fefa4_5562_11ec_a6cd_0242ac1c0002row4_col3\" class=\"data row4 col3\" >0.998485</td>\n",
              "                        <td id=\"T_d81fefa4_5562_11ec_a6cd_0242ac1c0002row4_col4\" class=\"data row4 col4\" >1.000000</td>\n",
              "                        <td id=\"T_d81fefa4_5562_11ec_a6cd_0242ac1c0002row4_col5\" class=\"data row4 col5\" >0.143374</td>\n",
              "                        <td id=\"T_d81fefa4_5562_11ec_a6cd_0242ac1c0002row4_col6\" class=\"data row4 col6\" >0.944149</td>\n",
              "                        <td id=\"T_d81fefa4_5562_11ec_a6cd_0242ac1c0002row4_col7\" class=\"data row4 col7\" >0.334356</td>\n",
              "                        <td id=\"T_d81fefa4_5562_11ec_a6cd_0242ac1c0002row4_col8\" class=\"data row4 col8\" >0.021489</td>\n",
              "                        <td id=\"T_d81fefa4_5562_11ec_a6cd_0242ac1c0002row4_col9\" class=\"data row4 col9\" >0.000050</td>\n",
              "                        <td id=\"T_d81fefa4_5562_11ec_a6cd_0242ac1c0002row4_col10\" class=\"data row4 col10\" >-0.030462</td>\n",
              "                        <td id=\"T_d81fefa4_5562_11ec_a6cd_0242ac1c0002row4_col11\" class=\"data row4 col11\" >0.200055</td>\n",
              "                        <td id=\"T_d81fefa4_5562_11ec_a6cd_0242ac1c0002row4_col12\" class=\"data row4 col12\" >-0.081008</td>\n",
              "                        <td id=\"T_d81fefa4_5562_11ec_a6cd_0242ac1c0002row4_col13\" class=\"data row4 col13\" >0.336870</td>\n",
              "                        <td id=\"T_d81fefa4_5562_11ec_a6cd_0242ac1c0002row4_col14\" class=\"data row4 col14\" >0.120886</td>\n",
              "                        <td id=\"T_d81fefa4_5562_11ec_a6cd_0242ac1c0002row4_col15\" class=\"data row4 col15\" >0.222258</td>\n",
              "                        <td id=\"T_d81fefa4_5562_11ec_a6cd_0242ac1c0002row4_col16\" class=\"data row4 col16\" >0.644011</td>\n",
              "                        <td id=\"T_d81fefa4_5562_11ec_a6cd_0242ac1c0002row4_col17\" class=\"data row4 col17\" >0.644023</td>\n",
              "                        <td id=\"T_d81fefa4_5562_11ec_a6cd_0242ac1c0002row4_col18\" class=\"data row4 col18\" >0.474600</td>\n",
              "                        <td id=\"T_d81fefa4_5562_11ec_a6cd_0242ac1c0002row4_col19\" class=\"data row4 col19\" >0.478589</td>\n",
              "                        <td id=\"T_d81fefa4_5562_11ec_a6cd_0242ac1c0002row4_col20\" class=\"data row4 col20\" >0.391010</td>\n",
              "                        <td id=\"T_d81fefa4_5562_11ec_a6cd_0242ac1c0002row4_col21\" class=\"data row4 col21\" >0.534517</td>\n",
              "                        <td id=\"T_d81fefa4_5562_11ec_a6cd_0242ac1c0002row4_col22\" class=\"data row4 col22\" >0.023091</td>\n",
              "                        <td id=\"T_d81fefa4_5562_11ec_a6cd_0242ac1c0002row4_col23\" class=\"data row4 col23\" >0.073737</td>\n",
              "                        <td id=\"T_d81fefa4_5562_11ec_a6cd_0242ac1c0002row4_col24\" class=\"data row4 col24\" >0.053082</td>\n",
              "                        <td id=\"T_d81fefa4_5562_11ec_a6cd_0242ac1c0002row4_col25\" class=\"data row4 col25\" >0.232029</td>\n",
              "                        <td id=\"T_d81fefa4_5562_11ec_a6cd_0242ac1c0002row4_col26\" class=\"data row4 col26\" >-0.016543</td>\n",
              "                        <td id=\"T_d81fefa4_5562_11ec_a6cd_0242ac1c0002row4_col27\" class=\"data row4 col27\" >nan</td>\n",
              "                        <td id=\"T_d81fefa4_5562_11ec_a6cd_0242ac1c0002row4_col28\" class=\"data row4 col28\" >0.003856</td>\n",
              "                        <td id=\"T_d81fefa4_5562_11ec_a6cd_0242ac1c0002row4_col29\" class=\"data row4 col29\" >-0.004104</td>\n",
              "                        <td id=\"T_d81fefa4_5562_11ec_a6cd_0242ac1c0002row4_col30\" class=\"data row4 col30\" >0.316262</td>\n",
              "                        <td id=\"T_d81fefa4_5562_11ec_a6cd_0242ac1c0002row4_col31\" class=\"data row4 col31\" >0.299884</td>\n",
              "                        <td id=\"T_d81fefa4_5562_11ec_a6cd_0242ac1c0002row4_col32\" class=\"data row4 col32\" >-0.008209</td>\n",
              "            </tr>\n",
              "            <tr>\n",
              "                        <th id=\"T_d81fefa4_5562_11ec_a6cd_0242ac1c0002level0_row5\" class=\"row_heading level0 row5\" >int_rate</th>\n",
              "                        <td id=\"T_d81fefa4_5562_11ec_a6cd_0242ac1c0002row5_col0\" class=\"data row5 col0\" >-0.143769</td>\n",
              "                        <td id=\"T_d81fefa4_5562_11ec_a6cd_0242ac1c0002row5_col1\" class=\"data row5 col1\" >-0.142996</td>\n",
              "                        <td id=\"T_d81fefa4_5562_11ec_a6cd_0242ac1c0002row5_col2\" class=\"data row5 col2\" >0.142966</td>\n",
              "                        <td id=\"T_d81fefa4_5562_11ec_a6cd_0242ac1c0002row5_col3\" class=\"data row5 col3\" >0.143116</td>\n",
              "                        <td id=\"T_d81fefa4_5562_11ec_a6cd_0242ac1c0002row5_col4\" class=\"data row5 col4\" >0.143374</td>\n",
              "                        <td id=\"T_d81fefa4_5562_11ec_a6cd_0242ac1c0002row5_col5\" class=\"data row5 col5\" >1.000000</td>\n",
              "                        <td id=\"T_d81fefa4_5562_11ec_a6cd_0242ac1c0002row5_col6\" class=\"data row5 col6\" >0.130468</td>\n",
              "                        <td id=\"T_d81fefa4_5562_11ec_a6cd_0242ac1c0002row5_col7\" class=\"data row5 col7\" >-0.073825</td>\n",
              "                        <td id=\"T_d81fefa4_5562_11ec_a6cd_0242ac1c0002row5_col8\" class=\"data row5 col8\" >0.078454</td>\n",
              "                        <td id=\"T_d81fefa4_5562_11ec_a6cd_0242ac1c0002row5_col9\" class=\"data row5 col9\" >0.055400</td>\n",
              "                        <td id=\"T_d81fefa4_5562_11ec_a6cd_0242ac1c0002row5_col10\" class=\"data row5 col10\" >0.231705</td>\n",
              "                        <td id=\"T_d81fefa4_5562_11ec_a6cd_0242ac1c0002row5_col11\" class=\"data row5 col11\" >-0.011091</td>\n",
              "                        <td id=\"T_d81fefa4_5562_11ec_a6cd_0242ac1c0002row5_col12\" class=\"data row5 col12\" >0.052596</td>\n",
              "                        <td id=\"T_d81fefa4_5562_11ec_a6cd_0242ac1c0002row5_col13\" class=\"data row5 col13\" >-0.035344</td>\n",
              "                        <td id=\"T_d81fefa4_5562_11ec_a6cd_0242ac1c0002row5_col14\" class=\"data row5 col14\" >0.271604</td>\n",
              "                        <td id=\"T_d81fefa4_5562_11ec_a6cd_0242ac1c0002row5_col15\" class=\"data row5 col15\" >-0.039482</td>\n",
              "                        <td id=\"T_d81fefa4_5562_11ec_a6cd_0242ac1c0002row5_col16\" class=\"data row5 col16\" >0.033933</td>\n",
              "                        <td id=\"T_d81fefa4_5562_11ec_a6cd_0242ac1c0002row5_col17\" class=\"data row5 col17\" >0.033790</td>\n",
              "                        <td id=\"T_d81fefa4_5562_11ec_a6cd_0242ac1c0002row5_col18\" class=\"data row5 col18\" >0.173387</td>\n",
              "                        <td id=\"T_d81fefa4_5562_11ec_a6cd_0242ac1c0002row5_col19\" class=\"data row5 col19\" >0.174453</td>\n",
              "                        <td id=\"T_d81fefa4_5562_11ec_a6cd_0242ac1c0002row5_col20\" class=\"data row5 col20\" >0.059298</td>\n",
              "                        <td id=\"T_d81fefa4_5562_11ec_a6cd_0242ac1c0002row5_col21\" class=\"data row5 col21\" >0.446517</td>\n",
              "                        <td id=\"T_d81fefa4_5562_11ec_a6cd_0242ac1c0002row5_col22\" class=\"data row5 col22\" >0.050743</td>\n",
              "                        <td id=\"T_d81fefa4_5562_11ec_a6cd_0242ac1c0002row5_col23\" class=\"data row5 col23\" >0.110848</td>\n",
              "                        <td id=\"T_d81fefa4_5562_11ec_a6cd_0242ac1c0002row5_col24\" class=\"data row5 col24\" >0.074360</td>\n",
              "                        <td id=\"T_d81fefa4_5562_11ec_a6cd_0242ac1c0002row5_col25\" class=\"data row5 col25\" >0.107346</td>\n",
              "                        <td id=\"T_d81fefa4_5562_11ec_a6cd_0242ac1c0002row5_col26\" class=\"data row5 col26\" >0.012846</td>\n",
              "                        <td id=\"T_d81fefa4_5562_11ec_a6cd_0242ac1c0002row5_col27\" class=\"data row5 col27\" >nan</td>\n",
              "                        <td id=\"T_d81fefa4_5562_11ec_a6cd_0242ac1c0002row5_col28\" class=\"data row5 col28\" >0.026476</td>\n",
              "                        <td id=\"T_d81fefa4_5562_11ec_a6cd_0242ac1c0002row5_col29\" class=\"data row5 col29\" >0.001089</td>\n",
              "                        <td id=\"T_d81fefa4_5562_11ec_a6cd_0242ac1c0002row5_col30\" class=\"data row5 col30\" >-0.088206</td>\n",
              "                        <td id=\"T_d81fefa4_5562_11ec_a6cd_0242ac1c0002row5_col31\" class=\"data row5 col31\" >-0.159695</td>\n",
              "                        <td id=\"T_d81fefa4_5562_11ec_a6cd_0242ac1c0002row5_col32\" class=\"data row5 col32\" >0.155037</td>\n",
              "            </tr>\n",
              "            <tr>\n",
              "                        <th id=\"T_d81fefa4_5562_11ec_a6cd_0242ac1c0002level0_row6\" class=\"row_heading level0 row6\" >installment</th>\n",
              "                        <td id=\"T_d81fefa4_5562_11ec_a6cd_0242ac1c0002row6_col0\" class=\"data row6 col0\" >0.023647</td>\n",
              "                        <td id=\"T_d81fefa4_5562_11ec_a6cd_0242ac1c0002row6_col1\" class=\"data row6 col1\" >0.024311</td>\n",
              "                        <td id=\"T_d81fefa4_5562_11ec_a6cd_0242ac1c0002row6_col2\" class=\"data row6 col2\" >0.944870</td>\n",
              "                        <td id=\"T_d81fefa4_5562_11ec_a6cd_0242ac1c0002row6_col3\" class=\"data row6 col3\" >0.945903</td>\n",
              "                        <td id=\"T_d81fefa4_5562_11ec_a6cd_0242ac1c0002row6_col4\" class=\"data row6 col4\" >0.944149</td>\n",
              "                        <td id=\"T_d81fefa4_5562_11ec_a6cd_0242ac1c0002row6_col5\" class=\"data row6 col5\" >0.130468</td>\n",
              "                        <td id=\"T_d81fefa4_5562_11ec_a6cd_0242ac1c0002row6_col6\" class=\"data row6 col6\" >1.000000</td>\n",
              "                        <td id=\"T_d81fefa4_5562_11ec_a6cd_0242ac1c0002row6_col7\" class=\"data row6 col7\" >0.328578</td>\n",
              "                        <td id=\"T_d81fefa4_5562_11ec_a6cd_0242ac1c0002row6_col8\" class=\"data row6 col8\" >0.013909</td>\n",
              "                        <td id=\"T_d81fefa4_5562_11ec_a6cd_0242ac1c0002row6_col9\" class=\"data row6 col9\" >0.007224</td>\n",
              "                        <td id=\"T_d81fefa4_5562_11ec_a6cd_0242ac1c0002row6_col10\" class=\"data row6 col10\" >0.001659</td>\n",
              "                        <td id=\"T_d81fefa4_5562_11ec_a6cd_0242ac1c0002row6_col11\" class=\"data row6 col11\" >0.183817</td>\n",
              "                        <td id=\"T_d81fefa4_5562_11ec_a6cd_0242ac1c0002row6_col12\" class=\"data row6 col12\" >-0.071114</td>\n",
              "                        <td id=\"T_d81fefa4_5562_11ec_a6cd_0242ac1c0002row6_col13\" class=\"data row6 col13\" >0.320017</td>\n",
              "                        <td id=\"T_d81fefa4_5562_11ec_a6cd_0242ac1c0002row6_col14\" class=\"data row6 col14\" >0.131877</td>\n",
              "                        <td id=\"T_d81fefa4_5562_11ec_a6cd_0242ac1c0002row6_col15\" class=\"data row6 col15\" >0.199872</td>\n",
              "                        <td id=\"T_d81fefa4_5562_11ec_a6cd_0242ac1c0002row6_col16\" class=\"data row6 col16\" >0.539840</td>\n",
              "                        <td id=\"T_d81fefa4_5562_11ec_a6cd_0242ac1c0002row6_col17\" class=\"data row6 col17\" >0.539835</td>\n",
              "                        <td id=\"T_d81fefa4_5562_11ec_a6cd_0242ac1c0002row6_col18\" class=\"data row6 col18\" >0.520613</td>\n",
              "                        <td id=\"T_d81fefa4_5562_11ec_a6cd_0242ac1c0002row6_col19\" class=\"data row6 col19\" >0.521332</td>\n",
              "                        <td id=\"T_d81fefa4_5562_11ec_a6cd_0242ac1c0002row6_col20\" class=\"data row6 col20\" >0.455444</td>\n",
              "                        <td id=\"T_d81fefa4_5562_11ec_a6cd_0242ac1c0002row6_col21\" class=\"data row6 col21\" >0.502038</td>\n",
              "                        <td id=\"T_d81fefa4_5562_11ec_a6cd_0242ac1c0002row6_col22\" class=\"data row6 col22\" >0.035728</td>\n",
              "                        <td id=\"T_d81fefa4_5562_11ec_a6cd_0242ac1c0002row6_col23\" class=\"data row6 col23\" >0.076931</td>\n",
              "                        <td id=\"T_d81fefa4_5562_11ec_a6cd_0242ac1c0002row6_col24\" class=\"data row6 col24\" >0.057180</td>\n",
              "                        <td id=\"T_d81fefa4_5562_11ec_a6cd_0242ac1c0002row6_col25\" class=\"data row6 col25\" >0.243246</td>\n",
              "                        <td id=\"T_d81fefa4_5562_11ec_a6cd_0242ac1c0002row6_col26\" class=\"data row6 col26\" >-0.014558</td>\n",
              "                        <td id=\"T_d81fefa4_5562_11ec_a6cd_0242ac1c0002row6_col27\" class=\"data row6 col27\" >nan</td>\n",
              "                        <td id=\"T_d81fefa4_5562_11ec_a6cd_0242ac1c0002row6_col28\" class=\"data row6 col28\" >0.006273</td>\n",
              "                        <td id=\"T_d81fefa4_5562_11ec_a6cd_0242ac1c0002row6_col29\" class=\"data row6 col29\" >-0.003400</td>\n",
              "                        <td id=\"T_d81fefa4_5562_11ec_a6cd_0242ac1c0002row6_col30\" class=\"data row6 col30\" >0.286575</td>\n",
              "                        <td id=\"T_d81fefa4_5562_11ec_a6cd_0242ac1c0002row6_col31\" class=\"data row6 col31\" >0.275535</td>\n",
              "                        <td id=\"T_d81fefa4_5562_11ec_a6cd_0242ac1c0002row6_col32\" class=\"data row6 col32\" >0.004753</td>\n",
              "            </tr>\n",
              "            <tr>\n",
              "                        <th id=\"T_d81fefa4_5562_11ec_a6cd_0242ac1c0002level0_row7\" class=\"row_heading level0 row7\" >annual_inc</th>\n",
              "                        <td id=\"T_d81fefa4_5562_11ec_a6cd_0242ac1c0002row7_col0\" class=\"data row7 col0\" >0.034160</td>\n",
              "                        <td id=\"T_d81fefa4_5562_11ec_a6cd_0242ac1c0002row7_col1\" class=\"data row7 col1\" >0.034338</td>\n",
              "                        <td id=\"T_d81fefa4_5562_11ec_a6cd_0242ac1c0002row7_col2\" class=\"data row7 col2\" >0.335209</td>\n",
              "                        <td id=\"T_d81fefa4_5562_11ec_a6cd_0242ac1c0002row7_col3\" class=\"data row7 col3\" >0.335002</td>\n",
              "                        <td id=\"T_d81fefa4_5562_11ec_a6cd_0242ac1c0002row7_col4\" class=\"data row7 col4\" >0.334356</td>\n",
              "                        <td id=\"T_d81fefa4_5562_11ec_a6cd_0242ac1c0002row7_col5\" class=\"data row7 col5\" >-0.073825</td>\n",
              "                        <td id=\"T_d81fefa4_5562_11ec_a6cd_0242ac1c0002row7_col6\" class=\"data row7 col6\" >0.328578</td>\n",
              "                        <td id=\"T_d81fefa4_5562_11ec_a6cd_0242ac1c0002row7_col7\" class=\"data row7 col7\" >1.000000</td>\n",
              "                        <td id=\"T_d81fefa4_5562_11ec_a6cd_0242ac1c0002row7_col8\" class=\"data row7 col8\" >-0.086821</td>\n",
              "                        <td id=\"T_d81fefa4_5562_11ec_a6cd_0242ac1c0002row7_col9\" class=\"data row7 col9\" >0.047749</td>\n",
              "                        <td id=\"T_d81fefa4_5562_11ec_a6cd_0242ac1c0002row7_col10\" class=\"data row7 col10\" >0.037251</td>\n",
              "                        <td id=\"T_d81fefa4_5562_11ec_a6cd_0242ac1c0002row7_col11\" class=\"data row7 col11\" >0.139429</td>\n",
              "                        <td id=\"T_d81fefa4_5562_11ec_a6cd_0242ac1c0002row7_col12\" class=\"data row7 col12\" >-0.008909</td>\n",
              "                        <td id=\"T_d81fefa4_5562_11ec_a6cd_0242ac1c0002row7_col13\" class=\"data row7 col13\" >0.298569</td>\n",
              "                        <td id=\"T_d81fefa4_5562_11ec_a6cd_0242ac1c0002row7_col14\" class=\"data row7 col14\" >0.036737</td>\n",
              "                        <td id=\"T_d81fefa4_5562_11ec_a6cd_0242ac1c0002row7_col15\" class=\"data row7 col15\" >0.188651</td>\n",
              "                        <td id=\"T_d81fefa4_5562_11ec_a6cd_0242ac1c0002row7_col16\" class=\"data row7 col16\" >0.211549</td>\n",
              "                        <td id=\"T_d81fefa4_5562_11ec_a6cd_0242ac1c0002row7_col17\" class=\"data row7 col17\" >0.211591</td>\n",
              "                        <td id=\"T_d81fefa4_5562_11ec_a6cd_0242ac1c0002row7_col18\" class=\"data row7 col18\" >0.163226</td>\n",
              "                        <td id=\"T_d81fefa4_5562_11ec_a6cd_0242ac1c0002row7_col19\" class=\"data row7 col19\" >0.163275</td>\n",
              "                        <td id=\"T_d81fefa4_5562_11ec_a6cd_0242ac1c0002row7_col20\" class=\"data row7 col20\" >0.152245</td>\n",
              "                        <td id=\"T_d81fefa4_5562_11ec_a6cd_0242ac1c0002row7_col21\" class=\"data row7 col21\" >0.130367</td>\n",
              "                        <td id=\"T_d81fefa4_5562_11ec_a6cd_0242ac1c0002row7_col22\" class=\"data row7 col22\" >0.009864</td>\n",
              "                        <td id=\"T_d81fefa4_5562_11ec_a6cd_0242ac1c0002row7_col23\" class=\"data row7 col23\" >0.007613</td>\n",
              "                        <td id=\"T_d81fefa4_5562_11ec_a6cd_0242ac1c0002row7_col24\" class=\"data row7 col24\" >0.006805</td>\n",
              "                        <td id=\"T_d81fefa4_5562_11ec_a6cd_0242ac1c0002row7_col25\" class=\"data row7 col25\" >0.092662</td>\n",
              "                        <td id=\"T_d81fefa4_5562_11ec_a6cd_0242ac1c0002row7_col26\" class=\"data row7 col26\" >-0.003790</td>\n",
              "                        <td id=\"T_d81fefa4_5562_11ec_a6cd_0242ac1c0002row7_col27\" class=\"data row7 col27\" >nan</td>\n",
              "                        <td id=\"T_d81fefa4_5562_11ec_a6cd_0242ac1c0002row7_col28\" class=\"data row7 col28\" >0.014877</td>\n",
              "                        <td id=\"T_d81fefa4_5562_11ec_a6cd_0242ac1c0002row7_col29\" class=\"data row7 col29\" >0.000974</td>\n",
              "                        <td id=\"T_d81fefa4_5562_11ec_a6cd_0242ac1c0002row7_col30\" class=\"data row7 col30\" >0.409668</td>\n",
              "                        <td id=\"T_d81fefa4_5562_11ec_a6cd_0242ac1c0002row7_col31\" class=\"data row7 col31\" >0.262754</td>\n",
              "                        <td id=\"T_d81fefa4_5562_11ec_a6cd_0242ac1c0002row7_col32\" class=\"data row7 col32\" >-0.037066</td>\n",
              "            </tr>\n",
              "            <tr>\n",
              "                        <th id=\"T_d81fefa4_5562_11ec_a6cd_0242ac1c0002level0_row8\" class=\"row_heading level0 row8\" >dti</th>\n",
              "                        <td id=\"T_d81fefa4_5562_11ec_a6cd_0242ac1c0002row8_col0\" class=\"data row8 col0\" >0.066580</td>\n",
              "                        <td id=\"T_d81fefa4_5562_11ec_a6cd_0242ac1c0002row8_col1\" class=\"data row8 col1\" >0.066620</td>\n",
              "                        <td id=\"T_d81fefa4_5562_11ec_a6cd_0242ac1c0002row8_col2\" class=\"data row8 col2\" >0.020189</td>\n",
              "                        <td id=\"T_d81fefa4_5562_11ec_a6cd_0242ac1c0002row8_col3\" class=\"data row8 col3\" >0.020583</td>\n",
              "                        <td id=\"T_d81fefa4_5562_11ec_a6cd_0242ac1c0002row8_col4\" class=\"data row8 col4\" >0.021489</td>\n",
              "                        <td id=\"T_d81fefa4_5562_11ec_a6cd_0242ac1c0002row8_col5\" class=\"data row8 col5\" >0.078454</td>\n",
              "                        <td id=\"T_d81fefa4_5562_11ec_a6cd_0242ac1c0002row8_col6\" class=\"data row8 col6\" >0.013909</td>\n",
              "                        <td id=\"T_d81fefa4_5562_11ec_a6cd_0242ac1c0002row8_col7\" class=\"data row8 col7\" >-0.086821</td>\n",
              "                        <td id=\"T_d81fefa4_5562_11ec_a6cd_0242ac1c0002row8_col8\" class=\"data row8 col8\" >1.000000</td>\n",
              "                        <td id=\"T_d81fefa4_5562_11ec_a6cd_0242ac1c0002row8_col9\" class=\"data row8 col9\" >-0.002677</td>\n",
              "                        <td id=\"T_d81fefa4_5562_11ec_a6cd_0242ac1c0002row8_col10\" class=\"data row8 col10\" >-0.005860</td>\n",
              "                        <td id=\"T_d81fefa4_5562_11ec_a6cd_0242ac1c0002row8_col11\" class=\"data row8 col11\" >0.142068</td>\n",
              "                        <td id=\"T_d81fefa4_5562_11ec_a6cd_0242ac1c0002row8_col12\" class=\"data row8 col12\" >-0.022717</td>\n",
              "                        <td id=\"T_d81fefa4_5562_11ec_a6cd_0242ac1c0002row8_col13\" class=\"data row8 col13\" >0.067119</td>\n",
              "                        <td id=\"T_d81fefa4_5562_11ec_a6cd_0242ac1c0002row8_col14\" class=\"data row8 col14\" >0.086642</td>\n",
              "                        <td id=\"T_d81fefa4_5562_11ec_a6cd_0242ac1c0002row8_col15\" class=\"data row8 col15\" >0.106266</td>\n",
              "                        <td id=\"T_d81fefa4_5562_11ec_a6cd_0242ac1c0002row8_col16\" class=\"data row8 col16\" >0.058057</td>\n",
              "                        <td id=\"T_d81fefa4_5562_11ec_a6cd_0242ac1c0002row8_col17\" class=\"data row8 col17\" >0.058021</td>\n",
              "                        <td id=\"T_d81fefa4_5562_11ec_a6cd_0242ac1c0002row8_col18\" class=\"data row8 col18\" >-0.040537</td>\n",
              "                        <td id=\"T_d81fefa4_5562_11ec_a6cd_0242ac1c0002row8_col19\" class=\"data row8 col19\" >-0.039563</td>\n",
              "                        <td id=\"T_d81fefa4_5562_11ec_a6cd_0242ac1c0002row8_col20\" class=\"data row8 col20\" >-0.050855</td>\n",
              "                        <td id=\"T_d81fefa4_5562_11ec_a6cd_0242ac1c0002row8_col21\" class=\"data row8 col21\" >0.008750</td>\n",
              "                        <td id=\"T_d81fefa4_5562_11ec_a6cd_0242ac1c0002row8_col22\" class=\"data row8 col22\" >-0.006245</td>\n",
              "                        <td id=\"T_d81fefa4_5562_11ec_a6cd_0242ac1c0002row8_col23\" class=\"data row8 col23\" >0.001719</td>\n",
              "                        <td id=\"T_d81fefa4_5562_11ec_a6cd_0242ac1c0002row8_col24\" class=\"data row8 col24\" >0.002923</td>\n",
              "                        <td id=\"T_d81fefa4_5562_11ec_a6cd_0242ac1c0002row8_col25\" class=\"data row8 col25\" >-0.028601</td>\n",
              "                        <td id=\"T_d81fefa4_5562_11ec_a6cd_0242ac1c0002row8_col26\" class=\"data row8 col26\" >-0.000113</td>\n",
              "                        <td id=\"T_d81fefa4_5562_11ec_a6cd_0242ac1c0002row8_col27\" class=\"data row8 col27\" >nan</td>\n",
              "                        <td id=\"T_d81fefa4_5562_11ec_a6cd_0242ac1c0002row8_col28\" class=\"data row8 col28\" >0.003227</td>\n",
              "                        <td id=\"T_d81fefa4_5562_11ec_a6cd_0242ac1c0002row8_col29\" class=\"data row8 col29\" >-0.001979</td>\n",
              "                        <td id=\"T_d81fefa4_5562_11ec_a6cd_0242ac1c0002row8_col30\" class=\"data row8 col30\" >-0.007072</td>\n",
              "                        <td id=\"T_d81fefa4_5562_11ec_a6cd_0242ac1c0002row8_col31\" class=\"data row8 col31\" >0.032157</td>\n",
              "                        <td id=\"T_d81fefa4_5562_11ec_a6cd_0242ac1c0002row8_col32\" class=\"data row8 col32\" >0.004429</td>\n",
              "            </tr>\n",
              "            <tr>\n",
              "                        <th id=\"T_d81fefa4_5562_11ec_a6cd_0242ac1c0002level0_row9\" class=\"row_heading level0 row9\" >delinq_2yrs</th>\n",
              "                        <td id=\"T_d81fefa4_5562_11ec_a6cd_0242ac1c0002row9_col0\" class=\"data row9 col0\" >0.049909</td>\n",
              "                        <td id=\"T_d81fefa4_5562_11ec_a6cd_0242ac1c0002row9_col1\" class=\"data row9 col1\" >0.050174</td>\n",
              "                        <td id=\"T_d81fefa4_5562_11ec_a6cd_0242ac1c0002row9_col2\" class=\"data row9 col2\" >-0.000739</td>\n",
              "                        <td id=\"T_d81fefa4_5562_11ec_a6cd_0242ac1c0002row9_col3\" class=\"data row9 col3\" >-0.000424</td>\n",
              "                        <td id=\"T_d81fefa4_5562_11ec_a6cd_0242ac1c0002row9_col4\" class=\"data row9 col4\" >0.000050</td>\n",
              "                        <td id=\"T_d81fefa4_5562_11ec_a6cd_0242ac1c0002row9_col5\" class=\"data row9 col5\" >0.055400</td>\n",
              "                        <td id=\"T_d81fefa4_5562_11ec_a6cd_0242ac1c0002row9_col6\" class=\"data row9 col6\" >0.007224</td>\n",
              "                        <td id=\"T_d81fefa4_5562_11ec_a6cd_0242ac1c0002row9_col7\" class=\"data row9 col7\" >0.047749</td>\n",
              "                        <td id=\"T_d81fefa4_5562_11ec_a6cd_0242ac1c0002row9_col8\" class=\"data row9 col8\" >-0.002677</td>\n",
              "                        <td id=\"T_d81fefa4_5562_11ec_a6cd_0242ac1c0002row9_col9\" class=\"data row9 col9\" >1.000000</td>\n",
              "                        <td id=\"T_d81fefa4_5562_11ec_a6cd_0242ac1c0002row9_col10\" class=\"data row9 col10\" >0.022930</td>\n",
              "                        <td id=\"T_d81fefa4_5562_11ec_a6cd_0242ac1c0002row9_col11\" class=\"data row9 col11\" >0.051502</td>\n",
              "                        <td id=\"T_d81fefa4_5562_11ec_a6cd_0242ac1c0002row9_col12\" class=\"data row9 col12\" >-0.011081</td>\n",
              "                        <td id=\"T_d81fefa4_5562_11ec_a6cd_0242ac1c0002row9_col13\" class=\"data row9 col13\" >-0.031807</td>\n",
              "                        <td id=\"T_d81fefa4_5562_11ec_a6cd_0242ac1c0002row9_col14\" class=\"data row9 col14\" >-0.016289</td>\n",
              "                        <td id=\"T_d81fefa4_5562_11ec_a6cd_0242ac1c0002row9_col15\" class=\"data row9 col15\" >0.121978</td>\n",
              "                        <td id=\"T_d81fefa4_5562_11ec_a6cd_0242ac1c0002row9_col16\" class=\"data row9 col16\" >0.030884</td>\n",
              "                        <td id=\"T_d81fefa4_5562_11ec_a6cd_0242ac1c0002row9_col17\" class=\"data row9 col17\" >0.030874</td>\n",
              "                        <td id=\"T_d81fefa4_5562_11ec_a6cd_0242ac1c0002row9_col18\" class=\"data row9 col18\" >-0.031777</td>\n",
              "                        <td id=\"T_d81fefa4_5562_11ec_a6cd_0242ac1c0002row9_col19\" class=\"data row9 col19\" >-0.031346</td>\n",
              "                        <td id=\"T_d81fefa4_5562_11ec_a6cd_0242ac1c0002row9_col20\" class=\"data row9 col20\" >-0.038068</td>\n",
              "                        <td id=\"T_d81fefa4_5562_11ec_a6cd_0242ac1c0002row9_col21\" class=\"data row9 col21\" >0.001380</td>\n",
              "                        <td id=\"T_d81fefa4_5562_11ec_a6cd_0242ac1c0002row9_col22\" class=\"data row9 col22\" >0.013992</td>\n",
              "                        <td id=\"T_d81fefa4_5562_11ec_a6cd_0242ac1c0002row9_col23\" class=\"data row9 col23\" >-0.000252</td>\n",
              "                        <td id=\"T_d81fefa4_5562_11ec_a6cd_0242ac1c0002row9_col24\" class=\"data row9 col24\" >0.001467</td>\n",
              "                        <td id=\"T_d81fefa4_5562_11ec_a6cd_0242ac1c0002row9_col25\" class=\"data row9 col25\" >-0.018805</td>\n",
              "                        <td id=\"T_d81fefa4_5562_11ec_a6cd_0242ac1c0002row9_col26\" class=\"data row9 col26\" >0.063019</td>\n",
              "                        <td id=\"T_d81fefa4_5562_11ec_a6cd_0242ac1c0002row9_col27\" class=\"data row9 col27\" >nan</td>\n",
              "                        <td id=\"T_d81fefa4_5562_11ec_a6cd_0242ac1c0002row9_col28\" class=\"data row9 col28\" >0.130420</td>\n",
              "                        <td id=\"T_d81fefa4_5562_11ec_a6cd_0242ac1c0002row9_col29\" class=\"data row9 col29\" >0.000151</td>\n",
              "                        <td id=\"T_d81fefa4_5562_11ec_a6cd_0242ac1c0002row9_col30\" class=\"data row9 col30\" >0.063602</td>\n",
              "                        <td id=\"T_d81fefa4_5562_11ec_a6cd_0242ac1c0002row9_col31\" class=\"data row9 col31\" >-0.039936</td>\n",
              "                        <td id=\"T_d81fefa4_5562_11ec_a6cd_0242ac1c0002row9_col32\" class=\"data row9 col32\" >-0.009186</td>\n",
              "            </tr>\n",
              "            <tr>\n",
              "                        <th id=\"T_d81fefa4_5562_11ec_a6cd_0242ac1c0002level0_row10\" class=\"row_heading level0 row10\" >inq_last_6mths</th>\n",
              "                        <td id=\"T_d81fefa4_5562_11ec_a6cd_0242ac1c0002row10_col0\" class=\"data row10 col0\" >-0.118742</td>\n",
              "                        <td id=\"T_d81fefa4_5562_11ec_a6cd_0242ac1c0002row10_col1\" class=\"data row10 col1\" >-0.118790</td>\n",
              "                        <td id=\"T_d81fefa4_5562_11ec_a6cd_0242ac1c0002row10_col2\" class=\"data row10 col2\" >-0.028928</td>\n",
              "                        <td id=\"T_d81fefa4_5562_11ec_a6cd_0242ac1c0002row10_col3\" class=\"data row10 col3\" >-0.029279</td>\n",
              "                        <td id=\"T_d81fefa4_5562_11ec_a6cd_0242ac1c0002row10_col4\" class=\"data row10 col4\" >-0.030462</td>\n",
              "                        <td id=\"T_d81fefa4_5562_11ec_a6cd_0242ac1c0002row10_col5\" class=\"data row10 col5\" >0.231705</td>\n",
              "                        <td id=\"T_d81fefa4_5562_11ec_a6cd_0242ac1c0002row10_col6\" class=\"data row10 col6\" >0.001659</td>\n",
              "                        <td id=\"T_d81fefa4_5562_11ec_a6cd_0242ac1c0002row10_col7\" class=\"data row10 col7\" >0.037251</td>\n",
              "                        <td id=\"T_d81fefa4_5562_11ec_a6cd_0242ac1c0002row10_col8\" class=\"data row10 col8\" >-0.005860</td>\n",
              "                        <td id=\"T_d81fefa4_5562_11ec_a6cd_0242ac1c0002row10_col9\" class=\"data row10 col9\" >0.022930</td>\n",
              "                        <td id=\"T_d81fefa4_5562_11ec_a6cd_0242ac1c0002row10_col10\" class=\"data row10 col10\" >1.000000</td>\n",
              "                        <td id=\"T_d81fefa4_5562_11ec_a6cd_0242ac1c0002row10_col11\" class=\"data row10 col11\" >0.116532</td>\n",
              "                        <td id=\"T_d81fefa4_5562_11ec_a6cd_0242ac1c0002row10_col12\" class=\"data row10 col12\" >0.059430</td>\n",
              "                        <td id=\"T_d81fefa4_5562_11ec_a6cd_0242ac1c0002row10_col13\" class=\"data row10 col13\" >-0.018683</td>\n",
              "                        <td id=\"T_d81fefa4_5562_11ec_a6cd_0242ac1c0002row10_col14\" class=\"data row10 col14\" >-0.088332</td>\n",
              "                        <td id=\"T_d81fefa4_5562_11ec_a6cd_0242ac1c0002row10_col15\" class=\"data row10 col15\" >0.141854</td>\n",
              "                        <td id=\"T_d81fefa4_5562_11ec_a6cd_0242ac1c0002row10_col16\" class=\"data row10 col16\" >-0.104062</td>\n",
              "                        <td id=\"T_d81fefa4_5562_11ec_a6cd_0242ac1c0002row10_col17\" class=\"data row10 col17\" >-0.104083</td>\n",
              "                        <td id=\"T_d81fefa4_5562_11ec_a6cd_0242ac1c0002row10_col18\" class=\"data row10 col18\" >0.080476</td>\n",
              "                        <td id=\"T_d81fefa4_5562_11ec_a6cd_0242ac1c0002row10_col19\" class=\"data row10 col19\" >0.079531</td>\n",
              "                        <td id=\"T_d81fefa4_5562_11ec_a6cd_0242ac1c0002row10_col20\" class=\"data row10 col20\" >0.065010</td>\n",
              "                        <td id=\"T_d81fefa4_5562_11ec_a6cd_0242ac1c0002row10_col21\" class=\"data row10 col21\" >0.088495</td>\n",
              "                        <td id=\"T_d81fefa4_5562_11ec_a6cd_0242ac1c0002row10_col22\" class=\"data row10 col22\" >0.022820</td>\n",
              "                        <td id=\"T_d81fefa4_5562_11ec_a6cd_0242ac1c0002row10_col23\" class=\"data row10 col23\" >0.044004</td>\n",
              "                        <td id=\"T_d81fefa4_5562_11ec_a6cd_0242ac1c0002row10_col24\" class=\"data row10 col24\" >0.029647</td>\n",
              "                        <td id=\"T_d81fefa4_5562_11ec_a6cd_0242ac1c0002row10_col25\" class=\"data row10 col25\" >0.065455</td>\n",
              "                        <td id=\"T_d81fefa4_5562_11ec_a6cd_0242ac1c0002row10_col26\" class=\"data row10 col26\" >0.007364</td>\n",
              "                        <td id=\"T_d81fefa4_5562_11ec_a6cd_0242ac1c0002row10_col27\" class=\"data row10 col27\" >nan</td>\n",
              "                        <td id=\"T_d81fefa4_5562_11ec_a6cd_0242ac1c0002row10_col28\" class=\"data row10 col28\" >-0.004836</td>\n",
              "                        <td id=\"T_d81fefa4_5562_11ec_a6cd_0242ac1c0002row10_col29\" class=\"data row10 col29\" >0.003027</td>\n",
              "                        <td id=\"T_d81fefa4_5562_11ec_a6cd_0242ac1c0002row10_col30\" class=\"data row10 col30\" >0.033127</td>\n",
              "                        <td id=\"T_d81fefa4_5562_11ec_a6cd_0242ac1c0002row10_col31\" class=\"data row10 col31\" >0.005796</td>\n",
              "                        <td id=\"T_d81fefa4_5562_11ec_a6cd_0242ac1c0002row10_col32\" class=\"data row10 col32\" >0.074407</td>\n",
              "            </tr>\n",
              "            <tr>\n",
              "                        <th id=\"T_d81fefa4_5562_11ec_a6cd_0242ac1c0002level0_row11\" class=\"row_heading level0 row11\" >open_acc</th>\n",
              "                        <td id=\"T_d81fefa4_5562_11ec_a6cd_0242ac1c0002row11_col0\" class=\"data row11 col0\" >0.089238</td>\n",
              "                        <td id=\"T_d81fefa4_5562_11ec_a6cd_0242ac1c0002row11_col1\" class=\"data row11 col1\" >0.089345</td>\n",
              "                        <td id=\"T_d81fefa4_5562_11ec_a6cd_0242ac1c0002row11_col2\" class=\"data row11 col2\" >0.198926</td>\n",
              "                        <td id=\"T_d81fefa4_5562_11ec_a6cd_0242ac1c0002row11_col3\" class=\"data row11 col3\" >0.199432</td>\n",
              "                        <td id=\"T_d81fefa4_5562_11ec_a6cd_0242ac1c0002row11_col4\" class=\"data row11 col4\" >0.200055</td>\n",
              "                        <td id=\"T_d81fefa4_5562_11ec_a6cd_0242ac1c0002row11_col5\" class=\"data row11 col5\" >-0.011091</td>\n",
              "                        <td id=\"T_d81fefa4_5562_11ec_a6cd_0242ac1c0002row11_col6\" class=\"data row11 col6\" >0.183817</td>\n",
              "                        <td id=\"T_d81fefa4_5562_11ec_a6cd_0242ac1c0002row11_col7\" class=\"data row11 col7\" >0.139429</td>\n",
              "                        <td id=\"T_d81fefa4_5562_11ec_a6cd_0242ac1c0002row11_col8\" class=\"data row11 col8\" >0.142068</td>\n",
              "                        <td id=\"T_d81fefa4_5562_11ec_a6cd_0242ac1c0002row11_col9\" class=\"data row11 col9\" >0.051502</td>\n",
              "                        <td id=\"T_d81fefa4_5562_11ec_a6cd_0242ac1c0002row11_col10\" class=\"data row11 col10\" >0.116532</td>\n",
              "                        <td id=\"T_d81fefa4_5562_11ec_a6cd_0242ac1c0002row11_col11\" class=\"data row11 col11\" >1.000000</td>\n",
              "                        <td id=\"T_d81fefa4_5562_11ec_a6cd_0242ac1c0002row11_col12\" class=\"data row11 col12\" >-0.026122</td>\n",
              "                        <td id=\"T_d81fefa4_5562_11ec_a6cd_0242ac1c0002row11_col13\" class=\"data row11 col13\" >0.225858</td>\n",
              "                        <td id=\"T_d81fefa4_5562_11ec_a6cd_0242ac1c0002row11_col14\" class=\"data row11 col14\" >-0.144883</td>\n",
              "                        <td id=\"T_d81fefa4_5562_11ec_a6cd_0242ac1c0002row11_col15\" class=\"data row11 col15\" >0.694850</td>\n",
              "                        <td id=\"T_d81fefa4_5562_11ec_a6cd_0242ac1c0002row11_col16\" class=\"data row11 col16\" >0.171050</td>\n",
              "                        <td id=\"T_d81fefa4_5562_11ec_a6cd_0242ac1c0002row11_col17\" class=\"data row11 col17\" >0.171053</td>\n",
              "                        <td id=\"T_d81fefa4_5562_11ec_a6cd_0242ac1c0002row11_col18\" class=\"data row11 col18\" >0.043452</td>\n",
              "                        <td id=\"T_d81fefa4_5562_11ec_a6cd_0242ac1c0002row11_col19\" class=\"data row11 col19\" >0.044552</td>\n",
              "                        <td id=\"T_d81fefa4_5562_11ec_a6cd_0242ac1c0002row11_col20\" class=\"data row11 col20\" >0.032115</td>\n",
              "                        <td id=\"T_d81fefa4_5562_11ec_a6cd_0242ac1c0002row11_col21\" class=\"data row11 col21\" >0.061725</td>\n",
              "                        <td id=\"T_d81fefa4_5562_11ec_a6cd_0242ac1c0002row11_col22\" class=\"data row11 col22\" >-0.009957</td>\n",
              "                        <td id=\"T_d81fefa4_5562_11ec_a6cd_0242ac1c0002row11_col23\" class=\"data row11 col23\" >0.001957</td>\n",
              "                        <td id=\"T_d81fefa4_5562_11ec_a6cd_0242ac1c0002row11_col24\" class=\"data row11 col24\" >0.003990</td>\n",
              "                        <td id=\"T_d81fefa4_5562_11ec_a6cd_0242ac1c0002row11_col25\" class=\"data row11 col25\" >0.029130</td>\n",
              "                        <td id=\"T_d81fefa4_5562_11ec_a6cd_0242ac1c0002row11_col26\" class=\"data row11 col26\" >0.010000</td>\n",
              "                        <td id=\"T_d81fefa4_5562_11ec_a6cd_0242ac1c0002row11_col27\" class=\"data row11 col27\" >nan</td>\n",
              "                        <td id=\"T_d81fefa4_5562_11ec_a6cd_0242ac1c0002row11_col28\" class=\"data row11 col28\" >0.017774</td>\n",
              "                        <td id=\"T_d81fefa4_5562_11ec_a6cd_0242ac1c0002row11_col29\" class=\"data row11 col29\" >0.000068</td>\n",
              "                        <td id=\"T_d81fefa4_5562_11ec_a6cd_0242ac1c0002row11_col30\" class=\"data row11 col30\" >0.236396</td>\n",
              "                        <td id=\"T_d81fefa4_5562_11ec_a6cd_0242ac1c0002row11_col31\" class=\"data row11 col31\" >0.314446</td>\n",
              "                        <td id=\"T_d81fefa4_5562_11ec_a6cd_0242ac1c0002row11_col32\" class=\"data row11 col32\" >-0.021698</td>\n",
              "            </tr>\n",
              "            <tr>\n",
              "                        <th id=\"T_d81fefa4_5562_11ec_a6cd_0242ac1c0002level0_row12\" class=\"row_heading level0 row12\" >pub_rec</th>\n",
              "                        <td id=\"T_d81fefa4_5562_11ec_a6cd_0242ac1c0002row12_col0\" class=\"data row12 col0\" >0.080289</td>\n",
              "                        <td id=\"T_d81fefa4_5562_11ec_a6cd_0242ac1c0002row12_col1\" class=\"data row12 col1\" >0.080976</td>\n",
              "                        <td id=\"T_d81fefa4_5562_11ec_a6cd_0242ac1c0002row12_col2\" class=\"data row12 col2\" >-0.082199</td>\n",
              "                        <td id=\"T_d81fefa4_5562_11ec_a6cd_0242ac1c0002row12_col3\" class=\"data row12 col3\" >-0.081858</td>\n",
              "                        <td id=\"T_d81fefa4_5562_11ec_a6cd_0242ac1c0002row12_col4\" class=\"data row12 col4\" >-0.081008</td>\n",
              "                        <td id=\"T_d81fefa4_5562_11ec_a6cd_0242ac1c0002row12_col5\" class=\"data row12 col5\" >0.052596</td>\n",
              "                        <td id=\"T_d81fefa4_5562_11ec_a6cd_0242ac1c0002row12_col6\" class=\"data row12 col6\" >-0.071114</td>\n",
              "                        <td id=\"T_d81fefa4_5562_11ec_a6cd_0242ac1c0002row12_col7\" class=\"data row12 col7\" >-0.008909</td>\n",
              "                        <td id=\"T_d81fefa4_5562_11ec_a6cd_0242ac1c0002row12_col8\" class=\"data row12 col8\" >-0.022717</td>\n",
              "                        <td id=\"T_d81fefa4_5562_11ec_a6cd_0242ac1c0002row12_col9\" class=\"data row12 col9\" >-0.011081</td>\n",
              "                        <td id=\"T_d81fefa4_5562_11ec_a6cd_0242ac1c0002row12_col10\" class=\"data row12 col10\" >0.059430</td>\n",
              "                        <td id=\"T_d81fefa4_5562_11ec_a6cd_0242ac1c0002row12_col11\" class=\"data row12 col11\" >-0.026122</td>\n",
              "                        <td id=\"T_d81fefa4_5562_11ec_a6cd_0242ac1c0002row12_col12\" class=\"data row12 col12\" >1.000000</td>\n",
              "                        <td id=\"T_d81fefa4_5562_11ec_a6cd_0242ac1c0002row12_col13\" class=\"data row12 col13\" >-0.101235</td>\n",
              "                        <td id=\"T_d81fefa4_5562_11ec_a6cd_0242ac1c0002row12_col14\" class=\"data row12 col14\" >-0.079045</td>\n",
              "                        <td id=\"T_d81fefa4_5562_11ec_a6cd_0242ac1c0002row12_col15\" class=\"data row12 col15\" >0.012300</td>\n",
              "                        <td id=\"T_d81fefa4_5562_11ec_a6cd_0242ac1c0002row12_col16\" class=\"data row12 col16\" >-0.007978</td>\n",
              "                        <td id=\"T_d81fefa4_5562_11ec_a6cd_0242ac1c0002row12_col17\" class=\"data row12 col17\" >-0.007976</td>\n",
              "                        <td id=\"T_d81fefa4_5562_11ec_a6cd_0242ac1c0002row12_col18\" class=\"data row12 col18\" >-0.087933</td>\n",
              "                        <td id=\"T_d81fefa4_5562_11ec_a6cd_0242ac1c0002row12_col19\" class=\"data row12 col19\" >-0.087299</td>\n",
              "                        <td id=\"T_d81fefa4_5562_11ec_a6cd_0242ac1c0002row12_col20\" class=\"data row12 col20\" >-0.084596</td>\n",
              "                        <td id=\"T_d81fefa4_5562_11ec_a6cd_0242ac1c0002row12_col21\" class=\"data row12 col21\" >-0.059868</td>\n",
              "                        <td id=\"T_d81fefa4_5562_11ec_a6cd_0242ac1c0002row12_col22\" class=\"data row12 col22\" >-0.011871</td>\n",
              "                        <td id=\"T_d81fefa4_5562_11ec_a6cd_0242ac1c0002row12_col23\" class=\"data row12 col23\" >-0.014602</td>\n",
              "                        <td id=\"T_d81fefa4_5562_11ec_a6cd_0242ac1c0002row12_col24\" class=\"data row12 col24\" >-0.008963</td>\n",
              "                        <td id=\"T_d81fefa4_5562_11ec_a6cd_0242ac1c0002row12_col25\" class=\"data row12 col25\" >-0.034215</td>\n",
              "                        <td id=\"T_d81fefa4_5562_11ec_a6cd_0242ac1c0002row12_col26\" class=\"data row12 col26\" >0.020876</td>\n",
              "                        <td id=\"T_d81fefa4_5562_11ec_a6cd_0242ac1c0002row12_col27\" class=\"data row12 col27\" >nan</td>\n",
              "                        <td id=\"T_d81fefa4_5562_11ec_a6cd_0242ac1c0002row12_col28\" class=\"data row12 col28\" >-0.000293</td>\n",
              "                        <td id=\"T_d81fefa4_5562_11ec_a6cd_0242ac1c0002row12_col29\" class=\"data row12 col29\" >0.006759</td>\n",
              "                        <td id=\"T_d81fefa4_5562_11ec_a6cd_0242ac1c0002row12_col30\" class=\"data row12 col30\" >-0.075328</td>\n",
              "                        <td id=\"T_d81fefa4_5562_11ec_a6cd_0242ac1c0002row12_col31\" class=\"data row12 col31\" >-0.099398</td>\n",
              "                        <td id=\"T_d81fefa4_5562_11ec_a6cd_0242ac1c0002row12_col32\" class=\"data row12 col32\" >-0.019607</td>\n",
              "            </tr>\n",
              "            <tr>\n",
              "                        <th id=\"T_d81fefa4_5562_11ec_a6cd_0242ac1c0002level0_row13\" class=\"row_heading level0 row13\" >revol_bal</th>\n",
              "                        <td id=\"T_d81fefa4_5562_11ec_a6cd_0242ac1c0002row13_col0\" class=\"data row13 col0\" >0.039686</td>\n",
              "                        <td id=\"T_d81fefa4_5562_11ec_a6cd_0242ac1c0002row13_col1\" class=\"data row13 col1\" >0.039704</td>\n",
              "                        <td id=\"T_d81fefa4_5562_11ec_a6cd_0242ac1c0002row13_col2\" class=\"data row13 col2\" >0.337489</td>\n",
              "                        <td id=\"T_d81fefa4_5562_11ec_a6cd_0242ac1c0002row13_col3\" class=\"data row13 col3\" >0.337405</td>\n",
              "                        <td id=\"T_d81fefa4_5562_11ec_a6cd_0242ac1c0002row13_col4\" class=\"data row13 col4\" >0.336870</td>\n",
              "                        <td id=\"T_d81fefa4_5562_11ec_a6cd_0242ac1c0002row13_col5\" class=\"data row13 col5\" >-0.035344</td>\n",
              "                        <td id=\"T_d81fefa4_5562_11ec_a6cd_0242ac1c0002row13_col6\" class=\"data row13 col6\" >0.320017</td>\n",
              "                        <td id=\"T_d81fefa4_5562_11ec_a6cd_0242ac1c0002row13_col7\" class=\"data row13 col7\" >0.298569</td>\n",
              "                        <td id=\"T_d81fefa4_5562_11ec_a6cd_0242ac1c0002row13_col8\" class=\"data row13 col8\" >0.067119</td>\n",
              "                        <td id=\"T_d81fefa4_5562_11ec_a6cd_0242ac1c0002row13_col9\" class=\"data row13 col9\" >-0.031807</td>\n",
              "                        <td id=\"T_d81fefa4_5562_11ec_a6cd_0242ac1c0002row13_col10\" class=\"data row13 col10\" >-0.018683</td>\n",
              "                        <td id=\"T_d81fefa4_5562_11ec_a6cd_0242ac1c0002row13_col11\" class=\"data row13 col11\" >0.225858</td>\n",
              "                        <td id=\"T_d81fefa4_5562_11ec_a6cd_0242ac1c0002row13_col12\" class=\"data row13 col12\" >-0.101235</td>\n",
              "                        <td id=\"T_d81fefa4_5562_11ec_a6cd_0242ac1c0002row13_col13\" class=\"data row13 col13\" >1.000000</td>\n",
              "                        <td id=\"T_d81fefa4_5562_11ec_a6cd_0242ac1c0002row13_col14\" class=\"data row13 col14\" >0.217618</td>\n",
              "                        <td id=\"T_d81fefa4_5562_11ec_a6cd_0242ac1c0002row13_col15\" class=\"data row13 col15\" >0.189322</td>\n",
              "                        <td id=\"T_d81fefa4_5562_11ec_a6cd_0242ac1c0002row13_col16\" class=\"data row13 col16\" >0.236093</td>\n",
              "                        <td id=\"T_d81fefa4_5562_11ec_a6cd_0242ac1c0002row13_col17\" class=\"data row13 col17\" >0.236100</td>\n",
              "                        <td id=\"T_d81fefa4_5562_11ec_a6cd_0242ac1c0002row13_col18\" class=\"data row13 col18\" >0.139161</td>\n",
              "                        <td id=\"T_d81fefa4_5562_11ec_a6cd_0242ac1c0002row13_col19\" class=\"data row13 col19\" >0.139355</td>\n",
              "                        <td id=\"T_d81fefa4_5562_11ec_a6cd_0242ac1c0002row13_col20\" class=\"data row13 col20\" >0.120577</td>\n",
              "                        <td id=\"T_d81fefa4_5562_11ec_a6cd_0242ac1c0002row13_col21\" class=\"data row13 col21\" >0.139872</td>\n",
              "                        <td id=\"T_d81fefa4_5562_11ec_a6cd_0242ac1c0002row13_col22\" class=\"data row13 col22\" >-0.000166</td>\n",
              "                        <td id=\"T_d81fefa4_5562_11ec_a6cd_0242ac1c0002row13_col23\" class=\"data row13 col23\" >0.010861</td>\n",
              "                        <td id=\"T_d81fefa4_5562_11ec_a6cd_0242ac1c0002row13_col24\" class=\"data row13 col24\" >0.008588</td>\n",
              "                        <td id=\"T_d81fefa4_5562_11ec_a6cd_0242ac1c0002row13_col25\" class=\"data row13 col25\" >0.060027</td>\n",
              "                        <td id=\"T_d81fefa4_5562_11ec_a6cd_0242ac1c0002row13_col26\" class=\"data row13 col26\" >-0.022551</td>\n",
              "                        <td id=\"T_d81fefa4_5562_11ec_a6cd_0242ac1c0002row13_col27\" class=\"data row13 col27\" >nan</td>\n",
              "                        <td id=\"T_d81fefa4_5562_11ec_a6cd_0242ac1c0002row13_col28\" class=\"data row13 col28\" >-0.000677</td>\n",
              "                        <td id=\"T_d81fefa4_5562_11ec_a6cd_0242ac1c0002row13_col29\" class=\"data row13 col29\" >-0.006004</td>\n",
              "                        <td id=\"T_d81fefa4_5562_11ec_a6cd_0242ac1c0002row13_col30\" class=\"data row13 col30\" >0.434876</td>\n",
              "                        <td id=\"T_d81fefa4_5562_11ec_a6cd_0242ac1c0002row13_col31\" class=\"data row13 col31\" >0.805639</td>\n",
              "                        <td id=\"T_d81fefa4_5562_11ec_a6cd_0242ac1c0002row13_col32\" class=\"data row13 col32\" >-0.020696</td>\n",
              "            </tr>\n",
              "            <tr>\n",
              "                        <th id=\"T_d81fefa4_5562_11ec_a6cd_0242ac1c0002level0_row14\" class=\"row_heading level0 row14\" >revol_util</th>\n",
              "                        <td id=\"T_d81fefa4_5562_11ec_a6cd_0242ac1c0002row14_col0\" class=\"data row14 col0\" >-0.053523</td>\n",
              "                        <td id=\"T_d81fefa4_5562_11ec_a6cd_0242ac1c0002row14_col1\" class=\"data row14 col1\" >-0.053247</td>\n",
              "                        <td id=\"T_d81fefa4_5562_11ec_a6cd_0242ac1c0002row14_col2\" class=\"data row14 col2\" >0.119591</td>\n",
              "                        <td id=\"T_d81fefa4_5562_11ec_a6cd_0242ac1c0002row14_col3\" class=\"data row14 col3\" >0.120104</td>\n",
              "                        <td id=\"T_d81fefa4_5562_11ec_a6cd_0242ac1c0002row14_col4\" class=\"data row14 col4\" >0.120886</td>\n",
              "                        <td id=\"T_d81fefa4_5562_11ec_a6cd_0242ac1c0002row14_col5\" class=\"data row14 col5\" >0.271604</td>\n",
              "                        <td id=\"T_d81fefa4_5562_11ec_a6cd_0242ac1c0002row14_col6\" class=\"data row14 col6\" >0.131877</td>\n",
              "                        <td id=\"T_d81fefa4_5562_11ec_a6cd_0242ac1c0002row14_col7\" class=\"data row14 col7\" >0.036737</td>\n",
              "                        <td id=\"T_d81fefa4_5562_11ec_a6cd_0242ac1c0002row14_col8\" class=\"data row14 col8\" >0.086642</td>\n",
              "                        <td id=\"T_d81fefa4_5562_11ec_a6cd_0242ac1c0002row14_col9\" class=\"data row14 col9\" >-0.016289</td>\n",
              "                        <td id=\"T_d81fefa4_5562_11ec_a6cd_0242ac1c0002row14_col10\" class=\"data row14 col10\" >-0.088332</td>\n",
              "                        <td id=\"T_d81fefa4_5562_11ec_a6cd_0242ac1c0002row14_col11\" class=\"data row14 col11\" >-0.144883</td>\n",
              "                        <td id=\"T_d81fefa4_5562_11ec_a6cd_0242ac1c0002row14_col12\" class=\"data row14 col12\" >-0.079045</td>\n",
              "                        <td id=\"T_d81fefa4_5562_11ec_a6cd_0242ac1c0002row14_col13\" class=\"data row14 col13\" >0.217618</td>\n",
              "                        <td id=\"T_d81fefa4_5562_11ec_a6cd_0242ac1c0002row14_col14\" class=\"data row14 col14\" >1.000000</td>\n",
              "                        <td id=\"T_d81fefa4_5562_11ec_a6cd_0242ac1c0002row14_col15\" class=\"data row14 col15\" >-0.114583</td>\n",
              "                        <td id=\"T_d81fefa4_5562_11ec_a6cd_0242ac1c0002row14_col16\" class=\"data row14 col16\" >0.074333</td>\n",
              "                        <td id=\"T_d81fefa4_5562_11ec_a6cd_0242ac1c0002row14_col17\" class=\"data row14 col17\" >0.074282</td>\n",
              "                        <td id=\"T_d81fefa4_5562_11ec_a6cd_0242ac1c0002row14_col18\" class=\"data row14 col18\" >0.080923</td>\n",
              "                        <td id=\"T_d81fefa4_5562_11ec_a6cd_0242ac1c0002row14_col19\" class=\"data row14 col19\" >0.082158</td>\n",
              "                        <td id=\"T_d81fefa4_5562_11ec_a6cd_0242ac1c0002row14_col20\" class=\"data row14 col20\" >0.036746</td>\n",
              "                        <td id=\"T_d81fefa4_5562_11ec_a6cd_0242ac1c0002row14_col21\" class=\"data row14 col21\" >0.183708</td>\n",
              "                        <td id=\"T_d81fefa4_5562_11ec_a6cd_0242ac1c0002row14_col22\" class=\"data row14 col22\" >0.019436</td>\n",
              "                        <td id=\"T_d81fefa4_5562_11ec_a6cd_0242ac1c0002row14_col23\" class=\"data row14 col23\" >0.029593</td>\n",
              "                        <td id=\"T_d81fefa4_5562_11ec_a6cd_0242ac1c0002row14_col24\" class=\"data row14 col24\" >0.019874</td>\n",
              "                        <td id=\"T_d81fefa4_5562_11ec_a6cd_0242ac1c0002row14_col25\" class=\"data row14 col25\" >-0.000939</td>\n",
              "                        <td id=\"T_d81fefa4_5562_11ec_a6cd_0242ac1c0002row14_col26\" class=\"data row14 col26\" >-0.035694</td>\n",
              "                        <td id=\"T_d81fefa4_5562_11ec_a6cd_0242ac1c0002row14_col27\" class=\"data row14 col27\" >nan</td>\n",
              "                        <td id=\"T_d81fefa4_5562_11ec_a6cd_0242ac1c0002row14_col28\" class=\"data row14 col28\" >-0.027262</td>\n",
              "                        <td id=\"T_d81fefa4_5562_11ec_a6cd_0242ac1c0002row14_col29\" class=\"data row14 col29\" >-0.008754</td>\n",
              "                        <td id=\"T_d81fefa4_5562_11ec_a6cd_0242ac1c0002row14_col30\" class=\"data row14 col30\" >0.076203</td>\n",
              "                        <td id=\"T_d81fefa4_5562_11ec_a6cd_0242ac1c0002row14_col31\" class=\"data row14 col31\" >-0.111341</td>\n",
              "                        <td id=\"T_d81fefa4_5562_11ec_a6cd_0242ac1c0002row14_col32\" class=\"data row14 col32\" >0.044475</td>\n",
              "            </tr>\n",
              "            <tr>\n",
              "                        <th id=\"T_d81fefa4_5562_11ec_a6cd_0242ac1c0002level0_row15\" class=\"row_heading level0 row15\" >total_acc</th>\n",
              "                        <td id=\"T_d81fefa4_5562_11ec_a6cd_0242ac1c0002row15_col0\" class=\"data row15 col0\" >0.031148</td>\n",
              "                        <td id=\"T_d81fefa4_5562_11ec_a6cd_0242ac1c0002row15_col1\" class=\"data row15 col1\" >0.031311</td>\n",
              "                        <td id=\"T_d81fefa4_5562_11ec_a6cd_0242ac1c0002row15_col2\" class=\"data row15 col2\" >0.222084</td>\n",
              "                        <td id=\"T_d81fefa4_5562_11ec_a6cd_0242ac1c0002row15_col3\" class=\"data row15 col3\" >0.222039</td>\n",
              "                        <td id=\"T_d81fefa4_5562_11ec_a6cd_0242ac1c0002row15_col4\" class=\"data row15 col4\" >0.222258</td>\n",
              "                        <td id=\"T_d81fefa4_5562_11ec_a6cd_0242ac1c0002row15_col5\" class=\"data row15 col5\" >-0.039482</td>\n",
              "                        <td id=\"T_d81fefa4_5562_11ec_a6cd_0242ac1c0002row15_col6\" class=\"data row15 col6\" >0.199872</td>\n",
              "                        <td id=\"T_d81fefa4_5562_11ec_a6cd_0242ac1c0002row15_col7\" class=\"data row15 col7\" >0.188651</td>\n",
              "                        <td id=\"T_d81fefa4_5562_11ec_a6cd_0242ac1c0002row15_col8\" class=\"data row15 col8\" >0.106266</td>\n",
              "                        <td id=\"T_d81fefa4_5562_11ec_a6cd_0242ac1c0002row15_col9\" class=\"data row15 col9\" >0.121978</td>\n",
              "                        <td id=\"T_d81fefa4_5562_11ec_a6cd_0242ac1c0002row15_col10\" class=\"data row15 col10\" >0.141854</td>\n",
              "                        <td id=\"T_d81fefa4_5562_11ec_a6cd_0242ac1c0002row15_col11\" class=\"data row15 col11\" >0.694850</td>\n",
              "                        <td id=\"T_d81fefa4_5562_11ec_a6cd_0242ac1c0002row15_col12\" class=\"data row15 col12\" >0.012300</td>\n",
              "                        <td id=\"T_d81fefa4_5562_11ec_a6cd_0242ac1c0002row15_col13\" class=\"data row15 col13\" >0.189322</td>\n",
              "                        <td id=\"T_d81fefa4_5562_11ec_a6cd_0242ac1c0002row15_col14\" class=\"data row15 col14\" >-0.114583</td>\n",
              "                        <td id=\"T_d81fefa4_5562_11ec_a6cd_0242ac1c0002row15_col15\" class=\"data row15 col15\" >1.000000</td>\n",
              "                        <td id=\"T_d81fefa4_5562_11ec_a6cd_0242ac1c0002row15_col16\" class=\"data row15 col16\" >0.135755</td>\n",
              "                        <td id=\"T_d81fefa4_5562_11ec_a6cd_0242ac1c0002row15_col17\" class=\"data row15 col17\" >0.135770</td>\n",
              "                        <td id=\"T_d81fefa4_5562_11ec_a6cd_0242ac1c0002row15_col18\" class=\"data row15 col18\" >0.110169</td>\n",
              "                        <td id=\"T_d81fefa4_5562_11ec_a6cd_0242ac1c0002row15_col19\" class=\"data row15 col19\" >0.110983</td>\n",
              "                        <td id=\"T_d81fefa4_5562_11ec_a6cd_0242ac1c0002row15_col20\" class=\"data row15 col20\" >0.101289</td>\n",
              "                        <td id=\"T_d81fefa4_5562_11ec_a6cd_0242ac1c0002row15_col21\" class=\"data row15 col21\" >0.091824</td>\n",
              "                        <td id=\"T_d81fefa4_5562_11ec_a6cd_0242ac1c0002row15_col22\" class=\"data row15 col22\" >-0.005655</td>\n",
              "                        <td id=\"T_d81fefa4_5562_11ec_a6cd_0242ac1c0002row15_col23\" class=\"data row15 col23\" >0.009670</td>\n",
              "                        <td id=\"T_d81fefa4_5562_11ec_a6cd_0242ac1c0002row15_col24\" class=\"data row15 col24\" >0.011048</td>\n",
              "                        <td id=\"T_d81fefa4_5562_11ec_a6cd_0242ac1c0002row15_col25\" class=\"data row15 col25\" >0.087729</td>\n",
              "                        <td id=\"T_d81fefa4_5562_11ec_a6cd_0242ac1c0002row15_col26\" class=\"data row15 col26\" >0.009184</td>\n",
              "                        <td id=\"T_d81fefa4_5562_11ec_a6cd_0242ac1c0002row15_col27\" class=\"data row15 col27\" >nan</td>\n",
              "                        <td id=\"T_d81fefa4_5562_11ec_a6cd_0242ac1c0002row15_col28\" class=\"data row15 col28\" >0.026633</td>\n",
              "                        <td id=\"T_d81fefa4_5562_11ec_a6cd_0242ac1c0002row15_col29\" class=\"data row15 col29\" >0.006215</td>\n",
              "                        <td id=\"T_d81fefa4_5562_11ec_a6cd_0242ac1c0002row15_col30\" class=\"data row15 col30\" >0.299308</td>\n",
              "                        <td id=\"T_d81fefa4_5562_11ec_a6cd_0242ac1c0002row15_col31\" class=\"data row15 col31\" >0.245578</td>\n",
              "                        <td id=\"T_d81fefa4_5562_11ec_a6cd_0242ac1c0002row15_col32\" class=\"data row15 col32\" >-0.021087</td>\n",
              "            </tr>\n",
              "            <tr>\n",
              "                        <th id=\"T_d81fefa4_5562_11ec_a6cd_0242ac1c0002level0_row16\" class=\"row_heading level0 row16\" >out_prncp</th>\n",
              "                        <td id=\"T_d81fefa4_5562_11ec_a6cd_0242ac1c0002row16_col0\" class=\"data row16 col0\" >0.561560</td>\n",
              "                        <td id=\"T_d81fefa4_5562_11ec_a6cd_0242ac1c0002row16_col1\" class=\"data row16 col1\" >0.561980</td>\n",
              "                        <td id=\"T_d81fefa4_5562_11ec_a6cd_0242ac1c0002row16_col2\" class=\"data row16 col2\" >0.639784</td>\n",
              "                        <td id=\"T_d81fefa4_5562_11ec_a6cd_0242ac1c0002row16_col3\" class=\"data row16 col3\" >0.641706</td>\n",
              "                        <td id=\"T_d81fefa4_5562_11ec_a6cd_0242ac1c0002row16_col4\" class=\"data row16 col4\" >0.644011</td>\n",
              "                        <td id=\"T_d81fefa4_5562_11ec_a6cd_0242ac1c0002row16_col5\" class=\"data row16 col5\" >0.033933</td>\n",
              "                        <td id=\"T_d81fefa4_5562_11ec_a6cd_0242ac1c0002row16_col6\" class=\"data row16 col6\" >0.539840</td>\n",
              "                        <td id=\"T_d81fefa4_5562_11ec_a6cd_0242ac1c0002row16_col7\" class=\"data row16 col7\" >0.211549</td>\n",
              "                        <td id=\"T_d81fefa4_5562_11ec_a6cd_0242ac1c0002row16_col8\" class=\"data row16 col8\" >0.058057</td>\n",
              "                        <td id=\"T_d81fefa4_5562_11ec_a6cd_0242ac1c0002row16_col9\" class=\"data row16 col9\" >0.030884</td>\n",
              "                        <td id=\"T_d81fefa4_5562_11ec_a6cd_0242ac1c0002row16_col10\" class=\"data row16 col10\" >-0.104062</td>\n",
              "                        <td id=\"T_d81fefa4_5562_11ec_a6cd_0242ac1c0002row16_col11\" class=\"data row16 col11\" >0.171050</td>\n",
              "                        <td id=\"T_d81fefa4_5562_11ec_a6cd_0242ac1c0002row16_col12\" class=\"data row16 col12\" >-0.007978</td>\n",
              "                        <td id=\"T_d81fefa4_5562_11ec_a6cd_0242ac1c0002row16_col13\" class=\"data row16 col13\" >0.236093</td>\n",
              "                        <td id=\"T_d81fefa4_5562_11ec_a6cd_0242ac1c0002row16_col14\" class=\"data row16 col14\" >0.074333</td>\n",
              "                        <td id=\"T_d81fefa4_5562_11ec_a6cd_0242ac1c0002row16_col15\" class=\"data row16 col15\" >0.135755</td>\n",
              "                        <td id=\"T_d81fefa4_5562_11ec_a6cd_0242ac1c0002row16_col16\" class=\"data row16 col16\" >1.000000</td>\n",
              "                        <td id=\"T_d81fefa4_5562_11ec_a6cd_0242ac1c0002row16_col17\" class=\"data row16 col17\" >0.999997</td>\n",
              "                        <td id=\"T_d81fefa4_5562_11ec_a6cd_0242ac1c0002row16_col18\" class=\"data row16 col18\" >-0.289173</td>\n",
              "                        <td id=\"T_d81fefa4_5562_11ec_a6cd_0242ac1c0002row16_col19\" class=\"data row16 col19\" >-0.286487</td>\n",
              "                        <td id=\"T_d81fefa4_5562_11ec_a6cd_0242ac1c0002row16_col20\" class=\"data row16 col20\" >-0.370627</td>\n",
              "                        <td id=\"T_d81fefa4_5562_11ec_a6cd_0242ac1c0002row16_col21\" class=\"data row16 col21\" >0.112191</td>\n",
              "                        <td id=\"T_d81fefa4_5562_11ec_a6cd_0242ac1c0002row16_col22\" class=\"data row16 col22\" >-0.046704</td>\n",
              "                        <td id=\"T_d81fefa4_5562_11ec_a6cd_0242ac1c0002row16_col23\" class=\"data row16 col23\" >-0.111595</td>\n",
              "                        <td id=\"T_d81fefa4_5562_11ec_a6cd_0242ac1c0002row16_col24\" class=\"data row16 col24\" >-0.077588</td>\n",
              "                        <td id=\"T_d81fefa4_5562_11ec_a6cd_0242ac1c0002row16_col25\" class=\"data row16 col25\" >-0.333641</td>\n",
              "                        <td id=\"T_d81fefa4_5562_11ec_a6cd_0242ac1c0002row16_col26\" class=\"data row16 col26\" >0.015659</td>\n",
              "                        <td id=\"T_d81fefa4_5562_11ec_a6cd_0242ac1c0002row16_col27\" class=\"data row16 col27\" >nan</td>\n",
              "                        <td id=\"T_d81fefa4_5562_11ec_a6cd_0242ac1c0002row16_col28\" class=\"data row16 col28\" >0.011834</td>\n",
              "                        <td id=\"T_d81fefa4_5562_11ec_a6cd_0242ac1c0002row16_col29\" class=\"data row16 col29\" >-0.000807</td>\n",
              "                        <td id=\"T_d81fefa4_5562_11ec_a6cd_0242ac1c0002row16_col30\" class=\"data row16 col30\" >0.199209</td>\n",
              "                        <td id=\"T_d81fefa4_5562_11ec_a6cd_0242ac1c0002row16_col31\" class=\"data row16 col31\" >0.212409</td>\n",
              "                        <td id=\"T_d81fefa4_5562_11ec_a6cd_0242ac1c0002row16_col32\" class=\"data row16 col32\" >-0.225960</td>\n",
              "            </tr>\n",
              "            <tr>\n",
              "                        <th id=\"T_d81fefa4_5562_11ec_a6cd_0242ac1c0002level0_row17\" class=\"row_heading level0 row17\" >out_prncp_inv</th>\n",
              "                        <td id=\"T_d81fefa4_5562_11ec_a6cd_0242ac1c0002row17_col0\" class=\"data row17 col0\" >0.561523</td>\n",
              "                        <td id=\"T_d81fefa4_5562_11ec_a6cd_0242ac1c0002row17_col1\" class=\"data row17 col1\" >0.561943</td>\n",
              "                        <td id=\"T_d81fefa4_5562_11ec_a6cd_0242ac1c0002row17_col2\" class=\"data row17 col2\" >0.639786</td>\n",
              "                        <td id=\"T_d81fefa4_5562_11ec_a6cd_0242ac1c0002row17_col3\" class=\"data row17 col3\" >0.641709</td>\n",
              "                        <td id=\"T_d81fefa4_5562_11ec_a6cd_0242ac1c0002row17_col4\" class=\"data row17 col4\" >0.644023</td>\n",
              "                        <td id=\"T_d81fefa4_5562_11ec_a6cd_0242ac1c0002row17_col5\" class=\"data row17 col5\" >0.033790</td>\n",
              "                        <td id=\"T_d81fefa4_5562_11ec_a6cd_0242ac1c0002row17_col6\" class=\"data row17 col6\" >0.539835</td>\n",
              "                        <td id=\"T_d81fefa4_5562_11ec_a6cd_0242ac1c0002row17_col7\" class=\"data row17 col7\" >0.211591</td>\n",
              "                        <td id=\"T_d81fefa4_5562_11ec_a6cd_0242ac1c0002row17_col8\" class=\"data row17 col8\" >0.058021</td>\n",
              "                        <td id=\"T_d81fefa4_5562_11ec_a6cd_0242ac1c0002row17_col9\" class=\"data row17 col9\" >0.030874</td>\n",
              "                        <td id=\"T_d81fefa4_5562_11ec_a6cd_0242ac1c0002row17_col10\" class=\"data row17 col10\" >-0.104083</td>\n",
              "                        <td id=\"T_d81fefa4_5562_11ec_a6cd_0242ac1c0002row17_col11\" class=\"data row17 col11\" >0.171053</td>\n",
              "                        <td id=\"T_d81fefa4_5562_11ec_a6cd_0242ac1c0002row17_col12\" class=\"data row17 col12\" >-0.007976</td>\n",
              "                        <td id=\"T_d81fefa4_5562_11ec_a6cd_0242ac1c0002row17_col13\" class=\"data row17 col13\" >0.236100</td>\n",
              "                        <td id=\"T_d81fefa4_5562_11ec_a6cd_0242ac1c0002row17_col14\" class=\"data row17 col14\" >0.074282</td>\n",
              "                        <td id=\"T_d81fefa4_5562_11ec_a6cd_0242ac1c0002row17_col15\" class=\"data row17 col15\" >0.135770</td>\n",
              "                        <td id=\"T_d81fefa4_5562_11ec_a6cd_0242ac1c0002row17_col16\" class=\"data row17 col16\" >0.999997</td>\n",
              "                        <td id=\"T_d81fefa4_5562_11ec_a6cd_0242ac1c0002row17_col17\" class=\"data row17 col17\" >1.000000</td>\n",
              "                        <td id=\"T_d81fefa4_5562_11ec_a6cd_0242ac1c0002row17_col18\" class=\"data row17 col18\" >-0.289164</td>\n",
              "                        <td id=\"T_d81fefa4_5562_11ec_a6cd_0242ac1c0002row17_col19\" class=\"data row17 col19\" >-0.286472</td>\n",
              "                        <td id=\"T_d81fefa4_5562_11ec_a6cd_0242ac1c0002row17_col20\" class=\"data row17 col20\" >-0.370620</td>\n",
              "                        <td id=\"T_d81fefa4_5562_11ec_a6cd_0242ac1c0002row17_col21\" class=\"data row17 col21\" >0.112205</td>\n",
              "                        <td id=\"T_d81fefa4_5562_11ec_a6cd_0242ac1c0002row17_col22\" class=\"data row17 col22\" >-0.046707</td>\n",
              "                        <td id=\"T_d81fefa4_5562_11ec_a6cd_0242ac1c0002row17_col23\" class=\"data row17 col23\" >-0.111595</td>\n",
              "                        <td id=\"T_d81fefa4_5562_11ec_a6cd_0242ac1c0002row17_col24\" class=\"data row17 col24\" >-0.077588</td>\n",
              "                        <td id=\"T_d81fefa4_5562_11ec_a6cd_0242ac1c0002row17_col25\" class=\"data row17 col25\" >-0.333641</td>\n",
              "                        <td id=\"T_d81fefa4_5562_11ec_a6cd_0242ac1c0002row17_col26\" class=\"data row17 col26\" >0.015644</td>\n",
              "                        <td id=\"T_d81fefa4_5562_11ec_a6cd_0242ac1c0002row17_col27\" class=\"data row17 col27\" >nan</td>\n",
              "                        <td id=\"T_d81fefa4_5562_11ec_a6cd_0242ac1c0002row17_col28\" class=\"data row17 col28\" >0.011824</td>\n",
              "                        <td id=\"T_d81fefa4_5562_11ec_a6cd_0242ac1c0002row17_col29\" class=\"data row17 col29\" >-0.000807</td>\n",
              "                        <td id=\"T_d81fefa4_5562_11ec_a6cd_0242ac1c0002row17_col30\" class=\"data row17 col30\" >0.199239</td>\n",
              "                        <td id=\"T_d81fefa4_5562_11ec_a6cd_0242ac1c0002row17_col31\" class=\"data row17 col31\" >0.212449</td>\n",
              "                        <td id=\"T_d81fefa4_5562_11ec_a6cd_0242ac1c0002row17_col32\" class=\"data row17 col32\" >-0.225959</td>\n",
              "            </tr>\n",
              "            <tr>\n",
              "                        <th id=\"T_d81fefa4_5562_11ec_a6cd_0242ac1c0002level0_row18\" class=\"row_heading level0 row18\" >total_pymnt</th>\n",
              "                        <td id=\"T_d81fefa4_5562_11ec_a6cd_0242ac1c0002row18_col0\" class=\"data row18 col0\" >-0.593428</td>\n",
              "                        <td id=\"T_d81fefa4_5562_11ec_a6cd_0242ac1c0002row18_col1\" class=\"data row18 col1\" >-0.592951</td>\n",
              "                        <td id=\"T_d81fefa4_5562_11ec_a6cd_0242ac1c0002row18_col2\" class=\"data row18 col2\" >0.479612</td>\n",
              "                        <td id=\"T_d81fefa4_5562_11ec_a6cd_0242ac1c0002row18_col3\" class=\"data row18 col3\" >0.478290</td>\n",
              "                        <td id=\"T_d81fefa4_5562_11ec_a6cd_0242ac1c0002row18_col4\" class=\"data row18 col4\" >0.474600</td>\n",
              "                        <td id=\"T_d81fefa4_5562_11ec_a6cd_0242ac1c0002row18_col5\" class=\"data row18 col5\" >0.173387</td>\n",
              "                        <td id=\"T_d81fefa4_5562_11ec_a6cd_0242ac1c0002row18_col6\" class=\"data row18 col6\" >0.520613</td>\n",
              "                        <td id=\"T_d81fefa4_5562_11ec_a6cd_0242ac1c0002row18_col7\" class=\"data row18 col7\" >0.163226</td>\n",
              "                        <td id=\"T_d81fefa4_5562_11ec_a6cd_0242ac1c0002row18_col8\" class=\"data row18 col8\" >-0.040537</td>\n",
              "                        <td id=\"T_d81fefa4_5562_11ec_a6cd_0242ac1c0002row18_col9\" class=\"data row18 col9\" >-0.031777</td>\n",
              "                        <td id=\"T_d81fefa4_5562_11ec_a6cd_0242ac1c0002row18_col10\" class=\"data row18 col10\" >0.080476</td>\n",
              "                        <td id=\"T_d81fefa4_5562_11ec_a6cd_0242ac1c0002row18_col11\" class=\"data row18 col11\" >0.043452</td>\n",
              "                        <td id=\"T_d81fefa4_5562_11ec_a6cd_0242ac1c0002row18_col12\" class=\"data row18 col12\" >-0.087933</td>\n",
              "                        <td id=\"T_d81fefa4_5562_11ec_a6cd_0242ac1c0002row18_col13\" class=\"data row18 col13\" >0.139161</td>\n",
              "                        <td id=\"T_d81fefa4_5562_11ec_a6cd_0242ac1c0002row18_col14\" class=\"data row18 col14\" >0.080923</td>\n",
              "                        <td id=\"T_d81fefa4_5562_11ec_a6cd_0242ac1c0002row18_col15\" class=\"data row18 col15\" >0.110169</td>\n",
              "                        <td id=\"T_d81fefa4_5562_11ec_a6cd_0242ac1c0002row18_col16\" class=\"data row18 col16\" >-0.289173</td>\n",
              "                        <td id=\"T_d81fefa4_5562_11ec_a6cd_0242ac1c0002row18_col17\" class=\"data row18 col17\" >-0.289164</td>\n",
              "                        <td id=\"T_d81fefa4_5562_11ec_a6cd_0242ac1c0002row18_col18\" class=\"data row18 col18\" >1.000000</td>\n",
              "                        <td id=\"T_d81fefa4_5562_11ec_a6cd_0242ac1c0002row18_col19\" class=\"data row18 col19\" >0.998121</td>\n",
              "                        <td id=\"T_d81fefa4_5562_11ec_a6cd_0242ac1c0002row18_col20\" class=\"data row18 col20\" >0.970594</td>\n",
              "                        <td id=\"T_d81fefa4_5562_11ec_a6cd_0242ac1c0002row18_col21\" class=\"data row18 col21\" >0.679127</td>\n",
              "                        <td id=\"T_d81fefa4_5562_11ec_a6cd_0242ac1c0002row18_col22\" class=\"data row18 col22\" >0.054403</td>\n",
              "                        <td id=\"T_d81fefa4_5562_11ec_a6cd_0242ac1c0002row18_col23\" class=\"data row18 col23\" >0.037201</td>\n",
              "                        <td id=\"T_d81fefa4_5562_11ec_a6cd_0242ac1c0002row18_col24\" class=\"data row18 col24\" >0.035844</td>\n",
              "                        <td id=\"T_d81fefa4_5562_11ec_a6cd_0242ac1c0002row18_col25\" class=\"data row18 col25\" >0.662738</td>\n",
              "                        <td id=\"T_d81fefa4_5562_11ec_a6cd_0242ac1c0002row18_col26\" class=\"data row18 col26\" >-0.038617</td>\n",
              "                        <td id=\"T_d81fefa4_5562_11ec_a6cd_0242ac1c0002row18_col27\" class=\"data row18 col27\" >nan</td>\n",
              "                        <td id=\"T_d81fefa4_5562_11ec_a6cd_0242ac1c0002row18_col28\" class=\"data row18 col28\" >-0.008220</td>\n",
              "                        <td id=\"T_d81fefa4_5562_11ec_a6cd_0242ac1c0002row18_col29\" class=\"data row18 col29\" >-0.003881</td>\n",
              "                        <td id=\"T_d81fefa4_5562_11ec_a6cd_0242ac1c0002row18_col30\" class=\"data row18 col30\" >0.156333</td>\n",
              "                        <td id=\"T_d81fefa4_5562_11ec_a6cd_0242ac1c0002row18_col31\" class=\"data row18 col31\" >0.111364</td>\n",
              "                        <td id=\"T_d81fefa4_5562_11ec_a6cd_0242ac1c0002row18_col32\" class=\"data row18 col32\" >-0.039220</td>\n",
              "            </tr>\n",
              "            <tr>\n",
              "                        <th id=\"T_d81fefa4_5562_11ec_a6cd_0242ac1c0002level0_row19\" class=\"row_heading level0 row19\" >total_pymnt_inv</th>\n",
              "                        <td id=\"T_d81fefa4_5562_11ec_a6cd_0242ac1c0002row19_col0\" class=\"data row19 col0\" >-0.589995</td>\n",
              "                        <td id=\"T_d81fefa4_5562_11ec_a6cd_0242ac1c0002row19_col1\" class=\"data row19 col1\" >-0.589419</td>\n",
              "                        <td id=\"T_d81fefa4_5562_11ec_a6cd_0242ac1c0002row19_col2\" class=\"data row19 col2\" >0.480328</td>\n",
              "                        <td id=\"T_d81fefa4_5562_11ec_a6cd_0242ac1c0002row19_col3\" class=\"data row19 col3\" >0.479172</td>\n",
              "                        <td id=\"T_d81fefa4_5562_11ec_a6cd_0242ac1c0002row19_col4\" class=\"data row19 col4\" >0.478589</td>\n",
              "                        <td id=\"T_d81fefa4_5562_11ec_a6cd_0242ac1c0002row19_col5\" class=\"data row19 col5\" >0.174453</td>\n",
              "                        <td id=\"T_d81fefa4_5562_11ec_a6cd_0242ac1c0002row19_col6\" class=\"data row19 col6\" >0.521332</td>\n",
              "                        <td id=\"T_d81fefa4_5562_11ec_a6cd_0242ac1c0002row19_col7\" class=\"data row19 col7\" >0.163275</td>\n",
              "                        <td id=\"T_d81fefa4_5562_11ec_a6cd_0242ac1c0002row19_col8\" class=\"data row19 col8\" >-0.039563</td>\n",
              "                        <td id=\"T_d81fefa4_5562_11ec_a6cd_0242ac1c0002row19_col9\" class=\"data row19 col9\" >-0.031346</td>\n",
              "                        <td id=\"T_d81fefa4_5562_11ec_a6cd_0242ac1c0002row19_col10\" class=\"data row19 col10\" >0.079531</td>\n",
              "                        <td id=\"T_d81fefa4_5562_11ec_a6cd_0242ac1c0002row19_col11\" class=\"data row19 col11\" >0.044552</td>\n",
              "                        <td id=\"T_d81fefa4_5562_11ec_a6cd_0242ac1c0002row19_col12\" class=\"data row19 col12\" >-0.087299</td>\n",
              "                        <td id=\"T_d81fefa4_5562_11ec_a6cd_0242ac1c0002row19_col13\" class=\"data row19 col13\" >0.139355</td>\n",
              "                        <td id=\"T_d81fefa4_5562_11ec_a6cd_0242ac1c0002row19_col14\" class=\"data row19 col14\" >0.082158</td>\n",
              "                        <td id=\"T_d81fefa4_5562_11ec_a6cd_0242ac1c0002row19_col15\" class=\"data row19 col15\" >0.110983</td>\n",
              "                        <td id=\"T_d81fefa4_5562_11ec_a6cd_0242ac1c0002row19_col16\" class=\"data row19 col16\" >-0.286487</td>\n",
              "                        <td id=\"T_d81fefa4_5562_11ec_a6cd_0242ac1c0002row19_col17\" class=\"data row19 col17\" >-0.286472</td>\n",
              "                        <td id=\"T_d81fefa4_5562_11ec_a6cd_0242ac1c0002row19_col18\" class=\"data row19 col18\" >0.998121</td>\n",
              "                        <td id=\"T_d81fefa4_5562_11ec_a6cd_0242ac1c0002row19_col19\" class=\"data row19 col19\" >1.000000</td>\n",
              "                        <td id=\"T_d81fefa4_5562_11ec_a6cd_0242ac1c0002row19_col20\" class=\"data row19 col20\" >0.968608</td>\n",
              "                        <td id=\"T_d81fefa4_5562_11ec_a6cd_0242ac1c0002row19_col21\" class=\"data row19 col21\" >0.678519</td>\n",
              "                        <td id=\"T_d81fefa4_5562_11ec_a6cd_0242ac1c0002row19_col22\" class=\"data row19 col22\" >0.052077</td>\n",
              "                        <td id=\"T_d81fefa4_5562_11ec_a6cd_0242ac1c0002row19_col23\" class=\"data row19 col23\" >0.036396</td>\n",
              "                        <td id=\"T_d81fefa4_5562_11ec_a6cd_0242ac1c0002row19_col24\" class=\"data row19 col24\" >0.034366</td>\n",
              "                        <td id=\"T_d81fefa4_5562_11ec_a6cd_0242ac1c0002row19_col25\" class=\"data row19 col25\" >0.663272</td>\n",
              "                        <td id=\"T_d81fefa4_5562_11ec_a6cd_0242ac1c0002row19_col26\" class=\"data row19 col26\" >-0.038344</td>\n",
              "                        <td id=\"T_d81fefa4_5562_11ec_a6cd_0242ac1c0002row19_col27\" class=\"data row19 col27\" >nan</td>\n",
              "                        <td id=\"T_d81fefa4_5562_11ec_a6cd_0242ac1c0002row19_col28\" class=\"data row19 col28\" >-0.008021</td>\n",
              "                        <td id=\"T_d81fefa4_5562_11ec_a6cd_0242ac1c0002row19_col29\" class=\"data row19 col29\" >-0.003890</td>\n",
              "                        <td id=\"T_d81fefa4_5562_11ec_a6cd_0242ac1c0002row19_col30\" class=\"data row19 col30\" >0.156746</td>\n",
              "                        <td id=\"T_d81fefa4_5562_11ec_a6cd_0242ac1c0002row19_col31\" class=\"data row19 col31\" >0.111658</td>\n",
              "                        <td id=\"T_d81fefa4_5562_11ec_a6cd_0242ac1c0002row19_col32\" class=\"data row19 col32\" >-0.040232</td>\n",
              "            </tr>\n",
              "            <tr>\n",
              "                        <th id=\"T_d81fefa4_5562_11ec_a6cd_0242ac1c0002level0_row20\" class=\"row_heading level0 row20\" >total_rec_prncp</th>\n",
              "                        <td id=\"T_d81fefa4_5562_11ec_a6cd_0242ac1c0002row20_col0\" class=\"data row20 col0\" >-0.553231</td>\n",
              "                        <td id=\"T_d81fefa4_5562_11ec_a6cd_0242ac1c0002row20_col1\" class=\"data row20 col1\" >-0.552938</td>\n",
              "                        <td id=\"T_d81fefa4_5562_11ec_a6cd_0242ac1c0002row20_col2\" class=\"data row20 col2\" >0.395880</td>\n",
              "                        <td id=\"T_d81fefa4_5562_11ec_a6cd_0242ac1c0002row20_col3\" class=\"data row20 col3\" >0.394669</td>\n",
              "                        <td id=\"T_d81fefa4_5562_11ec_a6cd_0242ac1c0002row20_col4\" class=\"data row20 col4\" >0.391010</td>\n",
              "                        <td id=\"T_d81fefa4_5562_11ec_a6cd_0242ac1c0002row20_col5\" class=\"data row20 col5\" >0.059298</td>\n",
              "                        <td id=\"T_d81fefa4_5562_11ec_a6cd_0242ac1c0002row20_col6\" class=\"data row20 col6\" >0.455444</td>\n",
              "                        <td id=\"T_d81fefa4_5562_11ec_a6cd_0242ac1c0002row20_col7\" class=\"data row20 col7\" >0.152245</td>\n",
              "                        <td id=\"T_d81fefa4_5562_11ec_a6cd_0242ac1c0002row20_col8\" class=\"data row20 col8\" >-0.050855</td>\n",
              "                        <td id=\"T_d81fefa4_5562_11ec_a6cd_0242ac1c0002row20_col9\" class=\"data row20 col9\" >-0.038068</td>\n",
              "                        <td id=\"T_d81fefa4_5562_11ec_a6cd_0242ac1c0002row20_col10\" class=\"data row20 col10\" >0.065010</td>\n",
              "                        <td id=\"T_d81fefa4_5562_11ec_a6cd_0242ac1c0002row20_col11\" class=\"data row20 col11\" >0.032115</td>\n",
              "                        <td id=\"T_d81fefa4_5562_11ec_a6cd_0242ac1c0002row20_col12\" class=\"data row20 col12\" >-0.084596</td>\n",
              "                        <td id=\"T_d81fefa4_5562_11ec_a6cd_0242ac1c0002row20_col13\" class=\"data row20 col13\" >0.120577</td>\n",
              "                        <td id=\"T_d81fefa4_5562_11ec_a6cd_0242ac1c0002row20_col14\" class=\"data row20 col14\" >0.036746</td>\n",
              "                        <td id=\"T_d81fefa4_5562_11ec_a6cd_0242ac1c0002row20_col15\" class=\"data row20 col15\" >0.101289</td>\n",
              "                        <td id=\"T_d81fefa4_5562_11ec_a6cd_0242ac1c0002row20_col16\" class=\"data row20 col16\" >-0.370627</td>\n",
              "                        <td id=\"T_d81fefa4_5562_11ec_a6cd_0242ac1c0002row20_col17\" class=\"data row20 col17\" >-0.370620</td>\n",
              "                        <td id=\"T_d81fefa4_5562_11ec_a6cd_0242ac1c0002row20_col18\" class=\"data row20 col18\" >0.970594</td>\n",
              "                        <td id=\"T_d81fefa4_5562_11ec_a6cd_0242ac1c0002row20_col19\" class=\"data row20 col19\" >0.968608</td>\n",
              "                        <td id=\"T_d81fefa4_5562_11ec_a6cd_0242ac1c0002row20_col20\" class=\"data row20 col20\" >1.000000</td>\n",
              "                        <td id=\"T_d81fefa4_5562_11ec_a6cd_0242ac1c0002row20_col21\" class=\"data row20 col21\" >0.488377</td>\n",
              "                        <td id=\"T_d81fefa4_5562_11ec_a6cd_0242ac1c0002row20_col22\" class=\"data row20 col22\" >0.033519</td>\n",
              "                        <td id=\"T_d81fefa4_5562_11ec_a6cd_0242ac1c0002row20_col23\" class=\"data row20 col23\" >-0.039655</td>\n",
              "                        <td id=\"T_d81fefa4_5562_11ec_a6cd_0242ac1c0002row20_col24\" class=\"data row20 col24\" >-0.024295</td>\n",
              "                        <td id=\"T_d81fefa4_5562_11ec_a6cd_0242ac1c0002row20_col25\" class=\"data row20 col25\" >0.744494</td>\n",
              "                        <td id=\"T_d81fefa4_5562_11ec_a6cd_0242ac1c0002row20_col26\" class=\"data row20 col26\" >-0.037766</td>\n",
              "                        <td id=\"T_d81fefa4_5562_11ec_a6cd_0242ac1c0002row20_col27\" class=\"data row20 col27\" >nan</td>\n",
              "                        <td id=\"T_d81fefa4_5562_11ec_a6cd_0242ac1c0002row20_col28\" class=\"data row20 col28\" >-0.010486</td>\n",
              "                        <td id=\"T_d81fefa4_5562_11ec_a6cd_0242ac1c0002row20_col29\" class=\"data row20 col29\" >-0.003527</td>\n",
              "                        <td id=\"T_d81fefa4_5562_11ec_a6cd_0242ac1c0002row20_col30\" class=\"data row20 col30\" >0.146599</td>\n",
              "                        <td id=\"T_d81fefa4_5562_11ec_a6cd_0242ac1c0002row20_col31\" class=\"data row20 col31\" >0.110793</td>\n",
              "                        <td id=\"T_d81fefa4_5562_11ec_a6cd_0242ac1c0002row20_col32\" class=\"data row20 col32\" >-0.090336</td>\n",
              "            </tr>\n",
              "            <tr>\n",
              "                        <th id=\"T_d81fefa4_5562_11ec_a6cd_0242ac1c0002level0_row21\" class=\"row_heading level0 row21\" >total_rec_int</th>\n",
              "                        <td id=\"T_d81fefa4_5562_11ec_a6cd_0242ac1c0002row21_col0\" class=\"data row21 col0\" >-0.457397</td>\n",
              "                        <td id=\"T_d81fefa4_5562_11ec_a6cd_0242ac1c0002row21_col1\" class=\"data row21 col1\" >-0.456508</td>\n",
              "                        <td id=\"T_d81fefa4_5562_11ec_a6cd_0242ac1c0002row21_col2\" class=\"data row21 col2\" >0.537586</td>\n",
              "                        <td id=\"T_d81fefa4_5562_11ec_a6cd_0242ac1c0002row21_col3\" class=\"data row21 col3\" >0.536533</td>\n",
              "                        <td id=\"T_d81fefa4_5562_11ec_a6cd_0242ac1c0002row21_col4\" class=\"data row21 col4\" >0.534517</td>\n",
              "                        <td id=\"T_d81fefa4_5562_11ec_a6cd_0242ac1c0002row21_col5\" class=\"data row21 col5\" >0.446517</td>\n",
              "                        <td id=\"T_d81fefa4_5562_11ec_a6cd_0242ac1c0002row21_col6\" class=\"data row21 col6\" >0.502038</td>\n",
              "                        <td id=\"T_d81fefa4_5562_11ec_a6cd_0242ac1c0002row21_col7\" class=\"data row21 col7\" >0.130367</td>\n",
              "                        <td id=\"T_d81fefa4_5562_11ec_a6cd_0242ac1c0002row21_col8\" class=\"data row21 col8\" >0.008750</td>\n",
              "                        <td id=\"T_d81fefa4_5562_11ec_a6cd_0242ac1c0002row21_col9\" class=\"data row21 col9\" >0.001380</td>\n",
              "                        <td id=\"T_d81fefa4_5562_11ec_a6cd_0242ac1c0002row21_col10\" class=\"data row21 col10\" >0.088495</td>\n",
              "                        <td id=\"T_d81fefa4_5562_11ec_a6cd_0242ac1c0002row21_col11\" class=\"data row21 col11\" >0.061725</td>\n",
              "                        <td id=\"T_d81fefa4_5562_11ec_a6cd_0242ac1c0002row21_col12\" class=\"data row21 col12\" >-0.059868</td>\n",
              "                        <td id=\"T_d81fefa4_5562_11ec_a6cd_0242ac1c0002row21_col13\" class=\"data row21 col13\" >0.139872</td>\n",
              "                        <td id=\"T_d81fefa4_5562_11ec_a6cd_0242ac1c0002row21_col14\" class=\"data row21 col14\" >0.183708</td>\n",
              "                        <td id=\"T_d81fefa4_5562_11ec_a6cd_0242ac1c0002row21_col15\" class=\"data row21 col15\" >0.091824</td>\n",
              "                        <td id=\"T_d81fefa4_5562_11ec_a6cd_0242ac1c0002row21_col16\" class=\"data row21 col16\" >0.112191</td>\n",
              "                        <td id=\"T_d81fefa4_5562_11ec_a6cd_0242ac1c0002row21_col17\" class=\"data row21 col17\" >0.112205</td>\n",
              "                        <td id=\"T_d81fefa4_5562_11ec_a6cd_0242ac1c0002row21_col18\" class=\"data row21 col18\" >0.679127</td>\n",
              "                        <td id=\"T_d81fefa4_5562_11ec_a6cd_0242ac1c0002row21_col19\" class=\"data row21 col19\" >0.678519</td>\n",
              "                        <td id=\"T_d81fefa4_5562_11ec_a6cd_0242ac1c0002row21_col20\" class=\"data row21 col20\" >0.488377</td>\n",
              "                        <td id=\"T_d81fefa4_5562_11ec_a6cd_0242ac1c0002row21_col21\" class=\"data row21 col21\" >1.000000</td>\n",
              "                        <td id=\"T_d81fefa4_5562_11ec_a6cd_0242ac1c0002row21_col22\" class=\"data row21 col22\" >0.080459</td>\n",
              "                        <td id=\"T_d81fefa4_5562_11ec_a6cd_0242ac1c0002row21_col23\" class=\"data row21 col23\" >0.069917</td>\n",
              "                        <td id=\"T_d81fefa4_5562_11ec_a6cd_0242ac1c0002row21_col24\" class=\"data row21 col24\" >0.054602</td>\n",
              "                        <td id=\"T_d81fefa4_5562_11ec_a6cd_0242ac1c0002row21_col25\" class=\"data row21 col25\" >0.137991</td>\n",
              "                        <td id=\"T_d81fefa4_5562_11ec_a6cd_0242ac1c0002row21_col26\" class=\"data row21 col26\" >-0.024667</td>\n",
              "                        <td id=\"T_d81fefa4_5562_11ec_a6cd_0242ac1c0002row21_col27\" class=\"data row21 col27\" >nan</td>\n",
              "                        <td id=\"T_d81fefa4_5562_11ec_a6cd_0242ac1c0002row21_col28\" class=\"data row21 col28\" >0.002220</td>\n",
              "                        <td id=\"T_d81fefa4_5562_11ec_a6cd_0242ac1c0002row21_col29\" class=\"data row21 col29\" >-0.003272</td>\n",
              "                        <td id=\"T_d81fefa4_5562_11ec_a6cd_0242ac1c0002row21_col30\" class=\"data row21 col30\" >0.123088</td>\n",
              "                        <td id=\"T_d81fefa4_5562_11ec_a6cd_0242ac1c0002row21_col31\" class=\"data row21 col31\" >0.067830</td>\n",
              "                        <td id=\"T_d81fefa4_5562_11ec_a6cd_0242ac1c0002row21_col32\" class=\"data row21 col32\" >0.046050</td>\n",
              "            </tr>\n",
              "            <tr>\n",
              "                        <th id=\"T_d81fefa4_5562_11ec_a6cd_0242ac1c0002level0_row22\" class=\"row_heading level0 row22\" >total_rec_late_fee</th>\n",
              "                        <td id=\"T_d81fefa4_5562_11ec_a6cd_0242ac1c0002row22_col0\" class=\"data row22 col0\" >-0.075917</td>\n",
              "                        <td id=\"T_d81fefa4_5562_11ec_a6cd_0242ac1c0002row22_col1\" class=\"data row22 col1\" >-0.076341</td>\n",
              "                        <td id=\"T_d81fefa4_5562_11ec_a6cd_0242ac1c0002row22_col2\" class=\"data row22 col2\" >0.025966</td>\n",
              "                        <td id=\"T_d81fefa4_5562_11ec_a6cd_0242ac1c0002row22_col3\" class=\"data row22 col3\" >0.025579</td>\n",
              "                        <td id=\"T_d81fefa4_5562_11ec_a6cd_0242ac1c0002row22_col4\" class=\"data row22 col4\" >0.023091</td>\n",
              "                        <td id=\"T_d81fefa4_5562_11ec_a6cd_0242ac1c0002row22_col5\" class=\"data row22 col5\" >0.050743</td>\n",
              "                        <td id=\"T_d81fefa4_5562_11ec_a6cd_0242ac1c0002row22_col6\" class=\"data row22 col6\" >0.035728</td>\n",
              "                        <td id=\"T_d81fefa4_5562_11ec_a6cd_0242ac1c0002row22_col7\" class=\"data row22 col7\" >0.009864</td>\n",
              "                        <td id=\"T_d81fefa4_5562_11ec_a6cd_0242ac1c0002row22_col8\" class=\"data row22 col8\" >-0.006245</td>\n",
              "                        <td id=\"T_d81fefa4_5562_11ec_a6cd_0242ac1c0002row22_col9\" class=\"data row22 col9\" >0.013992</td>\n",
              "                        <td id=\"T_d81fefa4_5562_11ec_a6cd_0242ac1c0002row22_col10\" class=\"data row22 col10\" >0.022820</td>\n",
              "                        <td id=\"T_d81fefa4_5562_11ec_a6cd_0242ac1c0002row22_col11\" class=\"data row22 col11\" >-0.009957</td>\n",
              "                        <td id=\"T_d81fefa4_5562_11ec_a6cd_0242ac1c0002row22_col12\" class=\"data row22 col12\" >-0.011871</td>\n",
              "                        <td id=\"T_d81fefa4_5562_11ec_a6cd_0242ac1c0002row22_col13\" class=\"data row22 col13\" >-0.000166</td>\n",
              "                        <td id=\"T_d81fefa4_5562_11ec_a6cd_0242ac1c0002row22_col14\" class=\"data row22 col14\" >0.019436</td>\n",
              "                        <td id=\"T_d81fefa4_5562_11ec_a6cd_0242ac1c0002row22_col15\" class=\"data row22 col15\" >-0.005655</td>\n",
              "                        <td id=\"T_d81fefa4_5562_11ec_a6cd_0242ac1c0002row22_col16\" class=\"data row22 col16\" >-0.046704</td>\n",
              "                        <td id=\"T_d81fefa4_5562_11ec_a6cd_0242ac1c0002row22_col17\" class=\"data row22 col17\" >-0.046707</td>\n",
              "                        <td id=\"T_d81fefa4_5562_11ec_a6cd_0242ac1c0002row22_col18\" class=\"data row22 col18\" >0.054403</td>\n",
              "                        <td id=\"T_d81fefa4_5562_11ec_a6cd_0242ac1c0002row22_col19\" class=\"data row22 col19\" >0.052077</td>\n",
              "                        <td id=\"T_d81fefa4_5562_11ec_a6cd_0242ac1c0002row22_col20\" class=\"data row22 col20\" >0.033519</td>\n",
              "                        <td id=\"T_d81fefa4_5562_11ec_a6cd_0242ac1c0002row22_col21\" class=\"data row22 col21\" >0.080459</td>\n",
              "                        <td id=\"T_d81fefa4_5562_11ec_a6cd_0242ac1c0002row22_col22\" class=\"data row22 col22\" >1.000000</td>\n",
              "                        <td id=\"T_d81fefa4_5562_11ec_a6cd_0242ac1c0002row22_col23\" class=\"data row22 col23\" >0.085700</td>\n",
              "                        <td id=\"T_d81fefa4_5562_11ec_a6cd_0242ac1c0002row22_col24\" class=\"data row22 col24\" >0.078744</td>\n",
              "                        <td id=\"T_d81fefa4_5562_11ec_a6cd_0242ac1c0002row22_col25\" class=\"data row22 col25\" >-0.009496</td>\n",
              "                        <td id=\"T_d81fefa4_5562_11ec_a6cd_0242ac1c0002row22_col26\" class=\"data row22 col26\" >-0.003836</td>\n",
              "                        <td id=\"T_d81fefa4_5562_11ec_a6cd_0242ac1c0002row22_col27\" class=\"data row22 col27\" >nan</td>\n",
              "                        <td id=\"T_d81fefa4_5562_11ec_a6cd_0242ac1c0002row22_col28\" class=\"data row22 col28\" >0.002229</td>\n",
              "                        <td id=\"T_d81fefa4_5562_11ec_a6cd_0242ac1c0002row22_col29\" class=\"data row22 col29\" >-0.000503</td>\n",
              "                        <td id=\"T_d81fefa4_5562_11ec_a6cd_0242ac1c0002row22_col30\" class=\"data row22 col30\" >0.007498</td>\n",
              "                        <td id=\"T_d81fefa4_5562_11ec_a6cd_0242ac1c0002row22_col31\" class=\"data row22 col31\" >-0.004708</td>\n",
              "                        <td id=\"T_d81fefa4_5562_11ec_a6cd_0242ac1c0002row22_col32\" class=\"data row22 col32\" >0.140760</td>\n",
              "            </tr>\n",
              "            <tr>\n",
              "                        <th id=\"T_d81fefa4_5562_11ec_a6cd_0242ac1c0002level0_row23\" class=\"row_heading level0 row23\" >recoveries</th>\n",
              "                        <td id=\"T_d81fefa4_5562_11ec_a6cd_0242ac1c0002row23_col0\" class=\"data row23 col0\" >-0.115269</td>\n",
              "                        <td id=\"T_d81fefa4_5562_11ec_a6cd_0242ac1c0002row23_col1\" class=\"data row23 col1\" >-0.115341</td>\n",
              "                        <td id=\"T_d81fefa4_5562_11ec_a6cd_0242ac1c0002row23_col2\" class=\"data row23 col2\" >0.075513</td>\n",
              "                        <td id=\"T_d81fefa4_5562_11ec_a6cd_0242ac1c0002row23_col3\" class=\"data row23 col3\" >0.075076</td>\n",
              "                        <td id=\"T_d81fefa4_5562_11ec_a6cd_0242ac1c0002row23_col4\" class=\"data row23 col4\" >0.073737</td>\n",
              "                        <td id=\"T_d81fefa4_5562_11ec_a6cd_0242ac1c0002row23_col5\" class=\"data row23 col5\" >0.110848</td>\n",
              "                        <td id=\"T_d81fefa4_5562_11ec_a6cd_0242ac1c0002row23_col6\" class=\"data row23 col6\" >0.076931</td>\n",
              "                        <td id=\"T_d81fefa4_5562_11ec_a6cd_0242ac1c0002row23_col7\" class=\"data row23 col7\" >0.007613</td>\n",
              "                        <td id=\"T_d81fefa4_5562_11ec_a6cd_0242ac1c0002row23_col8\" class=\"data row23 col8\" >0.001719</td>\n",
              "                        <td id=\"T_d81fefa4_5562_11ec_a6cd_0242ac1c0002row23_col9\" class=\"data row23 col9\" >-0.000252</td>\n",
              "                        <td id=\"T_d81fefa4_5562_11ec_a6cd_0242ac1c0002row23_col10\" class=\"data row23 col10\" >0.044004</td>\n",
              "                        <td id=\"T_d81fefa4_5562_11ec_a6cd_0242ac1c0002row23_col11\" class=\"data row23 col11\" >0.001957</td>\n",
              "                        <td id=\"T_d81fefa4_5562_11ec_a6cd_0242ac1c0002row23_col12\" class=\"data row23 col12\" >-0.014602</td>\n",
              "                        <td id=\"T_d81fefa4_5562_11ec_a6cd_0242ac1c0002row23_col13\" class=\"data row23 col13\" >0.010861</td>\n",
              "                        <td id=\"T_d81fefa4_5562_11ec_a6cd_0242ac1c0002row23_col14\" class=\"data row23 col14\" >0.029593</td>\n",
              "                        <td id=\"T_d81fefa4_5562_11ec_a6cd_0242ac1c0002row23_col15\" class=\"data row23 col15\" >0.009670</td>\n",
              "                        <td id=\"T_d81fefa4_5562_11ec_a6cd_0242ac1c0002row23_col16\" class=\"data row23 col16\" >-0.111595</td>\n",
              "                        <td id=\"T_d81fefa4_5562_11ec_a6cd_0242ac1c0002row23_col17\" class=\"data row23 col17\" >-0.111595</td>\n",
              "                        <td id=\"T_d81fefa4_5562_11ec_a6cd_0242ac1c0002row23_col18\" class=\"data row23 col18\" >0.037201</td>\n",
              "                        <td id=\"T_d81fefa4_5562_11ec_a6cd_0242ac1c0002row23_col19\" class=\"data row23 col19\" >0.036396</td>\n",
              "                        <td id=\"T_d81fefa4_5562_11ec_a6cd_0242ac1c0002row23_col20\" class=\"data row23 col20\" >-0.039655</td>\n",
              "                        <td id=\"T_d81fefa4_5562_11ec_a6cd_0242ac1c0002row23_col21\" class=\"data row23 col21\" >0.069917</td>\n",
              "                        <td id=\"T_d81fefa4_5562_11ec_a6cd_0242ac1c0002row23_col22\" class=\"data row23 col22\" >0.085700</td>\n",
              "                        <td id=\"T_d81fefa4_5562_11ec_a6cd_0242ac1c0002row23_col23\" class=\"data row23 col23\" >1.000000</td>\n",
              "                        <td id=\"T_d81fefa4_5562_11ec_a6cd_0242ac1c0002row23_col24\" class=\"data row23 col24\" >0.803029</td>\n",
              "                        <td id=\"T_d81fefa4_5562_11ec_a6cd_0242ac1c0002row23_col25\" class=\"data row23 col25\" >-0.038542</td>\n",
              "                        <td id=\"T_d81fefa4_5562_11ec_a6cd_0242ac1c0002row23_col26\" class=\"data row23 col26\" >-0.004683</td>\n",
              "                        <td id=\"T_d81fefa4_5562_11ec_a6cd_0242ac1c0002row23_col27\" class=\"data row23 col27\" >nan</td>\n",
              "                        <td id=\"T_d81fefa4_5562_11ec_a6cd_0242ac1c0002row23_col28\" class=\"data row23 col28\" >0.000883</td>\n",
              "                        <td id=\"T_d81fefa4_5562_11ec_a6cd_0242ac1c0002row23_col29\" class=\"data row23 col29\" >-0.000813</td>\n",
              "                        <td id=\"T_d81fefa4_5562_11ec_a6cd_0242ac1c0002row23_col30\" class=\"data row23 col30\" >0.003591</td>\n",
              "                        <td id=\"T_d81fefa4_5562_11ec_a6cd_0242ac1c0002row23_col31\" class=\"data row23 col31\" >-0.000151</td>\n",
              "                        <td id=\"T_d81fefa4_5562_11ec_a6cd_0242ac1c0002row23_col32\" class=\"data row23 col32\" >0.475738</td>\n",
              "            </tr>\n",
              "            <tr>\n",
              "                        <th id=\"T_d81fefa4_5562_11ec_a6cd_0242ac1c0002level0_row24\" class=\"row_heading level0 row24\" >collection_recovery_fee</th>\n",
              "                        <td id=\"T_d81fefa4_5562_11ec_a6cd_0242ac1c0002row24_col0\" class=\"data row24 col0\" >-0.073399</td>\n",
              "                        <td id=\"T_d81fefa4_5562_11ec_a6cd_0242ac1c0002row24_col1\" class=\"data row24 col1\" >-0.073358</td>\n",
              "                        <td id=\"T_d81fefa4_5562_11ec_a6cd_0242ac1c0002row24_col2\" class=\"data row24 col2\" >0.055135</td>\n",
              "                        <td id=\"T_d81fefa4_5562_11ec_a6cd_0242ac1c0002row24_col3\" class=\"data row24 col3\" >0.054898</td>\n",
              "                        <td id=\"T_d81fefa4_5562_11ec_a6cd_0242ac1c0002row24_col4\" class=\"data row24 col4\" >0.053082</td>\n",
              "                        <td id=\"T_d81fefa4_5562_11ec_a6cd_0242ac1c0002row24_col5\" class=\"data row24 col5\" >0.074360</td>\n",
              "                        <td id=\"T_d81fefa4_5562_11ec_a6cd_0242ac1c0002row24_col6\" class=\"data row24 col6\" >0.057180</td>\n",
              "                        <td id=\"T_d81fefa4_5562_11ec_a6cd_0242ac1c0002row24_col7\" class=\"data row24 col7\" >0.006805</td>\n",
              "                        <td id=\"T_d81fefa4_5562_11ec_a6cd_0242ac1c0002row24_col8\" class=\"data row24 col8\" >0.002923</td>\n",
              "                        <td id=\"T_d81fefa4_5562_11ec_a6cd_0242ac1c0002row24_col9\" class=\"data row24 col9\" >0.001467</td>\n",
              "                        <td id=\"T_d81fefa4_5562_11ec_a6cd_0242ac1c0002row24_col10\" class=\"data row24 col10\" >0.029647</td>\n",
              "                        <td id=\"T_d81fefa4_5562_11ec_a6cd_0242ac1c0002row24_col11\" class=\"data row24 col11\" >0.003990</td>\n",
              "                        <td id=\"T_d81fefa4_5562_11ec_a6cd_0242ac1c0002row24_col12\" class=\"data row24 col12\" >-0.008963</td>\n",
              "                        <td id=\"T_d81fefa4_5562_11ec_a6cd_0242ac1c0002row24_col13\" class=\"data row24 col13\" >0.008588</td>\n",
              "                        <td id=\"T_d81fefa4_5562_11ec_a6cd_0242ac1c0002row24_col14\" class=\"data row24 col14\" >0.019874</td>\n",
              "                        <td id=\"T_d81fefa4_5562_11ec_a6cd_0242ac1c0002row24_col15\" class=\"data row24 col15\" >0.011048</td>\n",
              "                        <td id=\"T_d81fefa4_5562_11ec_a6cd_0242ac1c0002row24_col16\" class=\"data row24 col16\" >-0.077588</td>\n",
              "                        <td id=\"T_d81fefa4_5562_11ec_a6cd_0242ac1c0002row24_col17\" class=\"data row24 col17\" >-0.077588</td>\n",
              "                        <td id=\"T_d81fefa4_5562_11ec_a6cd_0242ac1c0002row24_col18\" class=\"data row24 col18\" >0.035844</td>\n",
              "                        <td id=\"T_d81fefa4_5562_11ec_a6cd_0242ac1c0002row24_col19\" class=\"data row24 col19\" >0.034366</td>\n",
              "                        <td id=\"T_d81fefa4_5562_11ec_a6cd_0242ac1c0002row24_col20\" class=\"data row24 col20\" >-0.024295</td>\n",
              "                        <td id=\"T_d81fefa4_5562_11ec_a6cd_0242ac1c0002row24_col21\" class=\"data row24 col21\" >0.054602</td>\n",
              "                        <td id=\"T_d81fefa4_5562_11ec_a6cd_0242ac1c0002row24_col22\" class=\"data row24 col22\" >0.078744</td>\n",
              "                        <td id=\"T_d81fefa4_5562_11ec_a6cd_0242ac1c0002row24_col23\" class=\"data row24 col23\" >0.803029</td>\n",
              "                        <td id=\"T_d81fefa4_5562_11ec_a6cd_0242ac1c0002row24_col24\" class=\"data row24 col24\" >1.000000</td>\n",
              "                        <td id=\"T_d81fefa4_5562_11ec_a6cd_0242ac1c0002row24_col25\" class=\"data row24 col25\" >-0.026610</td>\n",
              "                        <td id=\"T_d81fefa4_5562_11ec_a6cd_0242ac1c0002row24_col26\" class=\"data row24 col26\" >-0.002866</td>\n",
              "                        <td id=\"T_d81fefa4_5562_11ec_a6cd_0242ac1c0002row24_col27\" class=\"data row24 col27\" >nan</td>\n",
              "                        <td id=\"T_d81fefa4_5562_11ec_a6cd_0242ac1c0002row24_col28\" class=\"data row24 col28\" >0.000557</td>\n",
              "                        <td id=\"T_d81fefa4_5562_11ec_a6cd_0242ac1c0002row24_col29\" class=\"data row24 col29\" >-0.000424</td>\n",
              "                        <td id=\"T_d81fefa4_5562_11ec_a6cd_0242ac1c0002row24_col30\" class=\"data row24 col30\" >0.004704</td>\n",
              "                        <td id=\"T_d81fefa4_5562_11ec_a6cd_0242ac1c0002row24_col31\" class=\"data row24 col31\" >0.001154</td>\n",
              "                        <td id=\"T_d81fefa4_5562_11ec_a6cd_0242ac1c0002row24_col32\" class=\"data row24 col32\" >0.330764</td>\n",
              "            </tr>\n",
              "            <tr>\n",
              "                        <th id=\"T_d81fefa4_5562_11ec_a6cd_0242ac1c0002level0_row25\" class=\"row_heading level0 row25\" >last_pymnt_amnt</th>\n",
              "                        <td id=\"T_d81fefa4_5562_11ec_a6cd_0242ac1c0002row25_col0\" class=\"data row25 col0\" >-0.228774</td>\n",
              "                        <td id=\"T_d81fefa4_5562_11ec_a6cd_0242ac1c0002row25_col1\" class=\"data row25 col1\" >-0.228243</td>\n",
              "                        <td id=\"T_d81fefa4_5562_11ec_a6cd_0242ac1c0002row25_col2\" class=\"data row25 col2\" >0.233596</td>\n",
              "                        <td id=\"T_d81fefa4_5562_11ec_a6cd_0242ac1c0002row25_col3\" class=\"data row25 col3\" >0.233134</td>\n",
              "                        <td id=\"T_d81fefa4_5562_11ec_a6cd_0242ac1c0002row25_col4\" class=\"data row25 col4\" >0.232029</td>\n",
              "                        <td id=\"T_d81fefa4_5562_11ec_a6cd_0242ac1c0002row25_col5\" class=\"data row25 col5\" >0.107346</td>\n",
              "                        <td id=\"T_d81fefa4_5562_11ec_a6cd_0242ac1c0002row25_col6\" class=\"data row25 col6\" >0.243246</td>\n",
              "                        <td id=\"T_d81fefa4_5562_11ec_a6cd_0242ac1c0002row25_col7\" class=\"data row25 col7\" >0.092662</td>\n",
              "                        <td id=\"T_d81fefa4_5562_11ec_a6cd_0242ac1c0002row25_col8\" class=\"data row25 col8\" >-0.028601</td>\n",
              "                        <td id=\"T_d81fefa4_5562_11ec_a6cd_0242ac1c0002row25_col9\" class=\"data row25 col9\" >-0.018805</td>\n",
              "                        <td id=\"T_d81fefa4_5562_11ec_a6cd_0242ac1c0002row25_col10\" class=\"data row25 col10\" >0.065455</td>\n",
              "                        <td id=\"T_d81fefa4_5562_11ec_a6cd_0242ac1c0002row25_col11\" class=\"data row25 col11\" >0.029130</td>\n",
              "                        <td id=\"T_d81fefa4_5562_11ec_a6cd_0242ac1c0002row25_col12\" class=\"data row25 col12\" >-0.034215</td>\n",
              "                        <td id=\"T_d81fefa4_5562_11ec_a6cd_0242ac1c0002row25_col13\" class=\"data row25 col13\" >0.060027</td>\n",
              "                        <td id=\"T_d81fefa4_5562_11ec_a6cd_0242ac1c0002row25_col14\" class=\"data row25 col14\" >-0.000939</td>\n",
              "                        <td id=\"T_d81fefa4_5562_11ec_a6cd_0242ac1c0002row25_col15\" class=\"data row25 col15\" >0.087729</td>\n",
              "                        <td id=\"T_d81fefa4_5562_11ec_a6cd_0242ac1c0002row25_col16\" class=\"data row25 col16\" >-0.333641</td>\n",
              "                        <td id=\"T_d81fefa4_5562_11ec_a6cd_0242ac1c0002row25_col17\" class=\"data row25 col17\" >-0.333641</td>\n",
              "                        <td id=\"T_d81fefa4_5562_11ec_a6cd_0242ac1c0002row25_col18\" class=\"data row25 col18\" >0.662738</td>\n",
              "                        <td id=\"T_d81fefa4_5562_11ec_a6cd_0242ac1c0002row25_col19\" class=\"data row25 col19\" >0.663272</td>\n",
              "                        <td id=\"T_d81fefa4_5562_11ec_a6cd_0242ac1c0002row25_col20\" class=\"data row25 col20\" >0.744494</td>\n",
              "                        <td id=\"T_d81fefa4_5562_11ec_a6cd_0242ac1c0002row25_col21\" class=\"data row25 col21\" >0.137991</td>\n",
              "                        <td id=\"T_d81fefa4_5562_11ec_a6cd_0242ac1c0002row25_col22\" class=\"data row25 col22\" >-0.009496</td>\n",
              "                        <td id=\"T_d81fefa4_5562_11ec_a6cd_0242ac1c0002row25_col23\" class=\"data row25 col23\" >-0.038542</td>\n",
              "                        <td id=\"T_d81fefa4_5562_11ec_a6cd_0242ac1c0002row25_col24\" class=\"data row25 col24\" >-0.026610</td>\n",
              "                        <td id=\"T_d81fefa4_5562_11ec_a6cd_0242ac1c0002row25_col25\" class=\"data row25 col25\" >1.000000</td>\n",
              "                        <td id=\"T_d81fefa4_5562_11ec_a6cd_0242ac1c0002row25_col26\" class=\"data row25 col26\" >-0.017769</td>\n",
              "                        <td id=\"T_d81fefa4_5562_11ec_a6cd_0242ac1c0002row25_col27\" class=\"data row25 col27\" >nan</td>\n",
              "                        <td id=\"T_d81fefa4_5562_11ec_a6cd_0242ac1c0002row25_col28\" class=\"data row25 col28\" >-0.002911</td>\n",
              "                        <td id=\"T_d81fefa4_5562_11ec_a6cd_0242ac1c0002row25_col29\" class=\"data row25 col29\" >-0.002464</td>\n",
              "                        <td id=\"T_d81fefa4_5562_11ec_a6cd_0242ac1c0002row25_col30\" class=\"data row25 col30\" >0.098948</td>\n",
              "                        <td id=\"T_d81fefa4_5562_11ec_a6cd_0242ac1c0002row25_col31\" class=\"data row25 col31\" >0.059560</td>\n",
              "                        <td id=\"T_d81fefa4_5562_11ec_a6cd_0242ac1c0002row25_col32\" class=\"data row25 col32\" >-0.087217</td>\n",
              "            </tr>\n",
              "            <tr>\n",
              "                        <th id=\"T_d81fefa4_5562_11ec_a6cd_0242ac1c0002level0_row26\" class=\"row_heading level0 row26\" >collections_12_mths_ex_med</th>\n",
              "                        <td id=\"T_d81fefa4_5562_11ec_a6cd_0242ac1c0002row26_col0\" class=\"data row26 col0\" >0.050928</td>\n",
              "                        <td id=\"T_d81fefa4_5562_11ec_a6cd_0242ac1c0002row26_col1\" class=\"data row26 col1\" >0.051045</td>\n",
              "                        <td id=\"T_d81fefa4_5562_11ec_a6cd_0242ac1c0002row26_col2\" class=\"data row26 col2\" >-0.017034</td>\n",
              "                        <td id=\"T_d81fefa4_5562_11ec_a6cd_0242ac1c0002row26_col3\" class=\"data row26 col3\" >-0.016879</td>\n",
              "                        <td id=\"T_d81fefa4_5562_11ec_a6cd_0242ac1c0002row26_col4\" class=\"data row26 col4\" >-0.016543</td>\n",
              "                        <td id=\"T_d81fefa4_5562_11ec_a6cd_0242ac1c0002row26_col5\" class=\"data row26 col5\" >0.012846</td>\n",
              "                        <td id=\"T_d81fefa4_5562_11ec_a6cd_0242ac1c0002row26_col6\" class=\"data row26 col6\" >-0.014558</td>\n",
              "                        <td id=\"T_d81fefa4_5562_11ec_a6cd_0242ac1c0002row26_col7\" class=\"data row26 col7\" >-0.003790</td>\n",
              "                        <td id=\"T_d81fefa4_5562_11ec_a6cd_0242ac1c0002row26_col8\" class=\"data row26 col8\" >-0.000113</td>\n",
              "                        <td id=\"T_d81fefa4_5562_11ec_a6cd_0242ac1c0002row26_col9\" class=\"data row26 col9\" >0.063019</td>\n",
              "                        <td id=\"T_d81fefa4_5562_11ec_a6cd_0242ac1c0002row26_col10\" class=\"data row26 col10\" >0.007364</td>\n",
              "                        <td id=\"T_d81fefa4_5562_11ec_a6cd_0242ac1c0002row26_col11\" class=\"data row26 col11\" >0.010000</td>\n",
              "                        <td id=\"T_d81fefa4_5562_11ec_a6cd_0242ac1c0002row26_col12\" class=\"data row26 col12\" >0.020876</td>\n",
              "                        <td id=\"T_d81fefa4_5562_11ec_a6cd_0242ac1c0002row26_col13\" class=\"data row26 col13\" >-0.022551</td>\n",
              "                        <td id=\"T_d81fefa4_5562_11ec_a6cd_0242ac1c0002row26_col14\" class=\"data row26 col14\" >-0.035694</td>\n",
              "                        <td id=\"T_d81fefa4_5562_11ec_a6cd_0242ac1c0002row26_col15\" class=\"data row26 col15\" >0.009184</td>\n",
              "                        <td id=\"T_d81fefa4_5562_11ec_a6cd_0242ac1c0002row26_col16\" class=\"data row26 col16\" >0.015659</td>\n",
              "                        <td id=\"T_d81fefa4_5562_11ec_a6cd_0242ac1c0002row26_col17\" class=\"data row26 col17\" >0.015644</td>\n",
              "                        <td id=\"T_d81fefa4_5562_11ec_a6cd_0242ac1c0002row26_col18\" class=\"data row26 col18\" >-0.038617</td>\n",
              "                        <td id=\"T_d81fefa4_5562_11ec_a6cd_0242ac1c0002row26_col19\" class=\"data row26 col19\" >-0.038344</td>\n",
              "                        <td id=\"T_d81fefa4_5562_11ec_a6cd_0242ac1c0002row26_col20\" class=\"data row26 col20\" >-0.037766</td>\n",
              "                        <td id=\"T_d81fefa4_5562_11ec_a6cd_0242ac1c0002row26_col21\" class=\"data row26 col21\" >-0.024667</td>\n",
              "                        <td id=\"T_d81fefa4_5562_11ec_a6cd_0242ac1c0002row26_col22\" class=\"data row26 col22\" >-0.003836</td>\n",
              "                        <td id=\"T_d81fefa4_5562_11ec_a6cd_0242ac1c0002row26_col23\" class=\"data row26 col23\" >-0.004683</td>\n",
              "                        <td id=\"T_d81fefa4_5562_11ec_a6cd_0242ac1c0002row26_col24\" class=\"data row26 col24\" >-0.002866</td>\n",
              "                        <td id=\"T_d81fefa4_5562_11ec_a6cd_0242ac1c0002row26_col25\" class=\"data row26 col25\" >-0.017769</td>\n",
              "                        <td id=\"T_d81fefa4_5562_11ec_a6cd_0242ac1c0002row26_col26\" class=\"data row26 col26\" >1.000000</td>\n",
              "                        <td id=\"T_d81fefa4_5562_11ec_a6cd_0242ac1c0002row26_col27\" class=\"data row26 col27\" >nan</td>\n",
              "                        <td id=\"T_d81fefa4_5562_11ec_a6cd_0242ac1c0002row26_col28\" class=\"data row26 col28\" >0.040198</td>\n",
              "                        <td id=\"T_d81fefa4_5562_11ec_a6cd_0242ac1c0002row26_col29\" class=\"data row26 col29\" >0.009681</td>\n",
              "                        <td id=\"T_d81fefa4_5562_11ec_a6cd_0242ac1c0002row26_col30\" class=\"data row26 col30\" >-0.010617</td>\n",
              "                        <td id=\"T_d81fefa4_5562_11ec_a6cd_0242ac1c0002row26_col31\" class=\"data row26 col31\" >-0.016800</td>\n",
              "                        <td id=\"T_d81fefa4_5562_11ec_a6cd_0242ac1c0002row26_col32\" class=\"data row26 col32\" >-0.010651</td>\n",
              "            </tr>\n",
              "            <tr>\n",
              "                        <th id=\"T_d81fefa4_5562_11ec_a6cd_0242ac1c0002level0_row27\" class=\"row_heading level0 row27\" >policy_code</th>\n",
              "                        <td id=\"T_d81fefa4_5562_11ec_a6cd_0242ac1c0002row27_col0\" class=\"data row27 col0\" >nan</td>\n",
              "                        <td id=\"T_d81fefa4_5562_11ec_a6cd_0242ac1c0002row27_col1\" class=\"data row27 col1\" >nan</td>\n",
              "                        <td id=\"T_d81fefa4_5562_11ec_a6cd_0242ac1c0002row27_col2\" class=\"data row27 col2\" >nan</td>\n",
              "                        <td id=\"T_d81fefa4_5562_11ec_a6cd_0242ac1c0002row27_col3\" class=\"data row27 col3\" >nan</td>\n",
              "                        <td id=\"T_d81fefa4_5562_11ec_a6cd_0242ac1c0002row27_col4\" class=\"data row27 col4\" >nan</td>\n",
              "                        <td id=\"T_d81fefa4_5562_11ec_a6cd_0242ac1c0002row27_col5\" class=\"data row27 col5\" >nan</td>\n",
              "                        <td id=\"T_d81fefa4_5562_11ec_a6cd_0242ac1c0002row27_col6\" class=\"data row27 col6\" >nan</td>\n",
              "                        <td id=\"T_d81fefa4_5562_11ec_a6cd_0242ac1c0002row27_col7\" class=\"data row27 col7\" >nan</td>\n",
              "                        <td id=\"T_d81fefa4_5562_11ec_a6cd_0242ac1c0002row27_col8\" class=\"data row27 col8\" >nan</td>\n",
              "                        <td id=\"T_d81fefa4_5562_11ec_a6cd_0242ac1c0002row27_col9\" class=\"data row27 col9\" >nan</td>\n",
              "                        <td id=\"T_d81fefa4_5562_11ec_a6cd_0242ac1c0002row27_col10\" class=\"data row27 col10\" >nan</td>\n",
              "                        <td id=\"T_d81fefa4_5562_11ec_a6cd_0242ac1c0002row27_col11\" class=\"data row27 col11\" >nan</td>\n",
              "                        <td id=\"T_d81fefa4_5562_11ec_a6cd_0242ac1c0002row27_col12\" class=\"data row27 col12\" >nan</td>\n",
              "                        <td id=\"T_d81fefa4_5562_11ec_a6cd_0242ac1c0002row27_col13\" class=\"data row27 col13\" >nan</td>\n",
              "                        <td id=\"T_d81fefa4_5562_11ec_a6cd_0242ac1c0002row27_col14\" class=\"data row27 col14\" >nan</td>\n",
              "                        <td id=\"T_d81fefa4_5562_11ec_a6cd_0242ac1c0002row27_col15\" class=\"data row27 col15\" >nan</td>\n",
              "                        <td id=\"T_d81fefa4_5562_11ec_a6cd_0242ac1c0002row27_col16\" class=\"data row27 col16\" >nan</td>\n",
              "                        <td id=\"T_d81fefa4_5562_11ec_a6cd_0242ac1c0002row27_col17\" class=\"data row27 col17\" >nan</td>\n",
              "                        <td id=\"T_d81fefa4_5562_11ec_a6cd_0242ac1c0002row27_col18\" class=\"data row27 col18\" >nan</td>\n",
              "                        <td id=\"T_d81fefa4_5562_11ec_a6cd_0242ac1c0002row27_col19\" class=\"data row27 col19\" >nan</td>\n",
              "                        <td id=\"T_d81fefa4_5562_11ec_a6cd_0242ac1c0002row27_col20\" class=\"data row27 col20\" >nan</td>\n",
              "                        <td id=\"T_d81fefa4_5562_11ec_a6cd_0242ac1c0002row27_col21\" class=\"data row27 col21\" >nan</td>\n",
              "                        <td id=\"T_d81fefa4_5562_11ec_a6cd_0242ac1c0002row27_col22\" class=\"data row27 col22\" >nan</td>\n",
              "                        <td id=\"T_d81fefa4_5562_11ec_a6cd_0242ac1c0002row27_col23\" class=\"data row27 col23\" >nan</td>\n",
              "                        <td id=\"T_d81fefa4_5562_11ec_a6cd_0242ac1c0002row27_col24\" class=\"data row27 col24\" >nan</td>\n",
              "                        <td id=\"T_d81fefa4_5562_11ec_a6cd_0242ac1c0002row27_col25\" class=\"data row27 col25\" >nan</td>\n",
              "                        <td id=\"T_d81fefa4_5562_11ec_a6cd_0242ac1c0002row27_col26\" class=\"data row27 col26\" >nan</td>\n",
              "                        <td id=\"T_d81fefa4_5562_11ec_a6cd_0242ac1c0002row27_col27\" class=\"data row27 col27\" >nan</td>\n",
              "                        <td id=\"T_d81fefa4_5562_11ec_a6cd_0242ac1c0002row27_col28\" class=\"data row27 col28\" >nan</td>\n",
              "                        <td id=\"T_d81fefa4_5562_11ec_a6cd_0242ac1c0002row27_col29\" class=\"data row27 col29\" >nan</td>\n",
              "                        <td id=\"T_d81fefa4_5562_11ec_a6cd_0242ac1c0002row27_col30\" class=\"data row27 col30\" >nan</td>\n",
              "                        <td id=\"T_d81fefa4_5562_11ec_a6cd_0242ac1c0002row27_col31\" class=\"data row27 col31\" >nan</td>\n",
              "                        <td id=\"T_d81fefa4_5562_11ec_a6cd_0242ac1c0002row27_col32\" class=\"data row27 col32\" >nan</td>\n",
              "            </tr>\n",
              "            <tr>\n",
              "                        <th id=\"T_d81fefa4_5562_11ec_a6cd_0242ac1c0002level0_row28\" class=\"row_heading level0 row28\" >acc_now_delinq</th>\n",
              "                        <td id=\"T_d81fefa4_5562_11ec_a6cd_0242ac1c0002row28_col0\" class=\"data row28 col0\" >0.016849</td>\n",
              "                        <td id=\"T_d81fefa4_5562_11ec_a6cd_0242ac1c0002row28_col1\" class=\"data row28 col1\" >0.016960</td>\n",
              "                        <td id=\"T_d81fefa4_5562_11ec_a6cd_0242ac1c0002row28_col2\" class=\"data row28 col2\" >0.003572</td>\n",
              "                        <td id=\"T_d81fefa4_5562_11ec_a6cd_0242ac1c0002row28_col3\" class=\"data row28 col3\" >0.003675</td>\n",
              "                        <td id=\"T_d81fefa4_5562_11ec_a6cd_0242ac1c0002row28_col4\" class=\"data row28 col4\" >0.003856</td>\n",
              "                        <td id=\"T_d81fefa4_5562_11ec_a6cd_0242ac1c0002row28_col5\" class=\"data row28 col5\" >0.026476</td>\n",
              "                        <td id=\"T_d81fefa4_5562_11ec_a6cd_0242ac1c0002row28_col6\" class=\"data row28 col6\" >0.006273</td>\n",
              "                        <td id=\"T_d81fefa4_5562_11ec_a6cd_0242ac1c0002row28_col7\" class=\"data row28 col7\" >0.014877</td>\n",
              "                        <td id=\"T_d81fefa4_5562_11ec_a6cd_0242ac1c0002row28_col8\" class=\"data row28 col8\" >0.003227</td>\n",
              "                        <td id=\"T_d81fefa4_5562_11ec_a6cd_0242ac1c0002row28_col9\" class=\"data row28 col9\" >0.130420</td>\n",
              "                        <td id=\"T_d81fefa4_5562_11ec_a6cd_0242ac1c0002row28_col10\" class=\"data row28 col10\" >-0.004836</td>\n",
              "                        <td id=\"T_d81fefa4_5562_11ec_a6cd_0242ac1c0002row28_col11\" class=\"data row28 col11\" >0.017774</td>\n",
              "                        <td id=\"T_d81fefa4_5562_11ec_a6cd_0242ac1c0002row28_col12\" class=\"data row28 col12\" >-0.000293</td>\n",
              "                        <td id=\"T_d81fefa4_5562_11ec_a6cd_0242ac1c0002row28_col13\" class=\"data row28 col13\" >-0.000677</td>\n",
              "                        <td id=\"T_d81fefa4_5562_11ec_a6cd_0242ac1c0002row28_col14\" class=\"data row28 col14\" >-0.027262</td>\n",
              "                        <td id=\"T_d81fefa4_5562_11ec_a6cd_0242ac1c0002row28_col15\" class=\"data row28 col15\" >0.026633</td>\n",
              "                        <td id=\"T_d81fefa4_5562_11ec_a6cd_0242ac1c0002row28_col16\" class=\"data row28 col16\" >0.011834</td>\n",
              "                        <td id=\"T_d81fefa4_5562_11ec_a6cd_0242ac1c0002row28_col17\" class=\"data row28 col17\" >0.011824</td>\n",
              "                        <td id=\"T_d81fefa4_5562_11ec_a6cd_0242ac1c0002row28_col18\" class=\"data row28 col18\" >-0.008220</td>\n",
              "                        <td id=\"T_d81fefa4_5562_11ec_a6cd_0242ac1c0002row28_col19\" class=\"data row28 col19\" >-0.008021</td>\n",
              "                        <td id=\"T_d81fefa4_5562_11ec_a6cd_0242ac1c0002row28_col20\" class=\"data row28 col20\" >-0.010486</td>\n",
              "                        <td id=\"T_d81fefa4_5562_11ec_a6cd_0242ac1c0002row28_col21\" class=\"data row28 col21\" >0.002220</td>\n",
              "                        <td id=\"T_d81fefa4_5562_11ec_a6cd_0242ac1c0002row28_col22\" class=\"data row28 col22\" >0.002229</td>\n",
              "                        <td id=\"T_d81fefa4_5562_11ec_a6cd_0242ac1c0002row28_col23\" class=\"data row28 col23\" >0.000883</td>\n",
              "                        <td id=\"T_d81fefa4_5562_11ec_a6cd_0242ac1c0002row28_col24\" class=\"data row28 col24\" >0.000557</td>\n",
              "                        <td id=\"T_d81fefa4_5562_11ec_a6cd_0242ac1c0002row28_col25\" class=\"data row28 col25\" >-0.002911</td>\n",
              "                        <td id=\"T_d81fefa4_5562_11ec_a6cd_0242ac1c0002row28_col26\" class=\"data row28 col26\" >0.040198</td>\n",
              "                        <td id=\"T_d81fefa4_5562_11ec_a6cd_0242ac1c0002row28_col27\" class=\"data row28 col27\" >nan</td>\n",
              "                        <td id=\"T_d81fefa4_5562_11ec_a6cd_0242ac1c0002row28_col28\" class=\"data row28 col28\" >1.000000</td>\n",
              "                        <td id=\"T_d81fefa4_5562_11ec_a6cd_0242ac1c0002row28_col29\" class=\"data row28 col29\" >0.000267</td>\n",
              "                        <td id=\"T_d81fefa4_5562_11ec_a6cd_0242ac1c0002row28_col30\" class=\"data row28 col30\" >0.022800</td>\n",
              "                        <td id=\"T_d81fefa4_5562_11ec_a6cd_0242ac1c0002row28_col31\" class=\"data row28 col31\" >0.008253</td>\n",
              "                        <td id=\"T_d81fefa4_5562_11ec_a6cd_0242ac1c0002row28_col32\" class=\"data row28 col32\" >-0.003116</td>\n",
              "            </tr>\n",
              "            <tr>\n",
              "                        <th id=\"T_d81fefa4_5562_11ec_a6cd_0242ac1c0002level0_row29\" class=\"row_heading level0 row29\" >tot_coll_amt</th>\n",
              "                        <td id=\"T_d81fefa4_5562_11ec_a6cd_0242ac1c0002row29_col0\" class=\"data row29 col0\" >0.003875</td>\n",
              "                        <td id=\"T_d81fefa4_5562_11ec_a6cd_0242ac1c0002row29_col1\" class=\"data row29 col1\" >0.003892</td>\n",
              "                        <td id=\"T_d81fefa4_5562_11ec_a6cd_0242ac1c0002row29_col2\" class=\"data row29 col2\" >-0.004107</td>\n",
              "                        <td id=\"T_d81fefa4_5562_11ec_a6cd_0242ac1c0002row29_col3\" class=\"data row29 col3\" >-0.004109</td>\n",
              "                        <td id=\"T_d81fefa4_5562_11ec_a6cd_0242ac1c0002row29_col4\" class=\"data row29 col4\" >-0.004104</td>\n",
              "                        <td id=\"T_d81fefa4_5562_11ec_a6cd_0242ac1c0002row29_col5\" class=\"data row29 col5\" >0.001089</td>\n",
              "                        <td id=\"T_d81fefa4_5562_11ec_a6cd_0242ac1c0002row29_col6\" class=\"data row29 col6\" >-0.003400</td>\n",
              "                        <td id=\"T_d81fefa4_5562_11ec_a6cd_0242ac1c0002row29_col7\" class=\"data row29 col7\" >0.000974</td>\n",
              "                        <td id=\"T_d81fefa4_5562_11ec_a6cd_0242ac1c0002row29_col8\" class=\"data row29 col8\" >-0.001979</td>\n",
              "                        <td id=\"T_d81fefa4_5562_11ec_a6cd_0242ac1c0002row29_col9\" class=\"data row29 col9\" >0.000151</td>\n",
              "                        <td id=\"T_d81fefa4_5562_11ec_a6cd_0242ac1c0002row29_col10\" class=\"data row29 col10\" >0.003027</td>\n",
              "                        <td id=\"T_d81fefa4_5562_11ec_a6cd_0242ac1c0002row29_col11\" class=\"data row29 col11\" >0.000068</td>\n",
              "                        <td id=\"T_d81fefa4_5562_11ec_a6cd_0242ac1c0002row29_col12\" class=\"data row29 col12\" >0.006759</td>\n",
              "                        <td id=\"T_d81fefa4_5562_11ec_a6cd_0242ac1c0002row29_col13\" class=\"data row29 col13\" >-0.006004</td>\n",
              "                        <td id=\"T_d81fefa4_5562_11ec_a6cd_0242ac1c0002row29_col14\" class=\"data row29 col14\" >-0.008754</td>\n",
              "                        <td id=\"T_d81fefa4_5562_11ec_a6cd_0242ac1c0002row29_col15\" class=\"data row29 col15\" >0.006215</td>\n",
              "                        <td id=\"T_d81fefa4_5562_11ec_a6cd_0242ac1c0002row29_col16\" class=\"data row29 col16\" >-0.000807</td>\n",
              "                        <td id=\"T_d81fefa4_5562_11ec_a6cd_0242ac1c0002row29_col17\" class=\"data row29 col17\" >-0.000807</td>\n",
              "                        <td id=\"T_d81fefa4_5562_11ec_a6cd_0242ac1c0002row29_col18\" class=\"data row29 col18\" >-0.003881</td>\n",
              "                        <td id=\"T_d81fefa4_5562_11ec_a6cd_0242ac1c0002row29_col19\" class=\"data row29 col19\" >-0.003890</td>\n",
              "                        <td id=\"T_d81fefa4_5562_11ec_a6cd_0242ac1c0002row29_col20\" class=\"data row29 col20\" >-0.003527</td>\n",
              "                        <td id=\"T_d81fefa4_5562_11ec_a6cd_0242ac1c0002row29_col21\" class=\"data row29 col21\" >-0.003272</td>\n",
              "                        <td id=\"T_d81fefa4_5562_11ec_a6cd_0242ac1c0002row29_col22\" class=\"data row29 col22\" >-0.000503</td>\n",
              "                        <td id=\"T_d81fefa4_5562_11ec_a6cd_0242ac1c0002row29_col23\" class=\"data row29 col23\" >-0.000813</td>\n",
              "                        <td id=\"T_d81fefa4_5562_11ec_a6cd_0242ac1c0002row29_col24\" class=\"data row29 col24\" >-0.000424</td>\n",
              "                        <td id=\"T_d81fefa4_5562_11ec_a6cd_0242ac1c0002row29_col25\" class=\"data row29 col25\" >-0.002464</td>\n",
              "                        <td id=\"T_d81fefa4_5562_11ec_a6cd_0242ac1c0002row29_col26\" class=\"data row29 col26\" >0.009681</td>\n",
              "                        <td id=\"T_d81fefa4_5562_11ec_a6cd_0242ac1c0002row29_col27\" class=\"data row29 col27\" >nan</td>\n",
              "                        <td id=\"T_d81fefa4_5562_11ec_a6cd_0242ac1c0002row29_col28\" class=\"data row29 col28\" >0.000267</td>\n",
              "                        <td id=\"T_d81fefa4_5562_11ec_a6cd_0242ac1c0002row29_col29\" class=\"data row29 col29\" >1.000000</td>\n",
              "                        <td id=\"T_d81fefa4_5562_11ec_a6cd_0242ac1c0002row29_col30\" class=\"data row29 col30\" >-0.000331</td>\n",
              "                        <td id=\"T_d81fefa4_5562_11ec_a6cd_0242ac1c0002row29_col31\" class=\"data row29 col31\" >-0.005025</td>\n",
              "                        <td id=\"T_d81fefa4_5562_11ec_a6cd_0242ac1c0002row29_col32\" class=\"data row29 col32\" >-0.001708</td>\n",
              "            </tr>\n",
              "            <tr>\n",
              "                        <th id=\"T_d81fefa4_5562_11ec_a6cd_0242ac1c0002level0_row30\" class=\"row_heading level0 row30\" >tot_cur_bal</th>\n",
              "                        <td id=\"T_d81fefa4_5562_11ec_a6cd_0242ac1c0002row30_col0\" class=\"data row30 col0\" >0.006647</td>\n",
              "                        <td id=\"T_d81fefa4_5562_11ec_a6cd_0242ac1c0002row30_col1\" class=\"data row30 col1\" >0.006645</td>\n",
              "                        <td id=\"T_d81fefa4_5562_11ec_a6cd_0242ac1c0002row30_col2\" class=\"data row30 col2\" >0.316383</td>\n",
              "                        <td id=\"T_d81fefa4_5562_11ec_a6cd_0242ac1c0002row30_col3\" class=\"data row30 col3\" >0.316602</td>\n",
              "                        <td id=\"T_d81fefa4_5562_11ec_a6cd_0242ac1c0002row30_col4\" class=\"data row30 col4\" >0.316262</td>\n",
              "                        <td id=\"T_d81fefa4_5562_11ec_a6cd_0242ac1c0002row30_col5\" class=\"data row30 col5\" >-0.088206</td>\n",
              "                        <td id=\"T_d81fefa4_5562_11ec_a6cd_0242ac1c0002row30_col6\" class=\"data row30 col6\" >0.286575</td>\n",
              "                        <td id=\"T_d81fefa4_5562_11ec_a6cd_0242ac1c0002row30_col7\" class=\"data row30 col7\" >0.409668</td>\n",
              "                        <td id=\"T_d81fefa4_5562_11ec_a6cd_0242ac1c0002row30_col8\" class=\"data row30 col8\" >-0.007072</td>\n",
              "                        <td id=\"T_d81fefa4_5562_11ec_a6cd_0242ac1c0002row30_col9\" class=\"data row30 col9\" >0.063602</td>\n",
              "                        <td id=\"T_d81fefa4_5562_11ec_a6cd_0242ac1c0002row30_col10\" class=\"data row30 col10\" >0.033127</td>\n",
              "                        <td id=\"T_d81fefa4_5562_11ec_a6cd_0242ac1c0002row30_col11\" class=\"data row30 col11\" >0.236396</td>\n",
              "                        <td id=\"T_d81fefa4_5562_11ec_a6cd_0242ac1c0002row30_col12\" class=\"data row30 col12\" >-0.075328</td>\n",
              "                        <td id=\"T_d81fefa4_5562_11ec_a6cd_0242ac1c0002row30_col13\" class=\"data row30 col13\" >0.434876</td>\n",
              "                        <td id=\"T_d81fefa4_5562_11ec_a6cd_0242ac1c0002row30_col14\" class=\"data row30 col14\" >0.076203</td>\n",
              "                        <td id=\"T_d81fefa4_5562_11ec_a6cd_0242ac1c0002row30_col15\" class=\"data row30 col15\" >0.299308</td>\n",
              "                        <td id=\"T_d81fefa4_5562_11ec_a6cd_0242ac1c0002row30_col16\" class=\"data row30 col16\" >0.199209</td>\n",
              "                        <td id=\"T_d81fefa4_5562_11ec_a6cd_0242ac1c0002row30_col17\" class=\"data row30 col17\" >0.199239</td>\n",
              "                        <td id=\"T_d81fefa4_5562_11ec_a6cd_0242ac1c0002row30_col18\" class=\"data row30 col18\" >0.156333</td>\n",
              "                        <td id=\"T_d81fefa4_5562_11ec_a6cd_0242ac1c0002row30_col19\" class=\"data row30 col19\" >0.156746</td>\n",
              "                        <td id=\"T_d81fefa4_5562_11ec_a6cd_0242ac1c0002row30_col20\" class=\"data row30 col20\" >0.146599</td>\n",
              "                        <td id=\"T_d81fefa4_5562_11ec_a6cd_0242ac1c0002row30_col21\" class=\"data row30 col21\" >0.123088</td>\n",
              "                        <td id=\"T_d81fefa4_5562_11ec_a6cd_0242ac1c0002row30_col22\" class=\"data row30 col22\" >0.007498</td>\n",
              "                        <td id=\"T_d81fefa4_5562_11ec_a6cd_0242ac1c0002row30_col23\" class=\"data row30 col23\" >0.003591</td>\n",
              "                        <td id=\"T_d81fefa4_5562_11ec_a6cd_0242ac1c0002row30_col24\" class=\"data row30 col24\" >0.004704</td>\n",
              "                        <td id=\"T_d81fefa4_5562_11ec_a6cd_0242ac1c0002row30_col25\" class=\"data row30 col25\" >0.098948</td>\n",
              "                        <td id=\"T_d81fefa4_5562_11ec_a6cd_0242ac1c0002row30_col26\" class=\"data row30 col26\" >-0.010617</td>\n",
              "                        <td id=\"T_d81fefa4_5562_11ec_a6cd_0242ac1c0002row30_col27\" class=\"data row30 col27\" >nan</td>\n",
              "                        <td id=\"T_d81fefa4_5562_11ec_a6cd_0242ac1c0002row30_col28\" class=\"data row30 col28\" >0.022800</td>\n",
              "                        <td id=\"T_d81fefa4_5562_11ec_a6cd_0242ac1c0002row30_col29\" class=\"data row30 col29\" >-0.000331</td>\n",
              "                        <td id=\"T_d81fefa4_5562_11ec_a6cd_0242ac1c0002row30_col30\" class=\"data row30 col30\" >1.000000</td>\n",
              "                        <td id=\"T_d81fefa4_5562_11ec_a6cd_0242ac1c0002row30_col31\" class=\"data row30 col31\" >0.384867</td>\n",
              "                        <td id=\"T_d81fefa4_5562_11ec_a6cd_0242ac1c0002row30_col32\" class=\"data row30 col32\" >-0.032310</td>\n",
              "            </tr>\n",
              "            <tr>\n",
              "                        <th id=\"T_d81fefa4_5562_11ec_a6cd_0242ac1c0002level0_row31\" class=\"row_heading level0 row31\" >total_rev_hi_lim</th>\n",
              "                        <td id=\"T_d81fefa4_5562_11ec_a6cd_0242ac1c0002row31_col0\" class=\"data row31 col0\" >0.043947</td>\n",
              "                        <td id=\"T_d81fefa4_5562_11ec_a6cd_0242ac1c0002row31_col1\" class=\"data row31 col1\" >0.043744</td>\n",
              "                        <td id=\"T_d81fefa4_5562_11ec_a6cd_0242ac1c0002row31_col2\" class=\"data row31 col2\" >0.299986</td>\n",
              "                        <td id=\"T_d81fefa4_5562_11ec_a6cd_0242ac1c0002row31_col3\" class=\"data row31 col3\" >0.300194</td>\n",
              "                        <td id=\"T_d81fefa4_5562_11ec_a6cd_0242ac1c0002row31_col4\" class=\"data row31 col4\" >0.299884</td>\n",
              "                        <td id=\"T_d81fefa4_5562_11ec_a6cd_0242ac1c0002row31_col5\" class=\"data row31 col5\" >-0.159695</td>\n",
              "                        <td id=\"T_d81fefa4_5562_11ec_a6cd_0242ac1c0002row31_col6\" class=\"data row31 col6\" >0.275535</td>\n",
              "                        <td id=\"T_d81fefa4_5562_11ec_a6cd_0242ac1c0002row31_col7\" class=\"data row31 col7\" >0.262754</td>\n",
              "                        <td id=\"T_d81fefa4_5562_11ec_a6cd_0242ac1c0002row31_col8\" class=\"data row31 col8\" >0.032157</td>\n",
              "                        <td id=\"T_d81fefa4_5562_11ec_a6cd_0242ac1c0002row31_col9\" class=\"data row31 col9\" >-0.039936</td>\n",
              "                        <td id=\"T_d81fefa4_5562_11ec_a6cd_0242ac1c0002row31_col10\" class=\"data row31 col10\" >0.005796</td>\n",
              "                        <td id=\"T_d81fefa4_5562_11ec_a6cd_0242ac1c0002row31_col11\" class=\"data row31 col11\" >0.314446</td>\n",
              "                        <td id=\"T_d81fefa4_5562_11ec_a6cd_0242ac1c0002row31_col12\" class=\"data row31 col12\" >-0.099398</td>\n",
              "                        <td id=\"T_d81fefa4_5562_11ec_a6cd_0242ac1c0002row31_col13\" class=\"data row31 col13\" >0.805639</td>\n",
              "                        <td id=\"T_d81fefa4_5562_11ec_a6cd_0242ac1c0002row31_col14\" class=\"data row31 col14\" >-0.111341</td>\n",
              "                        <td id=\"T_d81fefa4_5562_11ec_a6cd_0242ac1c0002row31_col15\" class=\"data row31 col15\" >0.245578</td>\n",
              "                        <td id=\"T_d81fefa4_5562_11ec_a6cd_0242ac1c0002row31_col16\" class=\"data row31 col16\" >0.212409</td>\n",
              "                        <td id=\"T_d81fefa4_5562_11ec_a6cd_0242ac1c0002row31_col17\" class=\"data row31 col17\" >0.212449</td>\n",
              "                        <td id=\"T_d81fefa4_5562_11ec_a6cd_0242ac1c0002row31_col18\" class=\"data row31 col18\" >0.111364</td>\n",
              "                        <td id=\"T_d81fefa4_5562_11ec_a6cd_0242ac1c0002row31_col19\" class=\"data row31 col19\" >0.111658</td>\n",
              "                        <td id=\"T_d81fefa4_5562_11ec_a6cd_0242ac1c0002row31_col20\" class=\"data row31 col20\" >0.110793</td>\n",
              "                        <td id=\"T_d81fefa4_5562_11ec_a6cd_0242ac1c0002row31_col21\" class=\"data row31 col21\" >0.067830</td>\n",
              "                        <td id=\"T_d81fefa4_5562_11ec_a6cd_0242ac1c0002row31_col22\" class=\"data row31 col22\" >-0.004708</td>\n",
              "                        <td id=\"T_d81fefa4_5562_11ec_a6cd_0242ac1c0002row31_col23\" class=\"data row31 col23\" >-0.000151</td>\n",
              "                        <td id=\"T_d81fefa4_5562_11ec_a6cd_0242ac1c0002row31_col24\" class=\"data row31 col24\" >0.001154</td>\n",
              "                        <td id=\"T_d81fefa4_5562_11ec_a6cd_0242ac1c0002row31_col25\" class=\"data row31 col25\" >0.059560</td>\n",
              "                        <td id=\"T_d81fefa4_5562_11ec_a6cd_0242ac1c0002row31_col26\" class=\"data row31 col26\" >-0.016800</td>\n",
              "                        <td id=\"T_d81fefa4_5562_11ec_a6cd_0242ac1c0002row31_col27\" class=\"data row31 col27\" >nan</td>\n",
              "                        <td id=\"T_d81fefa4_5562_11ec_a6cd_0242ac1c0002row31_col28\" class=\"data row31 col28\" >0.008253</td>\n",
              "                        <td id=\"T_d81fefa4_5562_11ec_a6cd_0242ac1c0002row31_col29\" class=\"data row31 col29\" >-0.005025</td>\n",
              "                        <td id=\"T_d81fefa4_5562_11ec_a6cd_0242ac1c0002row31_col30\" class=\"data row31 col30\" >0.384867</td>\n",
              "                        <td id=\"T_d81fefa4_5562_11ec_a6cd_0242ac1c0002row31_col31\" class=\"data row31 col31\" >1.000000</td>\n",
              "                        <td id=\"T_d81fefa4_5562_11ec_a6cd_0242ac1c0002row31_col32\" class=\"data row31 col32\" >-0.029896</td>\n",
              "            </tr>\n",
              "            <tr>\n",
              "                        <th id=\"T_d81fefa4_5562_11ec_a6cd_0242ac1c0002level0_row32\" class=\"row_heading level0 row32\" >default_ind</th>\n",
              "                        <td id=\"T_d81fefa4_5562_11ec_a6cd_0242ac1c0002row32_col0\" class=\"data row32 col0\" >-0.219832</td>\n",
              "                        <td id=\"T_d81fefa4_5562_11ec_a6cd_0242ac1c0002row32_col1\" class=\"data row32 col1\" >-0.220181</td>\n",
              "                        <td id=\"T_d81fefa4_5562_11ec_a6cd_0242ac1c0002row32_col2\" class=\"data row32 col2\" >-0.004907</td>\n",
              "                        <td id=\"T_d81fefa4_5562_11ec_a6cd_0242ac1c0002row32_col3\" class=\"data row32 col3\" >-0.005797</td>\n",
              "                        <td id=\"T_d81fefa4_5562_11ec_a6cd_0242ac1c0002row32_col4\" class=\"data row32 col4\" >-0.008209</td>\n",
              "                        <td id=\"T_d81fefa4_5562_11ec_a6cd_0242ac1c0002row32_col5\" class=\"data row32 col5\" >0.155037</td>\n",
              "                        <td id=\"T_d81fefa4_5562_11ec_a6cd_0242ac1c0002row32_col6\" class=\"data row32 col6\" >0.004753</td>\n",
              "                        <td id=\"T_d81fefa4_5562_11ec_a6cd_0242ac1c0002row32_col7\" class=\"data row32 col7\" >-0.037066</td>\n",
              "                        <td id=\"T_d81fefa4_5562_11ec_a6cd_0242ac1c0002row32_col8\" class=\"data row32 col8\" >0.004429</td>\n",
              "                        <td id=\"T_d81fefa4_5562_11ec_a6cd_0242ac1c0002row32_col9\" class=\"data row32 col9\" >-0.009186</td>\n",
              "                        <td id=\"T_d81fefa4_5562_11ec_a6cd_0242ac1c0002row32_col10\" class=\"data row32 col10\" >0.074407</td>\n",
              "                        <td id=\"T_d81fefa4_5562_11ec_a6cd_0242ac1c0002row32_col11\" class=\"data row32 col11\" >-0.021698</td>\n",
              "                        <td id=\"T_d81fefa4_5562_11ec_a6cd_0242ac1c0002row32_col12\" class=\"data row32 col12\" >-0.019607</td>\n",
              "                        <td id=\"T_d81fefa4_5562_11ec_a6cd_0242ac1c0002row32_col13\" class=\"data row32 col13\" >-0.020696</td>\n",
              "                        <td id=\"T_d81fefa4_5562_11ec_a6cd_0242ac1c0002row32_col14\" class=\"data row32 col14\" >0.044475</td>\n",
              "                        <td id=\"T_d81fefa4_5562_11ec_a6cd_0242ac1c0002row32_col15\" class=\"data row32 col15\" >-0.021087</td>\n",
              "                        <td id=\"T_d81fefa4_5562_11ec_a6cd_0242ac1c0002row32_col16\" class=\"data row32 col16\" >-0.225960</td>\n",
              "                        <td id=\"T_d81fefa4_5562_11ec_a6cd_0242ac1c0002row32_col17\" class=\"data row32 col17\" >-0.225959</td>\n",
              "                        <td id=\"T_d81fefa4_5562_11ec_a6cd_0242ac1c0002row32_col18\" class=\"data row32 col18\" >-0.039220</td>\n",
              "                        <td id=\"T_d81fefa4_5562_11ec_a6cd_0242ac1c0002row32_col19\" class=\"data row32 col19\" >-0.040232</td>\n",
              "                        <td id=\"T_d81fefa4_5562_11ec_a6cd_0242ac1c0002row32_col20\" class=\"data row32 col20\" >-0.090336</td>\n",
              "                        <td id=\"T_d81fefa4_5562_11ec_a6cd_0242ac1c0002row32_col21\" class=\"data row32 col21\" >0.046050</td>\n",
              "                        <td id=\"T_d81fefa4_5562_11ec_a6cd_0242ac1c0002row32_col22\" class=\"data row32 col22\" >0.140760</td>\n",
              "                        <td id=\"T_d81fefa4_5562_11ec_a6cd_0242ac1c0002row32_col23\" class=\"data row32 col23\" >0.475738</td>\n",
              "                        <td id=\"T_d81fefa4_5562_11ec_a6cd_0242ac1c0002row32_col24\" class=\"data row32 col24\" >0.330764</td>\n",
              "                        <td id=\"T_d81fefa4_5562_11ec_a6cd_0242ac1c0002row32_col25\" class=\"data row32 col25\" >-0.087217</td>\n",
              "                        <td id=\"T_d81fefa4_5562_11ec_a6cd_0242ac1c0002row32_col26\" class=\"data row32 col26\" >-0.010651</td>\n",
              "                        <td id=\"T_d81fefa4_5562_11ec_a6cd_0242ac1c0002row32_col27\" class=\"data row32 col27\" >nan</td>\n",
              "                        <td id=\"T_d81fefa4_5562_11ec_a6cd_0242ac1c0002row32_col28\" class=\"data row32 col28\" >-0.003116</td>\n",
              "                        <td id=\"T_d81fefa4_5562_11ec_a6cd_0242ac1c0002row32_col29\" class=\"data row32 col29\" >-0.001708</td>\n",
              "                        <td id=\"T_d81fefa4_5562_11ec_a6cd_0242ac1c0002row32_col30\" class=\"data row32 col30\" >-0.032310</td>\n",
              "                        <td id=\"T_d81fefa4_5562_11ec_a6cd_0242ac1c0002row32_col31\" class=\"data row32 col31\" >-0.029896</td>\n",
              "                        <td id=\"T_d81fefa4_5562_11ec_a6cd_0242ac1c0002row32_col32\" class=\"data row32 col32\" >1.000000</td>\n",
              "            </tr>\n",
              "    </tbody></table>"
            ],
            "text/plain": [
              "<pandas.io.formats.style.Styler at 0x7f1511bd7a50>"
            ]
          },
          "metadata": {},
          "execution_count": 26
        }
      ]
    },
    {
      "cell_type": "code",
      "metadata": {
        "colab": {
          "base_uri": "https://localhost:8080/"
        },
        "id": "7_C4g-wGkCqE",
        "outputId": "f4f53e8b-26fc-43b0-a3ab-815f9741476b"
      },
      "source": [
        "#Finding Point-Biserial correlation coefficient\n",
        "from scipy import stats\n",
        "stats.pointbiserialr(df['recoveries'],df['default_ind'])"
      ],
      "execution_count": null,
      "outputs": [
        {
          "output_type": "execute_result",
          "data": {
            "text/plain": [
              "PointbiserialrResult(correlation=0.47573804874765474, pvalue=0.0)"
            ]
          },
          "metadata": {},
          "execution_count": 27
        }
      ]
    },
    {
      "cell_type": "code",
      "metadata": {
        "colab": {
          "base_uri": "https://localhost:8080/",
          "height": 297
        },
        "id": "gbBM3flqoQ4g",
        "outputId": "5519cd04-4e53-4e31-bc7f-138c04726a7c"
      },
      "source": [
        "\"\"\"cor=df.corr()\n",
        "for col in df:\n",
        "  cor_target = abs(cor[col])\n",
        "  #Selecting highly correlated features\n",
        "  relevant_features = cor_target[cor_target>0.5]\n",
        "  print(relevant_features)\"\"\"\n",
        "\n",
        "# doesnt look good we can delete !!\n",
        "sns.regplot(x=\"out_prncp\", y=\"funded_amnt\", data=df)\n",
        "plt.ylim(0,)"
      ],
      "execution_count": null,
      "outputs": [
        {
          "output_type": "execute_result",
          "data": {
            "text/plain": [
              "(0.0, 43052.401137714936)"
            ]
          },
          "metadata": {},
          "execution_count": 28
        },
        {
          "output_type": "display_data",
          "data": {
            "image/png": "[encoded data removed]",
            "text/plain": [
              "<Figure size 432x288 with 1 Axes>"
            ]
          },
          "metadata": {
            "needs_background": "light"
          }
        }
      ]
    },
    {
      "cell_type": "code",
      "metadata": {
        "colab": {
          "base_uri": "https://localhost:8080/"
        },
        "id": "5KqAdxUu1lZU",
        "outputId": "881d5f89-c0a6-4d44-963a-03a9094ecc72"
      },
      "source": [
        "from scipy import stats\n",
        "pearson_coef, p_value = stats.pearsonr(df['out_prncp'], df['funded_amnt'])\n",
        "print(\"The Pearson Correlation Coefficient is\", pearson_coef, \" with a P-value of P =\", p_value)"
      ],
      "execution_count": null,
      "outputs": [
        {
          "output_type": "stream",
          "name": "stdout",
          "text": [
            "The Pearson Correlation Coefficient is 0.6417063804101886  with a P-value of P = 0.0\n"
          ]
        }
      ]
    },
    {
      "cell_type": "code",
      "metadata": {
        "colab": {
          "base_uri": "https://localhost:8080/",
          "height": 269
        },
        "id": "xqPkKKclQsJA",
        "outputId": "8ffc7fd8-0975-4a1c-a90a-330b813148be"
      },
      "source": [
        "#Pending vizualisations\n",
        "\n",
        "#date vs loan_amnt\n",
        "#date vs funded_amnt\n",
        "\n",
        "df['int_rate'].plot.box()\n",
        "plt.show()\n"
      ],
      "execution_count": null,
      "outputs": [
        {
          "output_type": "display_data",
          "data": {
            "image/png": "[encoded data removed]",
            "text/plain": [
              "<Figure size 432x288 with 1 Axes>"
            ]
          },
          "metadata": {
            "needs_background": "light"
          }
        }
      ]
    },
    {
      "cell_type": "code",
      "metadata": {
        "colab": {
          "base_uri": "https://localhost:8080/"
        },
        "id": "t9Lk06jO6oRM",
        "outputId": "6be03cd7-c903-4e1c-abb7-2645eafd6a1d"
      },
      "source": [
        "from sklearn.model_selection import train_test_split\n",
        "print(cols)\n",
        "print(len(cols))\n",
        "X=df[cols].drop('default_ind', axis=1)\n",
        "y=df.default_ind\n",
        "X_train,X_test,y_train,y_test=train_test_split(X,y,test_size=0.30,random_state=42)\n",
        "print(X_train.shape)\n",
        "print(X_test.shape)\n",
        "print(y_train.shape)\n",
        "print(y_test.shape)"
      ],
      "execution_count": null,
      "outputs": [
        {
          "output_type": "stream",
          "name": "stdout",
          "text": [
            "Index(['id', 'member_id', 'loan_amnt', 'funded_amnt', 'funded_amnt_inv',\n",
            "       'int_rate', 'installment', 'annual_inc', 'dti', 'delinq_2yrs',\n",
            "       'inq_last_6mths', 'open_acc', 'pub_rec', 'revol_bal', 'revol_util',\n",
            "       'total_acc', 'out_prncp', 'out_prncp_inv', 'total_pymnt',\n",
            "       'total_pymnt_inv', 'total_rec_prncp', 'total_rec_int',\n",
            "       'total_rec_late_fee', 'recoveries', 'collection_recovery_fee',\n",
            "       'last_pymnt_amnt', 'collections_12_mths_ex_med', 'policy_code',\n",
            "       'acc_now_delinq', 'tot_coll_amt', 'tot_cur_bal', 'total_rev_hi_lim',\n",
            "       'default_ind'],\n",
            "      dtype='object')\n",
            "33\n",
            "(599178, 32)\n",
            "(256791, 32)\n",
            "(599178,)\n",
            "(256791,)\n"
          ]
        }
      ]
    },
    {
      "cell_type": "code",
      "metadata": {
        "colab": {
          "base_uri": "https://localhost:8080/"
        },
        "id": "SnFLGfSh6oW3",
        "outputId": "f4fba585-9207-4293-ef9d-9d87b179837d"
      },
      "source": [
        "from sklearn.linear_model import LogisticRegression\n",
        "from sklearn.model_selection import train_test_split\n",
        "from sklearn.pipeline import make_pipeline\n",
        "from sklearn.preprocessing import StandardScaler\n",
        "from sklearn.metrics import accuracy_score\n",
        "\n",
        "pipe = make_pipeline(StandardScaler(), LogisticRegression(solver='lbfgs', max_iter=400))\n",
        "Pipeline=pipe.fit(X_train, y_train)  # apply scaling on training data\n",
        "pipe.score(X_test, y_test) \n",
        "y_pred=pipe.predict(X_test)\n",
        "score =accuracy_score(y_test,y_pred)\n",
        "score"
      ],
      "execution_count": null,
      "outputs": [
        {
          "output_type": "execute_result",
          "data": {
            "text/plain": [
              "0.9975077008150597"
            ]
          },
          "metadata": {},
          "execution_count": 34
        }
      ]
    },
    {
      "cell_type": "code",
      "metadata": {
        "colab": {
          "base_uri": "https://localhost:8080/",
          "height": 296
        },
        "id": "113R1TfAV42C",
        "outputId": "bdc18d63-b18a-4acd-e38e-191f6cc39727"
      },
      "source": [
        "from sklearn.metrics import roc_curve, auc, roc_auc_score\n",
        "\n",
        "#Calculating probability scores of each point in the training set\n",
        "y_train_score = pipe.decision_function(X_train)\n",
        "\n",
        "#Calculating FPR, TPR and thresholds for the training set\n",
        "train_fpr, train_tpr, thresholds = roc_curve(y_train, y_train_score)\n",
        "\n",
        "#Calculating probability scores of each point in the test set\n",
        "y_test_score = pipe.decision_function(X_test)\n",
        "\n",
        "#Calculating FPR, TPR, and thresholds for the training set\n",
        "test_fpr, test_tpr, test_thresholds = roc_curve(y_test, y_test_score)\n",
        "\n",
        "plt.title('ROC Curve')\n",
        "plt.xlabel('False Positive Rate')\n",
        "plt.ylabel('True Positive Rate ')\n",
        "plt.plot(test_fpr, test_tpr, color='darkorange', label='ROC Curve')"
      ],
      "execution_count": null,
      "outputs": [
        {
          "output_type": "execute_result",
          "data": {
            "text/plain": [
              "[<matplotlib.lines.Line2D at 0x7fcf27001c10>]"
            ]
          },
          "metadata": {},
          "execution_count": 35
        },
        {
          "output_type": "display_data",
          "data": {
            "image/png": "[encoded data removed]",
            "text/plain": [
              "<Figure size 432x288 with 1 Axes>"
            ]
          },
          "metadata": {
            "needs_background": "light"
          }
        }
      ]
    },
    {
      "cell_type": "code",
      "metadata": {
        "id": "ta8A-9ukZWKQ",
        "colab": {
          "base_uri": "https://localhost:8080/"
        },
        "outputId": "b030bca8-dbbd-43ba-9cfb-8a85a1dc0dd5"
      },
      "source": [
        "roc_auc_score(y, pipe.decision_function(X))"
      ],
      "execution_count": null,
      "outputs": [
        {
          "output_type": "execute_result",
          "data": {
            "text/plain": [
              "0.9950004732183636"
            ]
          },
          "metadata": {},
          "execution_count": 36
        }
      ]
    },
    {
      "cell_type": "code",
      "metadata": {
        "colab": {
          "base_uri": "https://localhost:8080/",
          "height": 409
        },
        "id": "oMYGaHNtG3_X",
        "outputId": "9df82098-621f-4fc1-fadd-46a74a383c1c"
      },
      "source": [
        "from sklearn.metrics import confusion_matrix, precision_score, recall_score, f1_score\n",
        "from sklearn.metrics import plot_confusion_matrix\n",
        "class_names = ['No','Yes']\n",
        "plot_confusion_matrix(pipe, X_test, y_test,\n",
        "                              display_labels=class_names,\n",
        "                              cmap=\"Oranges\")\n",
        "plt.title('Logistic Classifier', fontsize = 15)\n",
        "plt.ylabel('Actual',fontsize = 15)\n",
        "plt.xlabel('Predicted',fontsize=15)\n",
        "print(\"precision: \",precision_score(y_test,y_pred))\n",
        "print(\"recall_score: \",recall_score(y_test,y_pred))\n",
        "print(\"f1_score: \",f1_score(y_test,y_pred))"
      ],
      "execution_count": null,
      "outputs": [
        {
          "output_type": "stream",
          "name": "stderr",
          "text": [
            "/usr/local/lib/python3.7/dist-packages/sklearn/utils/deprecation.py:87: FutureWarning: Function plot_confusion_matrix is deprecated; Function `plot_confusion_matrix` is deprecated in 1.0 and will be removed in 1.2. Use one of the class methods: ConfusionMatrixDisplay.from_predictions or ConfusionMatrixDisplay.from_estimator.\n",
            "  warnings.warn(msg, category=FutureWarning)\n"
          ]
        },
        {
          "output_type": "stream",
          "name": "stdout",
          "text": [
            "precision:  0.9993231046931408\n",
            "recall_score:  0.9546630262968817\n",
            "f1_score:  0.9764826927316823\n"
          ]
        },
        {
          "output_type": "display_data",
          "data": {
            "image/png": "[encoded data removed]",
            "text/plain": [
              "<Figure size 432x288 with 2 Axes>"
            ]
          },
          "metadata": {
            "needs_background": "light"
          }
        }
      ]
    },
    {
      "cell_type": "code",
      "metadata": {
        "id": "AhR6A2H5_u3N",
        "colab": {
          "base_uri": "https://localhost:8080/"
        },
        "outputId": "3acb0fc4-c751-4a6e-ce94-89689ffb133d"
      },
      "source": [
        "from sklearn.svm import SVC\n",
        "\n",
        "svmc =make_pipeline(StandardScaler(),SVC(gamma='auto',kernel='rbf'))\n",
        "svmc.fit(X_train,y_train)\n",
        "svmc.score(X_test,y_test)\n",
        "y_pred=svmc.predict(X_test)\n",
        "score =accuracy_score(y_test,y_pred)\n",
        "score\n"
      ],
      "execution_count": null,
      "outputs": [
        {
          "output_type": "execute_result",
          "data": {
            "text/plain": [
              "0.9971143848499363"
            ]
          },
          "metadata": {},
          "execution_count": 38
        }
      ]
    },
    {
      "cell_type": "code",
      "metadata": {
        "colab": {
          "base_uri": "https://localhost:8080/",
          "height": 312
        },
        "id": "GvtbTKLXF4Mv",
        "outputId": "d722c976-42c2-4194-fe77-2d17cd2222bb"
      },
      "source": [
        "from sklearn.metrics import roc_curve, auc, roc_auc_score\n",
        "\n",
        "#Calculating probability scores of each point in the training set\n",
        "y_train_score = svmc.decision_function(X_train)\n",
        "\n",
        "#Calculating FPR, TPR and thresholds for the training set\n",
        "train_fpr, train_tpr, thresholds = roc_curve(y_train, y_train_score)\n",
        "\n",
        "#Calculating probability scores of each point in the test set\n",
        "y_test_score = pipe.decision_function(X_test)\n",
        "\n",
        "#Calculating FPR, TPR, and thresholds for the training set\n",
        "test_fpr, test_tpr, test_thresholds = roc_curve(y_test, y_test_score)\n",
        "\n",
        "plt.title('ROC Curve')\n",
        "plt.xlabel('False Positive Rate')\n",
        "plt.ylabel('True Positive Rate ')\n",
        "plt.plot(test_fpr, test_tpr, color='darkorange', label='ROC Curve')"
      ],
      "execution_count": null,
      "outputs": [
        {
          "output_type": "execute_result",
          "data": {
            "text/plain": [
              "[<matplotlib.lines.Line2D at 0x7fcf3310be50>]"
            ]
          },
          "metadata": {},
          "execution_count": 44
        },
        {
          "output_type": "display_data",
          "data": {
            "image/png": "[encoded data removed]",
            "text/plain": [
              "<Figure size 432x288 with 1 Axes>"
            ]
          },
          "metadata": {
            "needs_background": "light"
          }
        }
      ]
    },
    {
      "cell_type": "code",
      "metadata": {
        "colab": {
          "base_uri": "https://localhost:8080/"
        },
        "id": "YmjaI3miF8Lc",
        "outputId": "62e2e7bc-77f7-43b6-bdbb-f1671a5dbefa"
      },
      "source": [
        "roc_auc_score(y, svmc.decision_function(X))"
      ],
      "execution_count": null,
      "outputs": [
        {
          "output_type": "execute_result",
          "data": {
            "text/plain": [
              "0.9974214211286928"
            ]
          },
          "metadata": {},
          "execution_count": 45
        }
      ]
    },
    {
      "cell_type": "code",
      "metadata": {
        "colab": {
          "base_uri": "https://localhost:8080/",
          "height": 409
        },
        "id": "EmMjEZas9AEo",
        "outputId": "9c09955c-4fd6-4f89-ff71-ccb00fcccaac"
      },
      "source": [
        "from sklearn.metrics import confusion_matrix, precision_score, recall_score, f1_score\n",
        "from sklearn.metrics import plot_confusion_matrix\n",
        "class_names = ['No','Yes']\n",
        "plot_confusion_matrix(svmc, X_test, y_test,\n",
        "                              display_labels=class_names,\n",
        "                              cmap=\"Oranges\")\n",
        "plt.title('Support Vector Machine', fontsize = 15)\n",
        "plt.ylabel('Actual',fontsize = 15)\n",
        "plt.xlabel('Predicted',fontsize=15)\n",
        "print(\"precision: \",precision_score(y_test,y_pred))\n",
        "print(\"recall_score: \",recall_score(y_test,y_pred))\n",
        "print(\"f1_score: \",f1_score(y_test,y_pred))"
      ],
      "execution_count": null,
      "outputs": [
        {
          "output_type": "stream",
          "name": "stderr",
          "text": [
            "/usr/local/lib/python3.7/dist-packages/sklearn/utils/deprecation.py:87: FutureWarning: Function plot_confusion_matrix is deprecated; Function `plot_confusion_matrix` is deprecated in 1.0 and will be removed in 1.2. Use one of the class methods: ConfusionMatrixDisplay.from_predictions or ConfusionMatrixDisplay.from_estimator.\n",
            "  warnings.warn(msg, category=FutureWarning)\n"
          ]
        },
        {
          "output_type": "stream",
          "name": "stdout",
          "text": [
            "precision:  1.0\n",
            "recall_score:  0.9467595918953873\n",
            "f1_score:  0.97265178077136\n"
          ]
        },
        {
          "output_type": "display_data",
          "data": {
            "image/png": "[encoded data removed]",
            "text/plain": [
              "<Figure size 432x288 with 2 Axes>"
            ]
          },
          "metadata": {
            "needs_background": "light"
          }
        }
      ]
    },
    {
      "cell_type": "code",
      "metadata": {
        "id": "yww3xUm4iHMR",
        "colab": {
          "base_uri": "https://localhost:8080/"
        },
        "outputId": "3a4a3009-3417-4605-b190-8cde9607b466"
      },
      "source": [
        "from sklearn.neighbors import KNeighborsClassifier\n",
        "\n",
        "#Create KNN Classifier\n",
        "knn = KNeighborsClassifier(n_neighbors=3)\n",
        "\n",
        "#Train the model using the training sets\n",
        "knn.fit(X_train, y_train)\n",
        "\n",
        "#Predict the response for test dataset\n",
        "y_pred = knn.predict(X_test)\n",
        "score =accuracy_score(y_test,y_pred)\n",
        "score"
      ],
      "execution_count": null,
      "outputs": [
        {
          "output_type": "execute_result",
          "data": {
            "text/plain": [
              "0.9498152193807415"
            ]
          },
          "metadata": {},
          "execution_count": 41
        }
      ]
    },
    {
      "cell_type": "code",
      "metadata": {
        "colab": {
          "base_uri": "https://localhost:8080/",
          "height": 409
        },
        "id": "SRiLYCw49LOT",
        "outputId": "45650f8d-caee-4f76-bfff-ed1cee623940"
      },
      "source": [
        "from sklearn.metrics import confusion_matrix, precision_score, recall_score, f1_score\n",
        "from sklearn.metrics import plot_confusion_matrix\n",
        "class_names = ['No','Yes']\n",
        "plot_confusion_matrix(knn, X_test, y_test,\n",
        "                              display_labels=class_names,\n",
        "                              cmap=\"Oranges\")\n",
        "plt.title('K Nearest Neighbors (k=3)', fontsize = 15)\n",
        "plt.ylabel('Actual',fontsize = 15)\n",
        "plt.xlabel('Predicted',fontsize=15)\n",
        "print(\"precision: \",precision_score(y_test,y_pred))\n",
        "print(\"recall_score: \",recall_score(y_test,y_pred))\n",
        "print(\"f1_score: \",f1_score(y_test,y_pred))"
      ],
      "execution_count": null,
      "outputs": [
        {
          "output_type": "stream",
          "name": "stderr",
          "text": [
            "/usr/local/lib/python3.7/dist-packages/sklearn/utils/deprecation.py:87: FutureWarning: Function plot_confusion_matrix is deprecated; Function `plot_confusion_matrix` is deprecated in 1.0 and will be removed in 1.2. Use one of the class methods: ConfusionMatrixDisplay.from_predictions or ConfusionMatrixDisplay.from_estimator.\n",
            "  warnings.warn(msg, category=FutureWarning)\n"
          ]
        },
        {
          "output_type": "stream",
          "name": "stdout",
          "text": [
            "precision:  0.6156607583576397\n",
            "recall_score:  0.197154763615462\n",
            "f1_score:  0.29866666666666664\n"
          ]
        },
        {
          "output_type": "display_data",
          "data": {
            "image/png": "[encoded data removed]",
            "text/plain": [
              "<Figure size 432x288 with 2 Axes>"
            ]
          },
          "metadata": {
            "needs_background": "light"
          }
        }
      ]
    },
    {
      "cell_type": "code",
      "metadata": {
        "colab": {
          "base_uri": "https://localhost:8080/",
          "height": 235
        },
        "id": "ZDVcTW-fGJcg",
        "outputId": "a672c548-6273-4f63-93d3-cee7eae80422"
      },
      "source": [
        "'''\n",
        "from sklearn.metrics import roc_curve, auc, roc_auc_score\n",
        "\n",
        "#Calculating probability scores of each point in the training set\n",
        "y_train_score = knn.decision_function(X_train)\n",
        "\n",
        "#Calculating FPR, TPR and thresholds for the training set\n",
        "train_fpr, train_tpr, thresholds = roc_curve(y_train, y_train_score)\n",
        "\n",
        "#Calculating probability scores of each point in the test set\n",
        "y_test_score = pipe.decision_function(X_test)\n",
        "\n",
        "#Calculating FPR, TPR, and thresholds for the training set\n",
        "test_fpr, test_tpr, test_thresholds = roc_curve(y_test, y_test_score)\n",
        "\n",
        "plt.title('ROC Curve')\n",
        "plt.xlabel('False Positive Rate')\n",
        "plt.ylabel('True Positive Rate ')\n",
        "plt.plot(test_fpr, test_tpr, color='darkorange', label='ROC Curve')\n",
        "'''\n"
      ],
      "execution_count": null,
      "outputs": [
        {
          "output_type": "error",
          "ename": "AttributeError",
          "evalue": "ignored",
          "traceback": [
            "\u001b[0;31m---------------------------------------------------------------------------\u001b[0m",
            "\u001b[0;31mAttributeError\u001b[0m                            Traceback (most recent call last)",
            "\u001b[0;32m<ipython-input-43-9cff36139533>\u001b[0m in \u001b[0;36m<module>\u001b[0;34m()\u001b[0m\n\u001b[1;32m      2\u001b[0m \u001b[0;34m\u001b[0m\u001b[0m\n\u001b[1;32m      3\u001b[0m \u001b[0;31m#Calculating probability scores of each point in the training set\u001b[0m\u001b[0;34m\u001b[0m\u001b[0;34m\u001b[0m\u001b[0;34m\u001b[0m\u001b[0m\n\u001b[0;32m----> 4\u001b[0;31m \u001b[0my_train_score\u001b[0m \u001b[0;34m=\u001b[0m \u001b[0mknn\u001b[0m\u001b[0;34m.\u001b[0m\u001b[0mdecision_function\u001b[0m\u001b[0;34m(\u001b[0m\u001b[0mX_train\u001b[0m\u001b[0;34m)\u001b[0m\u001b[0;34m\u001b[0m\u001b[0;34m\u001b[0m\u001b[0m\n\u001b[0m\u001b[1;32m      5\u001b[0m \u001b[0;34m\u001b[0m\u001b[0m\n\u001b[1;32m      6\u001b[0m \u001b[0;31m#Calculating FPR, TPR and thresholds for the training set\u001b[0m\u001b[0;34m\u001b[0m\u001b[0;34m\u001b[0m\u001b[0;34m\u001b[0m\u001b[0m\n",
            "\u001b[0;31mAttributeError\u001b[0m: 'KNeighborsClassifier' object has no attribute 'decision_function'"
          ]
        }
      ]
    },
    {
      "cell_type": "code",
      "metadata": {
        "id": "ahG39JBZUlIE"
      },
      "source": [
        ""
      ],
      "execution_count": null,
      "outputs": []
    },
    {
      "cell_type": "code",
      "metadata": {
        "id": "Er54SWJQGKa2"
      },
      "source": [
        "#roc_auc_score(y, knn.decision_function(X))"
      ],
      "execution_count": null,
      "outputs": []
    },
    {
      "cell_type": "code",
      "metadata": {
        "id": "_x0BXx4oUlu9"
      },
      "source": [
        ""
      ],
      "execution_count": null,
      "outputs": []
    },
    {
      "cell_type": "code",
      "metadata": {
        "colab": {
          "base_uri": "https://localhost:8080/"
        },
        "id": "SeFsZ1c9nRCE",
        "outputId": "d1457143-bf88-43e8-c5f6-0197dee3bdb2"
      },
      "source": [
        "from sklearn.neighbors import KNeighborsClassifier\n",
        "knn = KNeighborsClassifier(n_neighbors=5)\n",
        "knn.fit(X_train, y_train)\n",
        "y_pred = knn.predict(X_test)\n",
        "score = accuracy_score(y_test, y_pred)\n",
        "score"
      ],
      "execution_count": null,
      "outputs": [
        {
          "output_type": "execute_result",
          "data": {
            "text/plain": [
              "0.9513144931091821"
            ]
          },
          "metadata": {},
          "execution_count": 46
        }
      ]
    },
    {
      "cell_type": "code",
      "metadata": {
        "id": "IaCdOJP6fKYE"
      },
      "source": [
        ""
      ],
      "execution_count": null,
      "outputs": []
    },
    {
      "cell_type": "code",
      "metadata": {
        "id": "lHZStOB6UmYB"
      },
      "source": [
        ""
      ],
      "execution_count": null,
      "outputs": []
    },
    {
      "cell_type": "code",
      "metadata": {
        "colab": {
          "base_uri": "https://localhost:8080/",
          "height": 409
        },
        "id": "fpDEqJ329QRu",
        "outputId": "4ac7aeac-caaa-4525-9eac-e27f37b86510"
      },
      "source": [
        "from sklearn.metrics import confusion_matrix, precision_score, recall_score, f1_score\n",
        "from sklearn.metrics import plot_confusion_matrix\n",
        "class_names = ['No','Yes']\n",
        "plot_confusion_matrix(knn, X_test, y_test,\n",
        "                              display_labels=class_names,\n",
        "                              cmap=\"Oranges\")\n",
        "plt.title('K Nearest Neighbors (k=5)', fontsize = 15)\n",
        "plt.ylabel('Actual',fontsize = 15)\n",
        "plt.xlabel('Predicted',fontsize=15)\n",
        "print(\"precision: \",precision_score(y_test,y_pred))\n",
        "print(\"recall_score: \",recall_score(y_test,y_pred))\n",
        "print(\"f1_score: \",f1_score(y_test,y_pred))"
      ],
      "execution_count": null,
      "outputs": [
        {
          "metadata": {
            "tags": null
          },
          "name": "stderr",
          "output_type": "stream",
          "text": [
            "/usr/local/lib/python3.7/dist-packages/sklearn/utils/deprecation.py:87: FutureWarning: Function plot_confusion_matrix is deprecated; Function `plot_confusion_matrix` is deprecated in 1.0 and will be removed in 1.2. Use one of the class methods: ConfusionMatrixDisplay.from_predictions or ConfusionMatrixDisplay.from_estimator.\n",
            "  warnings.warn(msg, category=FutureWarning)\n"
          ]
        },
        {
          "output_type": "stream",
          "name": "stdout",
          "text": [
            "precision:  0.7677760968229954\n",
            "recall_score:  0.1458542894093979\n",
            "f1_score:  0.24513947590870666\n"
          ]
        },
        {
          "output_type": "display_data",
          "data": {
            "image/png": "[encoded data removed]",
            "text/plain": [
              "<Figure size 432x288 with 2 Axes>"
            ]
          },
          "metadata": {
            "needs_background": "light"
          }
        }
      ]
    },
    {
      "cell_type": "code",
      "metadata": {
        "colab": {
          "base_uri": "https://localhost:8080/"
        },
        "id": "CjCQFdC31ckl",
        "outputId": "bfee6560-9208-44c0-ce4a-059d51db4002"
      },
      "source": [
        "from sklearn.neighbors import KNeighborsClassifier\n",
        "knn = KNeighborsClassifier(n_neighbors=10)\n",
        "knn.fit(X_train, y_train)\n",
        "y_pred = knn.predict(X_test)\n",
        "score = accuracy_score(y_test, y_pred)\n",
        "score"
      ],
      "execution_count": null,
      "outputs": [
        {
          "output_type": "execute_result",
          "data": {
            "text/plain": [
              "0.9497061812914004"
            ]
          },
          "metadata": {},
          "execution_count": 48
        }
      ]
    },
    {
      "cell_type": "code",
      "metadata": {
        "colab": {
          "base_uri": "https://localhost:8080/",
          "height": 409
        },
        "id": "3LCNHO-tOsS5",
        "outputId": "51320efb-39e0-44ff-e439-67b1809f9a7f"
      },
      "source": [
        "from sklearn.metrics import confusion_matrix, precision_score, recall_score, f1_score\n",
        "from sklearn.metrics import plot_confusion_matrix\n",
        "class_names = ['No','Yes']\n",
        "plot_confusion_matrix(knn, X_test, y_test,\n",
        "                              display_labels=class_names,\n",
        "                              cmap=\"Oranges\")\n",
        "plt.title('K Nearest Neighbors (k=10)', fontsize = 15)\n",
        "plt.ylabel('Actual',fontsize = 15)\n",
        "plt.xlabel('Predicted',fontsize=15)\n",
        "print(\"precision: \",precision_score(y_test,y_pred))\n",
        "print(\"recall_score: \",recall_score(y_test,y_pred))\n",
        "print(\"f1_score: \",f1_score(y_test,y_pred))"
      ],
      "execution_count": null,
      "outputs": [
        {
          "output_type": "stream",
          "name": "stderr",
          "text": [
            "/usr/local/lib/python3.7/dist-packages/sklearn/utils/deprecation.py:87: FutureWarning: Function plot_confusion_matrix is deprecated; Function `plot_confusion_matrix` is deprecated in 1.0 and will be removed in 1.2. Use one of the class methods: ConfusionMatrixDisplay.from_predictions or ConfusionMatrixDisplay.from_estimator.\n",
            "  warnings.warn(msg, category=FutureWarning)\n"
          ]
        },
        {
          "output_type": "stream",
          "name": "stdout",
          "text": [
            "precision:  0.9665116279069768\n",
            "recall_score:  0.07465153039229774\n",
            "f1_score:  0.1385980124057894\n"
          ]
        },
        {
          "output_type": "display_data",
          "data": {
            "image/png": "[encoded data removed]",
            "text/plain": [
              "<Figure size 432x288 with 2 Axes>"
            ]
          },
          "metadata": {
            "needs_background": "light"
          }
        }
      ]
    },
    {
      "cell_type": "code",
      "metadata": {
        "id": "n58vvjpcrJsx",
        "colab": {
          "base_uri": "https://localhost:8080/"
        },
        "outputId": "4adb35c0-3128-4c5a-ec45-ed33345feadf"
      },
      "source": [
        "from sklearn.ensemble import RandomForestClassifier\n",
        "from sklearn.model_selection import validation_curve\n",
        "\n",
        "#Cross validation test to find the best parameters for the model\n",
        "\n",
        "param_range = [1, 2, 3, 4, 5]\n",
        "train_scores, test_scores = validation_curve(RandomForestClassifier(), X=X_train, y=y_train, param_name='min_samples_leaf', param_range=param_range, cv=4)\n",
        "print(\"N_ESTIMATORS\")\n",
        "print(param_range)\n",
        "print(train_scores)\n",
        "print(test_scores)\n",
        "\n",
        "\n",
        "\n",
        "\n",
        "\n",
        "\n",
        "\n"
      ],
      "execution_count": null,
      "outputs": [
        {
          "output_type": "stream",
          "name": "stdout",
          "text": [
            "N_ESTIMATORS\n",
            "[1, 2, 3, 4, 5]\n",
            "[[0.99999777 1.         0.99999777 0.99999777]\n",
            " [0.99885621 0.99893632 0.99882061 0.99886289]\n",
            " [0.99845566 0.99851129 0.99844231 0.99849794]\n",
            " [0.99829989 0.99834662 0.99826429 0.99837333]\n",
            " [0.9981953  0.99825984 0.99821979 0.99826874]]\n",
            "[[0.99804399 0.99785707 0.99811741 0.99791046]\n",
            " [0.99798391 0.9978504  0.9980373  0.99788376]\n",
            " [0.99793051 0.99779699 0.9980373  0.99783703]\n",
            " [0.99793718 0.99780367 0.99797055 0.9977903 ]\n",
            " [0.99788377 0.99776361 0.9979839  0.9977636 ]]\n"
          ]
        }
      ]
    },
    {
      "cell_type": "code",
      "metadata": {
        "id": "TL9Q5OoJ3x6R",
        "colab": {
          "base_uri": "https://localhost:8080/"
        },
        "outputId": "d8efbe12-b029-42d7-adfa-514ad85c4100"
      },
      "source": [
        "from sklearn.ensemble import RandomForestClassifier\n",
        "from sklearn.metrics import accuracy_score\n",
        "#rfc = RandomForestClassifier(n_estimators=100, min_samples_split=10, random_state=0)\n",
        "rfc = RandomForestClassifier(random_state=0)\n",
        "\n",
        "rfc.fit(X_train, y_train)\n",
        "\n",
        "y_pred = rfc.predict(X_test)\n",
        "score = accuracy_score(y_test, y_pred)\n",
        "print(score)"
      ],
      "execution_count": null,
      "outputs": [
        {
          "output_type": "stream",
          "name": "stdout",
          "text": [
            "0.9980567854792419\n"
          ]
        }
      ]
    },
    {
      "cell_type": "code",
      "metadata": {
        "colab": {
          "base_uri": "https://localhost:8080/",
          "height": 409
        },
        "id": "Z_DaW23BLFg_",
        "outputId": "f911a4b8-196f-47af-cfe9-52da641fb55a"
      },
      "source": [
        "from sklearn.metrics import confusion_matrix, precision_score, recall_score, f1_score\n",
        "from sklearn.metrics import plot_confusion_matrix\n",
        "class_names = ['No','Yes']\n",
        "plot_confusion_matrix(rfc, X_test, y_test,\n",
        "                              display_labels=class_names,\n",
        "                              cmap=\"Oranges\")\n",
        "plt.title('Random Forest Classifier', fontsize = 15)\n",
        "plt.ylabel('Actual',fontsize = 15)\n",
        "plt.xlabel('Predicted',fontsize=15)\n",
        "print(\"precision: \",precision_score(y_test,y_pred))\n",
        "print(\"recall_score: \",recall_score(y_test,y_pred))\n",
        "print(\"f1_score: \",f1_score(y_test,y_pred))"
      ],
      "execution_count": null,
      "outputs": [
        {
          "output_type": "stream",
          "name": "stderr",
          "text": [
            "/usr/local/lib/python3.7/dist-packages/sklearn/utils/deprecation.py:87: FutureWarning: Function plot_confusion_matrix is deprecated; Function `plot_confusion_matrix` is deprecated in 1.0 and will be removed in 1.2. Use one of the class methods: ConfusionMatrixDisplay.from_predictions or ConfusionMatrixDisplay.from_estimator.\n",
            "  warnings.warn(msg, category=FutureWarning)\n"
          ]
        },
        {
          "output_type": "stream",
          "name": "stdout",
          "text": [
            "precision:  0.999553272280545\n",
            "recall_score:  0.9645782440005748\n",
            "f1_score:  0.9817543603056785\n"
          ]
        },
        {
          "output_type": "display_data",
          "data": {
            "image/png": "[encoded data removed]",
            "text/plain": [
              "<Figure size 432x288 with 2 Axes>"
            ]
          },
          "metadata": {
            "needs_background": "light"
          }
        }
      ]
    },
    {
      "cell_type": "code",
      "metadata": {
        "colab": {
          "base_uri": "https://localhost:8080/",
          "height": 312
        },
        "id": "AlpjkVWSGZWN",
        "outputId": "98a450a5-fc1d-4090-8cce-461f6b63e4de"
      },
      "source": [
        "from sklearn.metrics import roc_curve, auc, roc_auc_score\n",
        "\n",
        "#Calculating probability scores of each point in the training set\n",
        "y_train_score = rfc.predict_proba(X_train)\n",
        "\n",
        "#Calculating FPR, TPR and thresholds for the training set\n",
        "train_fpr, train_tpr, thresholds = roc_curve(y_train, y_train_score[:,1])\n",
        "\n",
        "#Calculating probability scores of each point in the test set\n",
        "y_test_score = rfc.predict_proba(X_test)\n",
        "\n",
        "#Calculating FPR, TPR, and thresholds for the training set\n",
        "test_fpr, test_tpr, test_thresholds = roc_curve(y_test, y_test_score[:,1])\n",
        "\n",
        "plt.title('ROC Curve')\n",
        "plt.xlabel('False Positive Rate')\n",
        "plt.ylabel('True Positive Rate ')\n",
        "plt.plot(test_fpr, test_tpr, color='darkorange', label='ROC Curve')"
      ],
      "execution_count": null,
      "outputs": [
        {
          "output_type": "execute_result",
          "data": {
            "text/plain": [
              "[<matplotlib.lines.Line2D at 0x7f3273f58210>]"
            ]
          },
          "metadata": {},
          "execution_count": 31
        },
        {
          "output_type": "display_data",
          "data": {
            "image/png": "[encoded data removed]",
            "text/plain": [
              "<Figure size 432x288 with 1 Axes>"
            ]
          },
          "metadata": {
            "needs_background": "light"
          }
        }
      ]
    },
    {
      "cell_type": "code",
      "metadata": {
        "id": "-3B5HGrEUqhu",
        "colab": {
          "base_uri": "https://localhost:8080/"
        },
        "outputId": "1af1c600-1c88-4aca-fdc9-b074e66a2218"
      },
      "source": [
        "roc_auc_score(y_test, y_test_score[:,1])"
      ],
      "execution_count": null,
      "outputs": [
        {
          "output_type": "execute_result",
          "data": {
            "text/plain": [
              "0.9984122523692611"
            ]
          },
          "metadata": {},
          "execution_count": 34
        }
      ]
    }
  ]
}